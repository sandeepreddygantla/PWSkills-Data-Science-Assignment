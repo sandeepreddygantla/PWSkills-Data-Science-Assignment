{
 "cells": [
  {
   "cell_type": "markdown",
   "id": "d53ef9c0-fec5-4f9f-b256-daffb5740899",
   "metadata": {},
   "source": [
    "# Q1. Explain Class and Object with respect to Object-Oriented Programming. Give a suitable example."
   ]
  },
  {
   "cell_type": "markdown",
   "id": "aaacbcaa-a16a-4953-82f3-9c76edf426dc",
   "metadata": {},
   "source": [
    "#### A class is a blueprint for creating objects, which are instances of a class. It defines a set of attributes (data) and methods (functions) that represent the characteristics and behaviors of an object.\n",
    "\n",
    "For example, a class \"Car\" can have attributes like model, color, and speed, and methods like start, stop, and accelerate.\n",
    "\n",
    "#### An object is an instance of a class, created at runtime. It has a unique identity and its own set of attributes and methods. \n",
    "\n",
    "For example, a car object could have the attribute values \"Toyota\", \"Red\", and \"60 mph\", and can perform the methods start, stop, and accelerate.\n",
    "\n"
   ]
  },
  {
   "cell_type": "markdown",
   "id": "21ebd0ac-88ec-4c51-aa8d-a9a4afab21ab",
   "metadata": {},
   "source": [
    "# Q2. Name the four pillars of OOPs."
   ]
  },
  {
   "cell_type": "markdown",
   "id": "241b9fd4-0b75-49f5-8656-fcb83c337da0",
   "metadata": {},
   "source": [
    "1. Abstraction\n",
    "2. Encapsulation\n",
    "3. Inheritance\n",
    "4. Polymorphism"
   ]
  },
  {
   "cell_type": "markdown",
   "id": "9acab7cd-f850-4c80-9496-0e4bcb037e94",
   "metadata": {},
   "source": [
    "# Q3. Explain why the __init__() function is used. Give a suitable example."
   ]
  },
  {
   "cell_type": "markdown",
   "id": "c6c4aff8-b8e0-47bc-9ba2-9733791b464d",
   "metadata": {},
   "source": [
    "The __init__ method is a special method in Python classes and is automatically called when an object of the class is created. It is used to initialize the object's attributes with default or user-defined values when the object is created. The __init__ method takes the first argument as a reference to the object being created and the rest of the arguments can be any number of parameters with default or user-defined values. Moreover __init__() is not a function it is a method in Python and it is commonly referred to as a constructor. The __init__ method is automatically called when an object of the class is created, and it is used to initialize the object's attributes with user-defined values or with default values. \n",
    "\n"
   ]
  },
  {
   "cell_type": "code",
   "execution_count": 18,
   "id": "c32a83e5-6cc8-4c4b-88d7-a13e7e997b0e",
   "metadata": {},
   "outputs": [
    {
     "name": "stdout",
     "output_type": "stream",
     "text": [
      "Toyota\n",
      "Camry\n",
      "2022\n"
     ]
    }
   ],
   "source": [
    "class Car:\n",
    "    def __init__(self, make, model, year):\n",
    "        self.make = make\n",
    "        self.model = model\n",
    "        self.year = year\n",
    "\n",
    "my_car = Car(\"Toyota\", \"Camry\", 2022)\n",
    "print(my_car.make) # Output: Toyota\n",
    "print(my_car.model) # Output: Camry\n",
    "print(my_car.year) # Output: 2022\n"
   ]
  },
  {
   "cell_type": "markdown",
   "id": "86d74466-e87e-409a-847e-be4fc89c4bbe",
   "metadata": {},
   "source": [
    "# Q4. Why self is used in OOPs?"
   ]
  },
  {
   "cell_type": "markdown",
   "id": "3479e76b-e540-4487-9bee-31b5f8512dfd",
   "metadata": {},
   "source": [
    "In object-oriented programming (OOP) in Python, self is a reference to the instance of the class. It is used to access the attributes and methods of the class from within the class definition.\n",
    "\n",
    "self is used as the first argument in a class method and it allows the method to access and modify the properties of the object it is called on. Without self, the method wouldn't know which object it is operating on, making it impossible to modify the object's attributes or call other methods on the object."
   ]
  },
  {
   "cell_type": "markdown",
   "id": "303285c9-81d7-4276-b933-3a940299b406",
   "metadata": {},
   "source": [
    "# Q5. What is inheritance? Give an example for each type of inheritance."
   ]
  },
  {
   "cell_type": "markdown",
   "id": "e165dff0-be62-48d8-925e-0d036f5df1fa",
   "metadata": {},
   "source": [
    "Inheritance is a mechanism in object-oriented programming that allows a class to inherit properties and methods from its parent class. This means that a child class can inherit attributes and behaviors from a parent class, without having to rewrite them.\n",
    "\n",
    "There are five types of inheritance in Python:\n",
    "\n",
    "Single Inheritance: A single child class inherits from a single parent class.\n"
   ]
  },
  {
   "cell_type": "code",
   "execution_count": 1,
   "id": "3b9620ba-2ea0-488d-9eb0-e32c51b705d1",
   "metadata": {},
   "outputs": [],
   "source": [
    "class Animal:\n",
    "    def __init__(self, name):\n",
    "        self.name = name\n",
    "        \n",
    "    def show_name(self):\n",
    "        print(f\"Animal name is {self.name}\")\n",
    "        \n",
    "class Dog(Animal):\n",
    "    pass\n"
   ]
  },
  {
   "cell_type": "markdown",
   "id": "8d2cc526-f7e3-4783-8b2f-e61082b93fbb",
   "metadata": {},
   "source": [
    "Multiple Inheritance: A single child class inherits from multiple parent classes.\n"
   ]
  },
  {
   "cell_type": "code",
   "execution_count": 3,
   "id": "6e96a5a6-9c7b-4df5-bd5e-0aeb4ddf5698",
   "metadata": {},
   "outputs": [],
   "source": [
    "class A:\n",
    "    def __init__(self):\n",
    "        self.varA = \"I am from class A\"\n",
    "        \n",
    "    def show_varA(self):\n",
    "        print(self.varA)\n",
    "        \n",
    "class B:\n",
    "    def __init__(self):\n",
    "        self.varB = \"I am from class B\"\n",
    "        \n",
    "    def show_varB(self):\n",
    "        print(self.varB)\n",
    "        \n",
    "class C(A, B):\n",
    "    pass"
   ]
  },
  {
   "cell_type": "markdown",
   "id": "2cf9b51b-61e8-40e1-88d6-d66e517a5bb3",
   "metadata": {},
   "source": [
    "Hierarchical Inheritance: Multiple child classes inherit from a single parent class.\n"
   ]
  },
  {
   "cell_type": "code",
   "execution_count": 4,
   "id": "2ad86e3d-0d4d-4ec4-9f51-f88d5b8fdbc5",
   "metadata": {},
   "outputs": [],
   "source": [
    "class Animal:\n",
    "    def __init__(self, name):\n",
    "        self.name = name\n",
    "        \n",
    "    def show_name(self):\n",
    "        print(f\"Animal name is {self.name}\")\n",
    "        \n",
    "class Dog(Animal):\n",
    "    pass\n",
    "\n",
    "class Cat(Animal):\n",
    "    pass\n"
   ]
  },
  {
   "cell_type": "markdown",
   "id": "341e23b6-db22-448d-b873-9ac8bd1c1d80",
   "metadata": {},
   "source": [
    "Hybrid Inheritance: A combination of multiple inheritance and hierarchical inheritance."
   ]
  },
  {
   "cell_type": "code",
   "execution_count": 5,
   "id": "0b8f7570-e6a5-4661-82df-c937ccbf4765",
   "metadata": {},
   "outputs": [],
   "source": [
    "class A:\n",
    "    def __init__(self):\n",
    "        self.varA = \"I am from class A\"\n",
    "        \n",
    "    def show_varA(self):\n",
    "        print(self.varA)\n",
    "        \n",
    "class B(A):\n",
    "    def __init__(self):\n",
    "        self.varB = \"I am from class B\"\n",
    "        super().__init__()\n",
    "        \n",
    "    def show_varB(self):\n",
    "        print(self.varB)\n",
    "        \n",
    "class C(B):\n",
    "    pass\n"
   ]
  },
  {
   "cell_type": "markdown",
   "id": "82e91ee4-886a-4f58-89d4-65686f135e79",
   "metadata": {},
   "source": [
    "Multi-level inheritance is a type of inheritance in object-oriented programming where a derived class inherits from a base class, which in turn inherits from another base class. "
   ]
  },
  {
   "cell_type": "code",
   "execution_count": 6,
   "id": "9513f4f0-f78a-4169-8515-9bef8ab6c89e",
   "metadata": {},
   "outputs": [],
   "source": [
    "class GrandParent:\n",
    "    def __init__(self, name, age):\n",
    "        self.name = name\n",
    "        self.age = age\n",
    "    \n",
    "    def display(self):\n",
    "        print(\"Name:\", self.name)\n",
    "        print(\"Age:\", self.age)\n",
    "        \n",
    "class Parent(GrandParent):\n",
    "    def __init__(self, name, age, occupation):\n",
    "        GrandParent.__init__(self, name, age)\n",
    "        self.occupation = occupation\n",
    "        \n",
    "    def display(self):\n",
    "        GrandParent.display(self)\n",
    "        print(\"Occupation:\", self.occupation)\n",
    "        \n",
    "class Child(Parent):\n",
    "    def __init__(self, name, age, occupation, grade):\n",
    "        Parent.__init__(self, name, age, occupation)\n",
    "        self.grade = grade\n",
    "        \n",
    "    def display(self):\n",
    "        Parent.display(self)\n",
    "        print(\"Grade:\", self.grade)\n"
   ]
  }
 ],
 "metadata": {
  "kernelspec": {
   "display_name": "Python 3 (ipykernel)",
   "language": "python",
   "name": "python3"
  },
  "language_info": {
   "codemirror_mode": {
    "name": "ipython",
    "version": 3
   },
   "file_extension": ".py",
   "mimetype": "text/x-python",
   "name": "python",
   "nbconvert_exporter": "python",
   "pygments_lexer": "ipython3",
   "version": "3.10.8"
  }
 },
 "nbformat": 4,
 "nbformat_minor": 5
}
