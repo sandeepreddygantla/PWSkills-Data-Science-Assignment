{
 "cells": [
  {
   "cell_type": "markdown",
   "id": "283c8ad0-941d-4854-9be7-a3cada8353b5",
   "metadata": {},
   "source": [
    "# Q1. What is multiprocessing in python? Why is it useful?"
   ]
  },
  {
   "cell_type": "markdown",
   "id": "0672f1f9-7150-4fd8-aeab-a3826ed73481",
   "metadata": {},
   "source": [
    "**Multiprocessing** in Python is a way to use multiple processors on a computer to parallelize the execution of Python code. It allows you to take advantage of modern multi-core processors to speed up CPU-bound tasks in your Python programs.\n",
    "\n",
    "**Multiprocessing** is useful because it can significantly speed up the execution of computationally intensive tasks. By running tasks in parallel on multiple processors, you can perform calculations much faster than you could with a single processor."
   ]
  },
  {
   "cell_type": "markdown",
   "id": "0b97eda5-3327-4833-887e-62eb692efa5b",
   "metadata": {},
   "source": [
    "# Q2. What are the differences between multiprocessing and multithreading?"
   ]
  },
  {
   "cell_type": "markdown",
   "id": "b93a0ee5-7321-48b6-bc60-48685d1630f2",
   "metadata": {},
   "source": [
    "The main differences between multiprocessing and multithreading are:\n",
    "\n",
    "**Processes vs. Threads:** The fundamental difference is that multiprocessing involves the execution of multiple processes on a computer, while multithreading involves the execution of multiple threads within a single process.\n",
    "\n",
    "**CPU vs. I/O Bound:** Multiprocessing is typically used for CPU-bound tasks, while multithreading is typically used for I/O-bound tasks. This is because multiprocessing allows you to take advantage of multiple CPUs or CPU cores, while multithreading is more efficient when the threads are mostly waiting for I/O operations to complete.\n",
    "\n",
    "**Memory:** Each process has its own memory space, so memory is not shared between processes. In contrast, all threads within a process share the same memory space. This means that you have to be careful about accessing shared resources in multithreading, since multiple threads can modify the same memory locations concurrently.\n",
    "\n",
    "**Communication:** Communication between processes can be more difficult and less efficient than communication between threads, since processes cannot share memory directly. Instead, they have to use interprocess communication (IPC) mechanisms such as pipes, queues, or shared memory.\n",
    "\n",
    "**Creation:** Creating a new process is typically more expensive than creating a new thread, since a new process requires duplicating the entire memory space of the parent process. In contrast, creating a new thread involves creating a new stack and some bookkeeping structures.\n",
    "\n",
    "**In conclusion,** multiprocessing is more appropriate for CPU-bound tasks that require parallel processing, while multithreading is more appropriate for I/O-bound tasks that require concurrency."
   ]
  },
  {
   "cell_type": "markdown",
   "id": "9bcef5c1-2a54-46d3-a78c-09a29f2ba8a4",
   "metadata": {},
   "source": [
    "# Q3. Write a python code to create a process using the multiprocessing module."
   ]
  },
  {
   "cell_type": "code",
   "execution_count": 3,
   "id": "46403d48-855e-43c3-8732-64446251eb82",
   "metadata": {},
   "outputs": [
    {
     "name": "stdout",
     "output_type": "stream",
     "text": [
      "Student process started\n",
      "Student process ended\n",
      "Main process ended\n"
     ]
    }
   ],
   "source": [
    "import multiprocessing\n",
    "\n",
    "def student():\n",
    "    \"\"\"A worker function that will be run in a separate process\"\"\"\n",
    "    print(\"Student process started\")\n",
    "    print(\"Student process ended\")\n",
    "\n",
    "if __name__ == \"__main__\":\n",
    "    # Create a new process\n",
    "    p = multiprocessing.Process(target=student)\n",
    "\n",
    "    # Start the process\n",
    "    p.start()\n",
    "\n",
    "    # Wait for the process to finish\n",
    "    p.join()\n",
    "\n",
    "    print(\"Main process ended\")\n"
   ]
  },
  {
   "cell_type": "markdown",
   "id": "b999f7c9-6f5d-4359-be3a-f414cff6f4ea",
   "metadata": {},
   "source": [
    "# Q4. What is a multiprocessing pool in python? Why is it used?"
   ]
  },
  {
   "cell_type": "markdown",
   "id": "64db4b3e-d468-45ad-b95c-a21321b8d708",
   "metadata": {},
   "source": [
    "A **multiprocessing pool** in Python is a set of worker processes that are created to perform a specific task in parallel. The multiprocessing module provides a Pool class, which allows you to create a pool of worker processes that can be used to execute functions in parallel.\n",
    "\n",
    "The **Pool** class provides a simple way to parallelize the execution of a function across multiple input values. It can be used to distribute the workload among a group of worker processes, allowing you to take advantage of multiple CPU cores to speed up the processing of large data sets.\n",
    "\n",
    "The main advantage of **using a multiprocessing pool** is that it allows you to parallelize a computation without having to deal with the low-level details of process creation and management. Instead, you can simply pass your function and input data to the Pool object and let it take care of the rest."
   ]
  },
  {
   "cell_type": "markdown",
   "id": "d339eafe-3162-4b82-a9be-f3eeaacb625a",
   "metadata": {},
   "source": [
    "# Q5. How can we create a pool of worker processes in python using the multiprocessing module?"
   ]
  },
  {
   "cell_type": "markdown",
   "id": "1c422ea2-1bea-49f2-9041-760d1da4f9b7",
   "metadata": {},
   "source": [
    "In Python, we can create a pool of **worker processes** using the multiprocessing.Pool class. The Pool class allows us to create a fixed number of worker processes and then distribute the tasks among them."
   ]
  },
  {
   "cell_type": "code",
   "execution_count": 4,
   "id": "890baeaf-98d3-44e4-8dde-55119444fa1d",
   "metadata": {},
   "outputs": [
    {
     "name": "stdout",
     "output_type": "stream",
     "text": [
      "[1, 4, 9, 16, 25]\n"
     ]
    }
   ],
   "source": [
    "import multiprocessing\n",
    "\n",
    "def square(n):\n",
    "    return n**2\n",
    "\n",
    "if __name__ == '__main__':\n",
    "    # Create a pool of 4 worker processes\n",
    "    with multiprocessing.Pool(processes=4) as pool:\n",
    "        # Define a list of numbers to square\n",
    "        numbers = [1, 2, 3, 4, 5]\n",
    "        # Distribute the square function among the worker processes\n",
    "        results = pool.map(square, numbers)\n",
    "        # Print the results\n",
    "        print(results)\n"
   ]
  },
  {
   "cell_type": "markdown",
   "id": "8d97d016-2082-4612-b862-ea84e5c2cd84",
   "metadata": {},
   "source": [
    "# Q6. Write a python program to create 4 processes, each process should print a different number using the multiprocessing module in python."
   ]
  },
  {
   "cell_type": "code",
   "execution_count": 16,
   "id": "2ce5e33b-8a65-4d99-9d7e-b8a98314ddae",
   "metadata": {},
   "outputs": [
    {
     "name": "stdout",
     "output_type": "stream",
     "text": [
      "Processing ProcessingProcess-50  Process-51prints  Processingprints1  Process-52\n",
      "2 \n",
      "Processingprints  Process-533 \n",
      "prints 4\n"
     ]
    }
   ],
   "source": [
    "import multiprocessing\n",
    "\n",
    "def print_number(num):\n",
    "    print(\"Processing\", multiprocessing.current_process().name, \"prints\", num)\n",
    "\n",
    "if __name__ == '__main__':\n",
    "    nums = [1, 2, 3, 4]\n",
    "    processes = []\n",
    "\n",
    "    for num in nums:\n",
    "        p = multiprocessing.Process(target=print_number, args=(num,))\n",
    "        processes.append(p)\n",
    "        p.start()\n",
    "\n",
    "    for p in processes:\n",
    "        p.join()\n"
   ]
  },
  {
   "cell_type": "code",
   "execution_count": 15,
   "id": "f2505e3d-7826-4da4-ab37-44c6c9974c00",
   "metadata": {},
   "outputs": [
    {
     "name": "stdout",
     "output_type": "stream",
     "text": [
      "0\n",
      "1\n",
      "2\n",
      "3\n"
     ]
    }
   ],
   "source": [
    "import multiprocessing\n",
    "\n",
    "def print_number(number):\n",
    "    print(number)\n",
    "\n",
    "if __name__ == '__main__':\n",
    "    # create 4 processes\n",
    "    processes = []\n",
    "    for i in range(4):\n",
    "        process = multiprocessing.Process(target=print_number, args=(i,))\n",
    "        processes.append(process)\n",
    "        process.start()\n",
    "    \n",
    "    # wait for all processes to complete\n",
    "    for process in processes:\n",
    "        process.join()\n"
   ]
  },
  {
   "cell_type": "code",
   "execution_count": null,
   "id": "e9efdd4f-f0fd-49e0-83f4-3d604a289b5a",
   "metadata": {},
   "outputs": [],
   "source": []
  }
 ],
 "metadata": {
  "kernelspec": {
   "display_name": "Python 3 (ipykernel)",
   "language": "python",
   "name": "python3"
  },
  "language_info": {
   "codemirror_mode": {
    "name": "ipython",
    "version": 3
   },
   "file_extension": ".py",
   "mimetype": "text/x-python",
   "name": "python",
   "nbconvert_exporter": "python",
   "pygments_lexer": "ipython3",
   "version": "3.10.8"
  }
 },
 "nbformat": 4,
 "nbformat_minor": 5
}
