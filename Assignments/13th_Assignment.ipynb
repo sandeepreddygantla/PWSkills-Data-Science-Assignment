{
 "cells": [
  {
   "cell_type": "markdown",
   "id": "a8618647-fd94-4827-b52e-c32b5efb1a9d",
   "metadata": {},
   "source": [
    "# Q1. what is multithreading in python? why is it used? Name the module used to handle threads in python"
   ]
  },
  {
   "cell_type": "markdown",
   "id": "f7fd2c3e-124c-4ea1-8798-a86505ca97b9",
   "metadata": {},
   "source": [
    "Multithreading in Python refers to the ability of a program to execute multiple threads of execution concurrently. A thread is a separate flow of execution within a process, and multithreading allows a program to perform multiple tasks at the same time, improving the overall performance and responsiveness of the program.\n",
    "\n",
    "Multithreading is used in Python for a variety of reasons, such as improving the performance of CPU-bound tasks, handling I/O-bound tasks asynchronously, and creating responsive GUI applications.\n",
    "\n",
    "In Python, the **threading module is used** to handle threads. This module provides a simple way to create and manage threads, using a combination of higher-level threading constructs such as Thread objects and lower-level synchronization primitives such as locks and semaphores. The threading module also provides a number of useful features, such as the ability to set thread priorities, join threads, and interrupt threads.\n",
    "\n",
    "To create a new thread in Python using the **threading** module, you can create a new Thread object and call its start()"
   ]
  },
  {
   "cell_type": "markdown",
   "id": "391e7a95-83fa-4591-8856-359e6b073f92",
   "metadata": {},
   "source": [
    "# Q2. why threading module used? write the use of the following functions\n",
    "\n",
    "activeCount()\n",
    "\n",
    "currentThread()\n",
    "\n",
    "enumerate()"
   ]
  },
  {
   "cell_type": "markdown",
   "id": "cb3266c7-0c95-4a99-9e57-d8a6e5998844",
   "metadata": {},
   "source": [
    "**activeCount():** This function returns the number of thread objects that are currently active in the current process. It can be useful for debugging and monitoring purposes to keep track of the number of threads that are running at any given time.\n",
    "\n",
    "**currentThread():** This function returns a reference to the currently executing thread object. It can be useful for accessing information about the current thread, such as its name or status.\n",
    "\n",
    "**enumerate():** This function returns a list of all thread objects that are currently active in the current process. It can be useful for getting information about all the threads that are running, such as their names and statuses."
   ]
  },
  {
   "cell_type": "markdown",
   "id": "2b0c7388-2b18-4114-b4a5-215f36c6db28",
   "metadata": {},
   "source": [
    "# Q3. Explain the following functions\n",
    "\n",
    "run()\n",
    "\n",
    "start()\n",
    "\n",
    "join()\n",
    "\n",
    "isAlive()"
   ]
  },
  {
   "cell_type": "markdown",
   "id": "c8b81d26-d7b8-4a65-bd04-797f3a7a7877",
   "metadata": {},
   "source": [
    "**run():** This is a method that is called when a thread is started using the start() method. It is used to define the actions that the thread should perform when it is started. The run() method is typically overridden in a subclass of the Thread class to define the specific behavior of the thread.\n",
    "\n",
    "**start():** This method is used to start a new thread of execution. When the start() method is called, a new thread is created and the run() method of the thread is executed in a separate process. The start() method does not block the calling thread; instead, it returns immediately, allowing the caller to continue executing.\n",
    "\n",
    "**join():** This method is used to wait for a thread to finish its execution. When the join() method is called on a thread object, the calling thread blocks until the thread being joined completes its execution. The join() method can be used to ensure that all threads complete their execution before the program exits.\n",
    "\n",
    "**isAlive():** This method returns a Boolean value indicating whether a thread is currently executing or not. If the thread is still running, isAlive() returns True; otherwise, it returns False. This method can be used to determine the status of a thread and to take appropriate actions based on its state"
   ]
  },
  {
   "cell_type": "markdown",
   "id": "fbd0eceb-194e-436e-948d-57fc673cb64b",
   "metadata": {},
   "source": [
    "# Q4. write a python program to create two threads. Thread one must print the list of squares and thread two must print the list of cubes"
   ]
  },
  {
   "cell_type": "code",
   "execution_count": 44,
   "id": "7df1bd84-97b9-430e-b45e-acfb61dcdf28",
   "metadata": {},
   "outputs": [],
   "source": [
    "def squares(num):\n",
    "    for number in num:\n",
    "        print(number, \"squared is\", number ** 2)\n",
    "        \n",
    "def qube(num):\n",
    "    for number in num:\n",
    "        print(number, \"squared is\", number ** 3)"
   ]
  },
  {
   "cell_type": "code",
   "execution_count": 55,
   "id": "862d89e0-a925-4aa7-87ca-d347ac20cec3",
   "metadata": {},
   "outputs": [
    {
     "name": "stdout",
     "output_type": "stream",
     "text": [
      "This is Excecuted without using Threading\n",
      "2 squared is 4\n",
      "3 squared is 9\n",
      "4 squared is 16\n",
      "5 squared is 25\n",
      "9 squared is 81\n",
      "10 squared is 100\n",
      "\n",
      "Qubes starts Here\n",
      "2 squared is 8\n",
      "3 squared is 27\n",
      "4 squared is 64\n",
      "5 squared is 125\n",
      "9 squared is 729\n",
      "10 squared is 1000\n"
     ]
    }
   ],
   "source": [
    "numbers_list = [2,3,4,5,9,10]\n",
    "print(\"This is Excecuted without using Threading\")\n",
    "squares(numbers_list)\n",
    "print('\\nQubes starts Here')\n",
    "qube(numbers_list)"
   ]
  },
  {
   "cell_type": "code",
   "execution_count": 56,
   "id": "2406917b-894f-4556-8697-6f86ee25be44",
   "metadata": {},
   "outputs": [],
   "source": [
    "import threading\n",
    "\n",
    "thread1 = threading.Thread(target=squares, args=(numbers_list,))\n",
    "thread2 = threading.Thread(target=qube, args=(numbers_list,))"
   ]
  },
  {
   "cell_type": "code",
   "execution_count": 57,
   "id": "dea9a5ca-aa58-4e60-84f0-c8e2dde137e5",
   "metadata": {},
   "outputs": [
    {
     "name": "stdout",
     "output_type": "stream",
     "text": [
      "This is Excecuted with using Threading\n",
      "2 squared is 4\n",
      "3 squared is 9\n",
      "4 squared is 16\n",
      "5 squared is 25\n",
      "9 squared is 81\n",
      "10 squared is 100\n",
      "\n",
      "Qubes starts Here\n",
      "2 squared is 8\n",
      "3 squared is 27\n",
      "4 squared is 64\n",
      "5 squared is 125\n",
      "9 squared is 729\n",
      "10 squared is 1000\n"
     ]
    }
   ],
   "source": [
    "print(\"This is Excecuted with using Threading\")\n",
    "thread1.start()\n",
    "print('\\nQubes starts Here')\n",
    "thread2.start()"
   ]
  },
  {
   "cell_type": "markdown",
   "id": "4564b833-7a60-43a6-8cef-095d65189610",
   "metadata": {},
   "source": [
    "# Q5. State advantages and disadvantages of multithreading"
   ]
  },
  {
   "cell_type": "markdown",
   "id": "76dfd529-fec7-4a4c-845b-2f25d0fd03aa",
   "metadata": {},
   "source": [
    "### Advantages:\n",
    "\n",
    "**Increased performance:** Multithreading can lead to significant performance improvements for programs that perform many independent tasks, as it allows different parts of the program to execute simultaneously on different CPU cores.\n",
    "\n",
    "**Responsiveness:** Multithreading can make programs more responsive, as it allows them to continue executing while waiting for I/O or other blocking operations to complete.\n",
    "\n",
    "**Resource sharing:** Multithreading allows multiple threads to access shared resources, such as files or databases, without requiring complex coordination mechanisms.\n",
    "\n",
    "**Modular design:** Multithreading can make programs easier to design and implement by allowing different parts of the program to be executed in separate threads, making the program more modular and easier to maintain.\n",
    "\n",
    "### Disadvantages:\n",
    "\n",
    "**Synchronization issues:** Multithreading requires careful management of shared resources to avoid race conditions and other synchronization issues that can lead to errors or incorrect behavior.\n",
    "\n",
    "**Complexity:** Multithreading can make programs more complex and harder to debug, as it introduces new sources of bugs and errors related to thread synchronization and communication.\n",
    "\n",
    "**Overhead:** Creating and managing threads requires additional resources, such as memory and CPU time, which can reduce the overall performance of the program if not managed carefully.\n",
    "\n",
    "**Scalability issues:** The benefits of multithreading may not scale linearly with the number of CPU cores available, as adding more threads may lead to diminishing returns or even reduce performance in some cases."
   ]
  },
  {
   "cell_type": "markdown",
   "id": "3014ac80-4f3b-468e-81af-6bf0ffc1afcf",
   "metadata": {},
   "source": [
    "# Q6. Explain deadlocks and race conditions."
   ]
  },
  {
   "cell_type": "markdown",
   "id": "2d346d12-570a-42dc-8d88-8e441c23438f",
   "metadata": {},
   "source": [
    "**Deadlock:** A deadlock occurs when two or more threads are waiting for each other to release a resource or lock that they are holding. As a result, none of the threads can proceed, and the program appears to be stuck. Deadlocks can be difficult to debug and can cause programs to become unresponsive. Deadlocks can occur in multi-threaded programs when the threads are competing for shared resources, such as locks or system resources.\n",
    "\n",
    "**Race condition:** A race condition occurs when the behavior of a program depends on the relative timing of two or more threads. When two or more threads access a shared resource, the order in which the threads access the resource can affect the behavior of the program. If the program depends on the threads executing in a specific order, a race condition can cause unpredictable behavior. For example, if two threads are incrementing a shared counter, the final value of the counter will depend on the order in which the threads execute, which can be unpredictable.\n"
   ]
  }
 ],
 "metadata": {
  "kernelspec": {
   "display_name": "Python 3 (ipykernel)",
   "language": "python",
   "name": "python3"
  },
  "language_info": {
   "codemirror_mode": {
    "name": "ipython",
    "version": 3
   },
   "file_extension": ".py",
   "mimetype": "text/x-python",
   "name": "python",
   "nbconvert_exporter": "python",
   "pygments_lexer": "ipython3",
   "version": "3.10.8"
  }
 },
 "nbformat": 4,
 "nbformat_minor": 5
}
