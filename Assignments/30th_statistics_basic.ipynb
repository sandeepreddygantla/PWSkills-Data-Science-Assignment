{
 "cells": [
  {
   "cell_type": "markdown",
   "id": "d1f11a38-ae6d-4cf3-ab61-276d5e0c519d",
   "metadata": {},
   "source": [
    "# Q1. What is Statistics?"
   ]
  },
  {
   "cell_type": "markdown",
   "id": "24a7e435-a676-4f6f-a2dc-5827b4f92e12",
   "metadata": {},
   "source": [
    "Statistics refers to the mathematical discipline that focuses on collecting, organizing, analyzing, interpreting, and presenting numerical data. It employs various mathematical methods and techniques to gather, summarize, and study data samples taken from larger populations."
   ]
  },
  {
   "cell_type": "markdown",
   "id": "29bab57b-cc66-463b-90ce-0625581d535f",
   "metadata": {},
   "source": [
    "# Q2. Define the different types of statistics and give an example of when each type might be used."
   ]
  },
  {
   "cell_type": "markdown",
   "id": "4cf18897-7367-42e7-8efe-930b6103eb8c",
   "metadata": {},
   "source": [
    "There are two main types of statistics: descriptive statistics and inferential statistics.\n",
    "\n",
    "**Descriptive statistics** involves the application of various methods and techniques to provide a summary or description of data in a meaningful manner. Examples of descriptive statistics include measures of central tendency (like mean, median, and mode), measures of variability (such as range, variance, and standard deviation), as well as graphical representations (such as histograms, scatter plots, and box plots).\n",
    "\n",
    "> **Example of descriptive statistics:** Suppose a researcher wants to study the height of a sample of 50 people. The researcher collects the data and finds that the average height of the sample is 170 cm with a standard deviation of 10 cm.\n",
    "\n",
    "> Descriptive statistics can be used to summarize this data as follows:\n",
    "\n",
    "> **Measures of central tendency:** The average height of the sample is 170 cm, which indicates the typical height of the people in the sample.\n",
    "\n",
    "> **Measures of variability:** The standard deviation of 10 cm indicates how much the heights of the people in the sample vary from the average height.\n",
    "\n",
    "> **Graphical representations:** The researcher could create a box plot to visualize the distribution of the heights. The box plot would show the range of heights in the sample, the median height, and any outliers.\n",
    "\n",
    "**Inferential statistics** involves the use of methods and techniques to make predictions or draw conclusions about a larger population based on data collected from a sample of that population. It typically involves hypothesis testing, confidence intervals, and regression analysis.\n",
    "\n",
    "> **Example of inferential statistics:** Suppose a company wants to estimate the average income of its employees. They randomly select a sample of 100 employees and calculate the average income of this sample to be 50,000 Dollars per year with a standard deviation of $5,000. The company then uses inferential statistics to estimate the average income of all its employees, along with a measure of uncertainty. They might use a confidence interval, which is a range of values that is likely to contain the true population mean with a certain level of confidence."
   ]
  },
  {
   "cell_type": "markdown",
   "id": "3256b7e6-8ce7-406b-a35c-c30700e04429",
   "metadata": {},
   "source": [
    "# Q3. What are the different types of data and how do they differ from each other? Provide an example of each type of data."
   ]
  },
  {
   "cell_type": "markdown",
   "id": "4e9b278f-778b-44f6-ab75-b3e4f1758c18",
   "metadata": {},
   "source": [
    "**Quantitative data:** Quantitative data is numerical data that can be measured and analyzed using mathematical methods. It is objective and based on facts rather than opinions or interpretations. Examples of quantitative data include measurements of length, weight, time, temperature, and counts of people or objects.\n",
    "\n",
    "> **For example,** the heights of a sample of 50 students are quantitative data. The heights are numerical measurements that can be analyzed using mathematical methods to calculate the mean height, the standard deviation, and other measures of central tendency and variability.\n",
    "\n",
    "**Qualitative data:** Qualitative data is non-numerical data that is based on qualities, attributes, or characteristics. It is subjective and often requires interpretation. Examples of qualitative data include opinions, attitudes, beliefs, and perceptions.\n",
    "\n",
    "> **For example**, the responses to an open-ended survey question asking people to describe their experience with a new product are qualitative data. The responses are based on people's subjective opinions and require interpretation to identify common themes or patterns. Qualitative data can be analyzed using techniques such as content analysis or thematic analysis to identify patterns, themes, or categories.\n"
   ]
  },
  {
   "cell_type": "markdown",
   "id": "bb083b9a-0c26-48c0-ade5-28e692cf7b4b",
   "metadata": {},
   "source": [
    "# Q4. Categorise the following datasets with respect to quantitative and qualitative data types:\n",
    "(i) Grading in exam: A+, A, B+, B, C+, C, D, E\n",
    "\n",
    "(ii) Colour of mangoes: yellow, green, orange, red\n",
    "\n",
    "(iii) Height data of a class: [178.9, 179, 179.5, 176, 177.2, 178.3, 175.8,...]\n",
    "\n",
    "(iv) Number of mangoes exported by a farm: [500, 600, 478, 672, ...]"
   ]
  },
  {
   "cell_type": "markdown",
   "id": "4a50d070-f903-4d19-9594-5db69421575a",
   "metadata": {},
   "source": [
    "#### (i) Grading in exam: A+, A, B+, B, C+, C, D, E\n",
    "\n",
    "> **Qualitative Data**"
   ]
  },
  {
   "cell_type": "markdown",
   "id": "0138c768-523b-477e-9a30-2b9ad2fa614d",
   "metadata": {},
   "source": [
    "#### (ii) Colour of mangoes: yellow, green, orange, red.\n",
    "\n",
    "> **Qualitative Data**"
   ]
  },
  {
   "cell_type": "markdown",
   "id": "2c293527-c649-452e-bf0b-935a8de7d3e6",
   "metadata": {},
   "source": [
    "#### (iii) Height data of a class: [178.9, 179, 179.5, 176, 177.2, 178.3, 175.8,...]\n",
    "\n",
    "> **Quantitative Data**"
   ]
  },
  {
   "cell_type": "markdown",
   "id": "b78d8aca-53a3-4ac7-9fcf-a47836986858",
   "metadata": {},
   "source": [
    "#### (iv) Number of mangoes exported by a farm: [500, 600, 478, 672, ...]\n",
    "\n",
    "> **Quantitative Data**"
   ]
  },
  {
   "cell_type": "markdown",
   "id": "e0678c17-76c8-4ca7-8fc0-7fbebf1066ba",
   "metadata": {},
   "source": [
    "# Q5. Explain the concept of levels of measurement and give an example of a variable for each level."
   ]
  },
  {
   "cell_type": "markdown",
   "id": "70e7b324-ef4a-4548-b771-ae0b49196de2",
   "metadata": {},
   "source": [
    "Levels of measurement refer to the different ways in which data can be measured or categorized. There are four main levels of measurement: nominal, ordinal, interval, and ratio. \n",
    "\n",
    "**Nominal level of measurement:** Nominal data consists of categories that are not ordered or ranked. Nominal data can be represented by names, labels, or codes. Examples of nominal variables include gender, ethnicity, and marital status.\n",
    "\n",
    "> For example, a variable that records the color of cars on a street would be nominal. The colors (e.g., red, blue, green) are categories that are not ordered or ranked.\n",
    "\n",
    "**Ordinal level of measurement:** Ordinal data consists of categories that are ordered or ranked. The categories represent an underlying continuum but the differences between categories may not be equal. Examples of ordinal variables include rank in a competition, level of education (e.g., high school, college, graduate), and rating scales (e.g., Likert scales).\n",
    "\n",
    "> For example, a variable that records the quality of service received in a restaurant on a scale of 1-5 would be ordinal. The categories (e.g., poor, fair, good, very good, excellent) are ordered or ranked, but the differences between categories may not be equal.\n",
    "\n",
    "**Interval level of measurement:** Interval data consists of numerical data where the differences between values are meaningful and equal. However, there is no true zero point. Examples of interval variables include temperature measured in degrees Celsius or Fahrenheit and years in the calendar.\n",
    "\n",
    "> For example, a variable that records the temperature of a room in degrees Celsius would be interval. The differences between values are meaningful and equal, but there is no true zero point (i.e., 0 degrees Celsius does not mean the absence of temperature).\n",
    "\n",
    "**Ratio level of measurement:** Ratio data is similar to interval data, but with the presence of a true zero point. Ratio data consists of numerical data where the differences between values are meaningful, equal, and have a true zero point. Examples of ratio variables include weight, height, time, and income.\n",
    "\n",
    "> For example, a variable that records the weight of a person in kilograms would be ratio. The differences between values are meaningful, equal, and there is a true zero point (i.e., 0 kilograms means the absence of weight).\n"
   ]
  },
  {
   "cell_type": "markdown",
   "id": "f3a5e2d3-445b-46a0-982a-f5e2013dd592",
   "metadata": {},
   "source": [
    "# Q6. Why is it important to understand the level of measurement when analyzing data? Provide an example to illustrate your answer."
   ]
  },
  {
   "cell_type": "markdown",
   "id": "c5868449-2233-4b25-87d7-83e734aeb7f0",
   "metadata": {},
   "source": [
    "Understanding the level of measurement is crucial in selecting appropriate statistical methods to analyze data. Using incorrect methods can lead to inaccurate or misleading conclusions. \n",
    "\n",
    ">For example, If a researcher wants to compare the effectiveness of two different drugs in treating a medical condition, they may measure the number of days it takes for patients to recover completely. If the days to recovery is measured using an interval scale (such as counting days from treatment start), the researcher can calculate the mean and standard deviation to compare the two groups. However, if the researcher measured the days to recovery using an ordinal scale (such as asking patients to rate their recovery on a scale from 1 to 10), the researcher cannot calculate the mean because the distance between each rating is not equal. In this case, the researcher would need to use a non-parametric test, such as the Mann-Whitney U test, which is appropriate for comparing ordinal variables."
   ]
  },
  {
   "cell_type": "markdown",
   "id": "2fcf2cf7-30a7-4838-a03b-888320a5b732",
   "metadata": {},
   "source": [
    "# Q7. How nominal data type is different from ordinal data type."
   ]
  },
  {
   "cell_type": "markdown",
   "id": "44700754-87b9-4b22-9dcd-d2b5b78f0f37",
   "metadata": {},
   "source": [
    "Nominal and ordinal are two different levels of measurement in statistics.\n",
    "\n",
    "**Nominal data** refers to data that can be categorized or classified into groups, but the groups have no inherent order or ranking. \n",
    "\n",
    "**Ordinal data,** refers to data that can be ordered or ranked based on a specific criterion, but the differences between values are not necessarily equal.\n",
    "\n",
    "nominal data is characterized by categories with no inherent order, while ordinal data is characterized by ordered categories with no equal differences between them."
   ]
  },
  {
   "cell_type": "markdown",
   "id": "25b01aae-c2e0-410c-8a74-e424fb8f5e64",
   "metadata": {},
   "source": [
    "# Q8. Which type of plot can be used to display data in terms of range?"
   ]
  },
  {
   "cell_type": "markdown",
   "id": "f0f46636-27c2-444a-bc9e-ce269de2641a",
   "metadata": {},
   "source": [
    "When data is displayed in terms of range, a **box plot** is a useful type of plot that can be used. A box plot shows the range of a dataset by representing the minimum and maximum values, as well as the first and third quartiles. The middle 50% of the data is represented by the box, while the median is represented by the line inside the box. The whiskers extend from the box to the minimum and maximum values.\n",
    "\n",
    "The main advantage of using a box plot is that it provides a visual summary of the spread of data and helps identify any outliers. Box plots are particularly useful for comparing distributions between different groups or datasets. Therefore, box plots are an effective tool for displaying data in terms of range"
   ]
  },
  {
   "cell_type": "markdown",
   "id": "230c445a-5465-4b5d-89d1-f84bca18b4fe",
   "metadata": {},
   "source": [
    "# Q9. Describe the difference between descriptive and inferential statistics. Give an example of each type of statistics and explain how they are used."
   ]
  },
  {
   "cell_type": "markdown",
   "id": "258c1044-cdb1-4fbb-be99-320c65febfd1",
   "metadata": {},
   "source": [
    "**Descriptive statistics** involve the use of techniques and methods to present and summarize data in a meaningful and useful way. These statistics include measures of central tendency (like mean, median, and mode), measures of variability (like range, variance, and standard deviation), and graphical representations (such as scatter plots, box plots, and histograms). The purpose of descriptive statistics is to provide a concise summary of the data and convey important characteristics of a dataset to others.\n",
    "\n",
    "> For instance, a researcher might want to describe the income distribution of a particular city. They could calculate the mean, median, and standard deviation of the incomes and create a histogram or box plot to visually represent the data. This would give a quick overview of the income distribution in the city and help in making informed decisions based on the data."
   ]
  },
  {
   "cell_type": "markdown",
   "id": "f857d141-6586-45f5-91cd-899fa296cb9c",
   "metadata": {},
   "source": [
    "**Inferential statistics:** Used to make predictions about a larger population based on a sample, inferential statistics is utilized. It involves techniques such as hypothesis testing, regression analysis, and confidence intervals. Inferential statistics is used to make conclusions about a population based on data from a sample.\n",
    "\n",
    "> For instance, to examine the effect of a new medication on blood pressure, a researcher might randomly assign some individuals to the medication group and others to the control group, and measure their blood pressure before and after the treatment. The researcher can utilize inferential statistics to make predictions about the effect of the medication on the entire population of individuals with high blood pressure, based on the results from the sample."
   ]
  },
  {
   "cell_type": "markdown",
   "id": "4f0a1277-63bb-48d9-ba3a-d7d8681c0550",
   "metadata": {},
   "source": [
    "# Q10. What are some common measures of central tendency and variability used in statistics? Explain how each measure can be used to describe a dataset."
   ]
  },
  {
   "cell_type": "markdown",
   "id": "dd038772-b98d-4cc8-8ef7-72854e09da9a",
   "metadata": {},
   "source": [
    "Common measures of central tendency used in statistics include:\n",
    "\n",
    "**Mean:** The mean is the average of all the values in a dataset. It is calculated by summing all the values in the dataset and dividing by the total number of values. The mean is a useful measure of central tendency because it takes into account all the values in the dataset. However, it can be affected by extreme values (outliers).\n",
    "\n",
    "Median: The median is the middle value in a dataset when the values are arranged in order. It is a useful measure of central tendency when the dataset contains extreme values or is skewed. The median is not affected by extreme values.\n",
    "\n",
    "Mode: The mode is the value that occurs most frequently in a dataset. It is a useful measure of central tendency when the dataset has one or more prominent peaks. The mode can also be used for nominal data, where the values cannot be ordered.\n",
    "\n",
    "Common measures of variability used in statistics include:\n",
    "\n",
    "Range: The range is the difference between the maximum and minimum values in a dataset. It is a simple measure of variability that provides a quick understanding of how spread out the data is.\n",
    "\n",
    "Variance: The variance is the average of the squared differences from the mean. It provides a measure of how much the values in a dataset vary from the mean. A high variance indicates that the values are widely spread out, while a low variance indicates that the values are clustered around the mean.\n",
    "\n",
    "Standard deviation: The standard deviation is the square root of the variance. It provides a measure of how much the values in a dataset vary from the mean in the same units as the data. The standard deviation is a useful measure of variability because it is easy to interpret and can be used to calculate confidence intervals and perform hypothesis testing.\n",
    "\n",
    "\n",
    "\n"
   ]
  }
 ],
 "metadata": {
  "kernelspec": {
   "display_name": "Python 3 (ipykernel)",
   "language": "python",
   "name": "python3"
  },
  "language_info": {
   "codemirror_mode": {
    "name": "ipython",
    "version": 3
   },
   "file_extension": ".py",
   "mimetype": "text/x-python",
   "name": "python",
   "nbconvert_exporter": "python",
   "pygments_lexer": "ipython3",
   "version": "3.10.8"
  }
 },
 "nbformat": 4,
 "nbformat_minor": 5
}
