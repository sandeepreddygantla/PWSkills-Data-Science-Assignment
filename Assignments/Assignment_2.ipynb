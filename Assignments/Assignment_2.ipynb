{
 "cells": [
  {
   "cell_type": "markdown",
   "id": "240fa07a-03e7-49e3-8538-e4625d2d2c28",
   "metadata": {},
   "source": [
    "# 1. Write a program to accept percentage from the user and display the grade according to the following criteria:"
   ]
  },
  {
   "cell_type": "code",
   "execution_count": 16,
   "id": "d75e1cdc-c237-4f5b-9d54-37114bf6277c",
   "metadata": {},
   "outputs": [
    {
     "name": "stdin",
     "output_type": "stream",
     "text": [
      "Enter Your Percentage  95\n"
     ]
    },
    {
     "name": "stdout",
     "output_type": "stream",
     "text": [
      "You have obtained Grade A\n"
     ]
    }
   ],
   "source": [
    "percentage = int(input( \"Enter Your Percentage \"))\n",
    "if (percentage >=90):\n",
    "    print(\"You have obtained Grade A\")\n",
    "elif (percentage >80 and percentage <=90):\n",
    "    print(\"You have obtained Grade B\")\n",
    "elif (percentage >=60 and  percentage <=80):\n",
    "    print(\"You have obtained Grade C\")\n",
    "elif (percentage > 0 and percentage <= 60):\n",
    "    print(\"You have obtained Grade D\")\n",
    "else:\n",
    "    print(\"Please Enter a valid Percentage\")"
   ]
  },
  {
   "cell_type": "markdown",
   "id": "1f3b618c-0de5-45c5-8abb-a2f4acc78145",
   "metadata": {},
   "source": [
    "# 2. Write a program to accept the cost price of a bike and display the road tax to be paid according to the following criteria:"
   ]
  },
  {
   "cell_type": "code",
   "execution_count": 29,
   "id": "512a6739-015f-4e0d-a444-90ea812fc2a8",
   "metadata": {
    "tags": []
   },
   "outputs": [
    {
     "name": "stdin",
     "output_type": "stream",
     "text": [
      "Enter The Cost Price Of A Bike 25000\n"
     ]
    },
    {
     "name": "stdout",
     "output_type": "stream",
     "text": [
      "You Need to pay 1250.0 Toll Tax\n"
     ]
    }
   ],
   "source": [
    "cost_price = int(input(\"Enter The Cost Price Of A Bike\"))\n",
    "if cost_price >100000:\n",
    "    print(\"You Need to pay {} Toll Tax\".format(cost_price * 15/100))\n",
    "elif cost_price >50000 and cost_price <= 100000:\n",
    "    print(\"You Need to pay {} Toll Tax\".format(cost_price * 10/100))\n",
    "elif cost_price >0 and cost_price <= 50000:\n",
    "    print(\"You Need to pay {} Toll Tax\".format(cost_price * 5/100))\n",
    "else:\n",
    "    print(\"Please Enter a valid Price of a Bike\")"
   ]
  },
  {
   "cell_type": "markdown",
   "id": "731de10f-b5dd-438a-be1f-baed2c2feee6",
   "metadata": {},
   "source": [
    "# 3. Accept any city from the user and display monuments of that city."
   ]
  },
  {
   "cell_type": "code",
   "execution_count": 12,
   "id": "02ac8ae8-776c-44c9-9708-a6f9597c6f7c",
   "metadata": {},
   "outputs": [
    {
     "name": "stdin",
     "output_type": "stream",
     "text": [
      "Enter a City name (Delhi, Agra, Jaipur)  delhi\n"
     ]
    },
    {
     "name": "stdout",
     "output_type": "stream",
     "text": [
      "Monument of the city 'Delhi' is Red Fort\n"
     ]
    }
   ],
   "source": [
    "city_name = input(\"Enter a City name (Delhi, Agra, Jaipur) \")\n",
    "city = city_name.lower()\n",
    "if (city == \"delhi\"):\n",
    "    print(\"Monument of the city 'Delhi' is Red Fort\")\n",
    "elif (city == \"agra\"):\n",
    "    print(\"Monument of the city 'Agra' is Taj Mahal\")\n",
    "elif (city == \"jaipur\"):\n",
    "    print(\"Monument of the city 'Jaipur' is Jai Mahal\")"
   ]
  },
  {
   "cell_type": "markdown",
   "id": "855eaca6-4c99-474c-a320-6169ffb6760f",
   "metadata": {},
   "source": [
    "# 4. Check how many times a given number can be divided by 3 before it is less than or equal to 10."
   ]
  },
  {
   "cell_type": "code",
   "execution_count": 10,
   "id": "16dd50bf-4222-46c8-ba76-fbaa12e34224",
   "metadata": {},
   "outputs": [
    {
     "name": "stdin",
     "output_type": "stream",
     "text": [
      "Enter a number:  25\n"
     ]
    },
    {
     "name": "stdout",
     "output_type": "stream",
     "text": [
      "The number can be divided by 3 1 times.\n"
     ]
    }
   ],
   "source": [
    "num = int(input(\"Enter a number: \"))\n",
    "count = 0\n",
    "\n",
    "while num > 10:\n",
    "    num = num / 3\n",
    "    count += 1\n",
    "\n",
    "print(\"The number can be divided by 3\", count, \"times.\")\n"
   ]
  },
  {
   "cell_type": "markdown",
   "id": "e0c482c2-61e1-418a-a2c4-bd7146aa1c94",
   "metadata": {
    "tags": []
   },
   "source": [
    "# 5. Why and When to Use while Loop in Python give a detailed description with example"
   ]
  },
  {
   "cell_type": "code",
   "execution_count": null,
   "id": "67ec4397-0f11-45a4-bdb1-67a212a607ab",
   "metadata": {},
   "outputs": [],
   "source": [
    "while loop in Python is used to repeatedly execute a block of code as long as a specific condition is met. \n",
    "This type of loop is useful when you do not know beforehand how many times the loop needs to be executed."
   ]
  },
  {
   "cell_type": "markdown",
   "id": "7a554a37-797b-4a3c-afaf-2d3f04e04e64",
   "metadata": {},
   "source": [
    "# 6. Use nested while loop to print 3 different pattern."
   ]
  },
  {
   "cell_type": "markdown",
   "id": "c551fe8e-b03a-47a9-8aac-57b04a858f71",
   "metadata": {},
   "source": [
    "### Pattern 1"
   ]
  },
  {
   "cell_type": "code",
   "execution_count": 4,
   "id": "57016d34-d0a3-4c5b-a780-4d83baf651a3",
   "metadata": {},
   "outputs": [
    {
     "name": "stdout",
     "output_type": "stream",
     "text": [
      "* \n",
      "* * \n",
      "* * * \n",
      "* * * * \n",
      "* * * * * \n"
     ]
    }
   ],
   "source": [
    "n = 5\n",
    "i = 1\n",
    "while i <= n:\n",
    "    j = 1\n",
    "    while j <= i:\n",
    "        print(\"*\", end=\" \")\n",
    "        j = j + 1\n",
    "    print(\"\\r\")\n",
    "    i = i + 1\n"
   ]
  },
  {
   "cell_type": "markdown",
   "id": "4bda5522-28d9-42ef-aa10-7cfdd1f35d6c",
   "metadata": {},
   "source": [
    "### Pattern 2"
   ]
  },
  {
   "cell_type": "code",
   "execution_count": 5,
   "id": "bf1b9519-c818-4b4e-9551-444235d11f9d",
   "metadata": {},
   "outputs": [
    {
     "name": "stdout",
     "output_type": "stream",
     "text": [
      "* * * * * \n",
      "* * * * \n",
      "* * * \n",
      "* * \n",
      "* \n"
     ]
    }
   ],
   "source": [
    "n = 5\n",
    "i = n\n",
    "while i >= 1:\n",
    "    j = 1\n",
    "    while j <= i:\n",
    "        print(\"*\", end=\" \")\n",
    "        j = j + 1\n",
    "    print(\"\\r\")\n",
    "    i = i - 1\n"
   ]
  },
  {
   "cell_type": "markdown",
   "id": "2f3fab09-2fa1-4f4b-83e0-c4c2f85af756",
   "metadata": {},
   "source": [
    "### Pattern 3"
   ]
  },
  {
   "cell_type": "code",
   "execution_count": 8,
   "id": "41ed7ec9-6dcf-4b45-9930-91c2dcdd34fd",
   "metadata": {},
   "outputs": [
    {
     "name": "stdout",
     "output_type": "stream",
     "text": [
      "    *\n",
      "   ***\n",
      "  *****\n",
      " *******\n",
      "*********\n",
      " *******\n",
      "  *****\n",
      "   ***\n",
      "    *\n"
     ]
    }
   ],
   "source": [
    "n = 5\n",
    "i = 1\n",
    "while i <= n:\n",
    "    j = 1\n",
    "    k = 1\n",
    "    while k <= n-i:\n",
    "        print(end=\" \")\n",
    "        k = k + 1\n",
    "    while j <= 2*i-1:\n",
    "        print(\"*\", end=\"\")\n",
    "        j = j + 1\n",
    "    print(\"\\r\")\n",
    "    i = i + 1\n",
    "\n",
    "i = n-1\n",
    "while i >= 1:\n",
    "    j = 1\n",
    "    k = 1\n",
    "    while k <= n-i:\n",
    "        print(end=\" \")\n",
    "        k = k + 1\n",
    "    while j <= 2*i-1:\n",
    "        print(\"*\", end=\"\")\n",
    "        j = j + 1\n",
    "    print(\"\\r\")\n",
    "    i = i - 1\n"
   ]
  },
  {
   "cell_type": "markdown",
   "id": "b7a002b7-fd34-4788-b27e-40a5c0f24738",
   "metadata": {},
   "source": [
    "### Extra Pattern"
   ]
  },
  {
   "cell_type": "code",
   "execution_count": 7,
   "id": "53bd64c2-4e47-437c-9543-8ec286603219",
   "metadata": {},
   "outputs": [
    {
     "name": "stdout",
     "output_type": "stream",
     "text": [
      "* \n",
      "* * \n",
      "* * * \n",
      "* * * * \n",
      "* * * * * \n",
      "* * * * * \n",
      "* * * * \n",
      "* * * \n",
      "* * \n",
      "* \n"
     ]
    }
   ],
   "source": [
    "n = 5\n",
    "i = 1\n",
    "while i <= n:\n",
    "    j = 1\n",
    "    while j <= i:\n",
    "        print(\"*\", end=\" \")\n",
    "        j = j + 1\n",
    "    print(\"\\r\")\n",
    "    i = i + 1\n",
    "\n",
    "    i = n\n",
    "while i >= 1:\n",
    "    j = 1\n",
    "    while j <= i:\n",
    "        print(\"*\", end=\" \")\n",
    "        j = j + 1\n",
    "    print(\"\\r\")\n",
    "    i = i - 1\n"
   ]
  },
  {
   "cell_type": "markdown",
   "id": "24eea0b5-e092-4471-9b4f-c0d507c7d59f",
   "metadata": {
    "tags": []
   },
   "source": [
    "# 7. Reverse a while loop to display numbers from 10 to 1."
   ]
  },
  {
   "cell_type": "code",
   "execution_count": null,
   "id": "165a5412-0db9-41ae-849e-9610033906c9",
   "metadata": {},
   "outputs": [
    {
     "name": "stdout",
     "output_type": "stream",
     "text": [
      "10 9 8 7 6 5 4 3 2 1 "
     ]
    }
   ],
   "source": [
    "n = 10\n",
    "while range(n):\n",
    "    print(n,end=' ')\n",
    "    n = n-1"
   ]
  }
 ],
 "metadata": {
  "kernelspec": {
   "display_name": "Python 3 (ipykernel)",
   "language": "python",
   "name": "python3"
  },
  "language_info": {
   "codemirror_mode": {
    "name": "ipython",
    "version": 3
   },
   "file_extension": ".py",
   "mimetype": "text/x-python",
   "name": "python",
   "nbconvert_exporter": "python",
   "pygments_lexer": "ipython3",
   "version": "3.10.8"
  }
 },
 "nbformat": 4,
 "nbformat_minor": 5
}
