{
 "cells": [
  {
   "cell_type": "markdown",
   "id": "bbfc08e5-50e7-4521-b04e-2d527a6e7407",
   "metadata": {},
   "source": [
    "# Q1. Which keyword is used to create a function? Create a function to return a list of odd numbers in the range of 1 to 25."
   ]
  },
  {
   "cell_type": "code",
   "execution_count": 35,
   "id": "c8fd01f4-bfdc-4271-98e1-bb6c8426b95b",
   "metadata": {},
   "outputs": [],
   "source": [
    "# The keyword \"def\" is used to create a function in Python.\n",
    "def odd_numbers():\n",
    "    list1 = []\n",
    "    for i in range(1,26):\n",
    "        if i % 2 != 0:\n",
    "            list1.append(i)\n",
    "    return(list1)"
   ]
  },
  {
   "cell_type": "code",
   "execution_count": 36,
   "id": "31fdf32b-9d88-48b8-90e7-0e3c08716502",
   "metadata": {},
   "outputs": [
    {
     "data": {
      "text/plain": [
       "[1, 3, 5, 7, 9, 11, 13, 15, 17, 19, 21, 23, 25]"
      ]
     },
     "execution_count": 36,
     "metadata": {},
     "output_type": "execute_result"
    }
   ],
   "source": [
    "odd_numbers()"
   ]
  },
  {
   "cell_type": "markdown",
   "id": "7886faa8-8b1f-4f57-aa13-f5ed8cb56475",
   "metadata": {},
   "source": [
    "# Q2. Why *args and **kwargs is used in some functions? Create a function each for *args and **kwargs to demonstrate their use."
   ]
  },
  {
   "cell_type": "markdown",
   "id": "2d6fd6b8-6f9a-462c-a6a3-8be42b9a4cdb",
   "metadata": {},
   "source": [
    "In Python, the *args and **kwargs syntax allows a function to accept a variable number of arguments.\n",
    "\n",
    "*args is used to send a non-keyworded variable length argument list to the function. The arguments will be received as a tuple in the function.\n",
    "\n",
    "**kwargs is used to send a keyworded variable length argument list to the function. The arguments will be received as a dictionary in the function."
   ]
  },
  {
   "cell_type": "code",
   "execution_count": 12,
   "id": "af39998b-70fd-4521-9e2e-227610e77ddc",
   "metadata": {},
   "outputs": [
    {
     "name": "stdout",
     "output_type": "stream",
     "text": [
      "1\n",
      "2\n",
      "3\n",
      "4\n"
     ]
    }
   ],
   "source": [
    "# *args\n",
    "def args(*args):\n",
    "    for i in args:\n",
    "        print(i)\n",
    "\n",
    "args(1, 2, 3, 4)\n"
   ]
  },
  {
   "cell_type": "code",
   "execution_count": 11,
   "id": "013825e9-2b51-45cb-a89b-7b3958ffcac7",
   "metadata": {},
   "outputs": [
    {
     "name": "stdout",
     "output_type": "stream",
     "text": [
      "name Sunny\n",
      "age 25\n",
      "city Alabama\n"
     ]
    }
   ],
   "source": [
    "def kwargs(**kwargs):\n",
    "    for key, value in kwargs.items():\n",
    "        print(key,value)\n",
    "\n",
    "kwargs(name=\"Sunny\", age=25, city=\"Alabama\")\n"
   ]
  },
  {
   "cell_type": "markdown",
   "id": "b4893604-fdac-4b4b-aaa9-5d4376a0b051",
   "metadata": {},
   "source": [
    "# Q3. What is an iterator in python? Name the method used to initialise the iterator object and the method used for iteration. Use these methods to print the first five elements of the given \n",
    "\n",
    "#### list [2, 4, 6, 8, 10, 12, 14, 16, 18, 20]."
   ]
  },
  {
   "cell_type": "markdown",
   "id": "0b96d7a3-d336-4563-b6c8-d961254e63d8",
   "metadata": {},
   "source": [
    "An iterator in Python is an object that can be iterated (looped) upon to access elements one by one. To initialize an iterator object, the iter() method is used. To access elements one by one from an iterator, the next() method is used."
   ]
  },
  {
   "cell_type": "code",
   "execution_count": 67,
   "id": "bfe4a9c4-84fd-4d79-a67d-63e62a0e1064",
   "metadata": {},
   "outputs": [
    {
     "name": "stdout",
     "output_type": "stream",
     "text": [
      "2\n",
      "4\n",
      "6\n",
      "8\n",
      "10\n"
     ]
    }
   ],
   "source": [
    "l = [2, 4, 6, 8, 10, 12, 14, 16, 18, 20]\n",
    "a = iter(l)\n",
    "\n",
    "for i in range(5):\n",
    "    print(next(a))"
   ]
  },
  {
   "cell_type": "markdown",
   "id": "b849b04e-1b84-4d9a-9e18-78d7b5a0628a",
   "metadata": {},
   "source": [
    "# Q4. What is a generator function in python? Why yield keyword is used? Give an example of a generator function."
   ]
  },
  {
   "cell_type": "markdown",
   "id": "6a1c43ca-3b12-445b-8c34-3480b93a60b8",
   "metadata": {},
   "source": [
    " A generator function in Python is a special type of function that uses the \"yield\" keyword instead of \"return\" to return a value. \n",
    " This allows the function to generate a sequence of values that can be iterated over, and the function is paused and resumed each time the next value is requested. \n",
    " The \"yield\" keyword is used to specify the values that the generator function produces.\n"
   ]
  },
  {
   "cell_type": "code",
   "execution_count": 58,
   "id": "ea9db687-e968-4b4a-85a3-ee6b63df9c70",
   "metadata": {},
   "outputs": [
    {
     "name": "stdout",
     "output_type": "stream",
     "text": [
      "0\n",
      "1\n",
      "4\n",
      "9\n",
      "16\n",
      "25\n",
      "36\n",
      "49\n",
      "64\n",
      "81\n"
     ]
    }
   ],
   "source": [
    "def squares(n):\n",
    "    for i in range(n):\n",
    "        yield i**2\n",
    "\n",
    "for num in squares(10):\n",
    "    print(num)\n"
   ]
  },
  {
   "cell_type": "markdown",
   "id": "cbdf044e-81cd-470e-ba92-fb7090fe1288",
   "metadata": {},
   "source": [
    "# Q5. Create a generator function for prime numbers less than 1000. Use the next() method to print the first 20 prime numbers."
   ]
  },
  {
   "cell_type": "code",
   "execution_count": 8,
   "id": "e7d46c4e-18be-41ee-b08d-03db4f2a4c7f",
   "metadata": {},
   "outputs": [
    {
     "name": "stdout",
     "output_type": "stream",
     "text": [
      "2\n",
      "3\n",
      "5\n",
      "7\n",
      "11\n",
      "13\n",
      "17\n",
      "19\n",
      "23\n",
      "29\n",
      "31\n",
      "37\n",
      "41\n",
      "43\n",
      "47\n",
      "53\n",
      "59\n",
      "61\n",
      "67\n",
      "71\n"
     ]
    }
   ],
   "source": [
    "def prime():\n",
    "    primee= []\n",
    "    for i in range(2,1000):\n",
    "        for j in range(2,i):\n",
    "            if i % j == 0:\n",
    "                break\n",
    "        else:\n",
    "            primee.append(i)\n",
    "            yield i\n",
    "        \n",
    "primes = prime()\n",
    "for i in range(20):\n",
    "    print(next(primes))"
   ]
  }
 ],
 "metadata": {
  "kernelspec": {
   "display_name": "Python 3 (ipykernel)",
   "language": "python",
   "name": "python3"
  },
  "language_info": {
   "codemirror_mode": {
    "name": "ipython",
    "version": 3
   },
   "file_extension": ".py",
   "mimetype": "text/x-python",
   "name": "python",
   "nbconvert_exporter": "python",
   "pygments_lexer": "ipython3",
   "version": "3.10.8"
  }
 },
 "nbformat": 4,
 "nbformat_minor": 5
}
