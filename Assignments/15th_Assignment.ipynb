{
 "cells": [
  {
   "cell_type": "markdown",
   "id": "474123b3-29ec-4fe3-a146-98625f5287af",
   "metadata": {},
   "source": [
    "# Q1. What is a database? Differentiate between SQL and NoSQL databases."
   ]
  },
  {
   "cell_type": "markdown",
   "id": "6f966949-339b-42a3-9883-f1c523b03884",
   "metadata": {},
   "source": [
    "**Database:** A database is a software application that allows you to store, organize, and retrieve data. It is a structured collection of data that can be accessed, managed, and updated in various ways. Databases are essential for managing and processing large volumes of data in various industries, such as finance, healthcare, e-commerce, and more.\n",
    "\n",
    "SQL (Structured Query Language) and NoSQL (Not Only SQL) are two different types of databases.\n",
    "\n",
    "**SQL Databases:** SQL databases are relational databases, which means that they use a tabular structure with rows and columns to store data. SQL databases have a fixed schema, meaning that the structure of the data is defined beforehand, and the data must conform to that structure. Examples of SQL databases include MySQL, Oracle, and PostgreSQL.\n",
    "\n",
    "**NoSQL Databases:** NoSQL databases, on the other hand, are non-relational databases that do not use the traditional table-based schema. NoSQL databases are schema-less, meaning that data can be added to the database without defining the structure beforehand. Instead, NoSQL databases use various data models, such as key-value, document, graph, or column-family. Examples of NoSQL databases include MongoDB, Cassandra, and Redis.\n",
    "\n"
   ]
  },
  {
   "cell_type": "markdown",
   "id": "b5c452cd-a5eb-4805-98d8-af6d82db5d21",
   "metadata": {},
   "source": [
    "# Q2. What is DDL? Explain why CREATE, DROP, ALTER, and TRUNCATE are used with an example."
   ]
  },
  {
   "cell_type": "markdown",
   "id": "87363d5a-4d88-44d6-8dda-b0b23493efaa",
   "metadata": {},
   "source": [
    "DDL: DDL stands for Data Definition Language, and it is a subset of SQL that is used to define and manage the structure of a database. DDL statements are used to create, modify, and delete database objects such as tables, views, indexes, and stored procedures. Some of the commonly used statements are:\n",
    "\n",
    "**CREATE:** The CREATE statement is used to create a new database object, such as a table or view. For example, the following statement creates a new table called \"employees\" with four columns:"
   ]
  },
  {
   "cell_type": "code",
   "execution_count": null,
   "id": "057d9140-66f5-412e-9e39-721cedc52ce6",
   "metadata": {},
   "outputs": [],
   "source": [
    "CREATE TABLE employees (\n",
    "  id INT PRIMARY KEY,\n",
    "  name VARCHAR(50),\n",
    "  age INT,\n",
    "  salary DECIMAL(10, 2)\n",
    ");"
   ]
  },
  {
   "cell_type": "markdown",
   "id": "5aee354e-82b5-42fb-8b6f-efb4612cb079",
   "metadata": {},
   "source": [
    "2. **DROP:** The DROP statement is used to remove an existing database object. For example, the following statement drops the \"employees\" table:\n"
   ]
  },
  {
   "cell_type": "code",
   "execution_count": null,
   "id": "056d1a31-da47-405c-a3ec-e217596dfb27",
   "metadata": {},
   "outputs": [],
   "source": [
    "DROP TABLE employees;"
   ]
  },
  {
   "cell_type": "markdown",
   "id": "13d10ce6-bdd3-404e-9c98-3950dac84b19",
   "metadata": {},
   "source": [
    "3. **ALTER:** The ALTER statement is used to modify the structure of an existing database object, such as a table. For example, the following statement adds a new column called \"department\" to the \"employees\" table:\n"
   ]
  },
  {
   "cell_type": "code",
   "execution_count": null,
   "id": "d3576d54-6dd3-4c79-8219-12004d39c4a0",
   "metadata": {},
   "outputs": [],
   "source": [
    "ALTER TABLE employees ADD COLUMN department VARCHAR(50);"
   ]
  },
  {
   "cell_type": "markdown",
   "id": "ff062981-996a-4c70-a6c6-d024fafaa6d7",
   "metadata": {},
   "source": [
    "4. **TRUNCATE:** The TRUNCATE statement is used to remove all data from an existing table, but it does not remove the table structure. For example, the following statement removes all data from the \"employees\" table:"
   ]
  },
  {
   "cell_type": "code",
   "execution_count": null,
   "id": "2aa17c30-4a47-4ca9-83a4-ce554a86ee0d",
   "metadata": {},
   "outputs": [],
   "source": [
    "TRUNCATE TABLE employees;"
   ]
  },
  {
   "cell_type": "markdown",
   "id": "16706876-d7ed-44bb-98d7-d54ccadd9c14",
   "metadata": {},
   "source": [
    "# 3. What is DML? Explain INSERT, UPDATE, and DELETE with an example."
   ]
  },
  {
   "cell_type": "markdown",
   "id": "b231e25c-0b2f-4fff-b9ef-817a5d1f8971",
   "metadata": {},
   "source": [
    "DML: DML stands for Data Manipulation Language, and it is a subset of SQL that is used to manipulate the data in a database. DML statements are used to insert, update, and delete data in a table. The following are some commonly used DML statements:\n",
    "\n",
    "1. **INSERT:** The INSERT statement is used to insert new data into a table. For example, the following statement inserts a new record into the \"employees\" table:\n"
   ]
  },
  {
   "cell_type": "code",
   "execution_count": null,
   "id": "6bd1acb0-51db-438b-acd5-84c0bb8b37f1",
   "metadata": {},
   "outputs": [],
   "source": [
    "INSERT INTO employees (id, name, age, salary, department)\n",
    "VALUES (1, 'John Doe', 30, 50000, 'IT');"
   ]
  },
  {
   "cell_type": "markdown",
   "id": "839ee5ae-4156-4177-8bc2-50234650df10",
   "metadata": {},
   "source": [
    "2. **UPDATE:** The UPDATE statement is used to modify existing data in a table. For example, the following statement updates the salary of an employee with an ID of 1 in the \"employees\" table:"
   ]
  },
  {
   "cell_type": "code",
   "execution_count": null,
   "id": "f19cd9bd-dbcf-4630-97ff-6e6fb2826b25",
   "metadata": {},
   "outputs": [],
   "source": [
    "UPDATE employees\n",
    "SET salary = 60000\n",
    "WHERE id = 1;"
   ]
  },
  {
   "cell_type": "markdown",
   "id": "ebfee9cf-f953-4986-9dcd-4f1565b8145c",
   "metadata": {},
   "source": [
    "3. **DELETE:** The DELETE statement is used to remove data from a table. For example, the following statement removes an employee with an ID of 1 from the \"employees\" table:"
   ]
  },
  {
   "cell_type": "code",
   "execution_count": null,
   "id": "424a73a2-2bcf-4d8e-8871-e630a7aa7734",
   "metadata": {},
   "outputs": [],
   "source": [
    "DELETE FROM employees\n",
    "WHERE id = 1;"
   ]
  },
  {
   "cell_type": "markdown",
   "id": "11f26504-fbce-4a31-9d5c-ad72d5296ab5",
   "metadata": {},
   "source": [
    "# Q4. What is DQL? Explain SELECT with an example."
   ]
  },
  {
   "cell_type": "markdown",
   "id": "a58f8cc5-0709-42c0-bcd5-0602844e2d93",
   "metadata": {},
   "source": [
    "DQL: DQL stands for Data Query Language, and it is a subset of SQL that is used to query and retrieve data from a database. DQL statements are used to retrieve data from one or more tables in a database. The following is a commonly used DQL statement:\n",
    "\n",
    "SELECT: The SELECT statement is used to retrieve data from one or more tables in a database. For example, the following statement retrieves all data from the \"employees\" table:\n"
   ]
  },
  {
   "cell_type": "code",
   "execution_count": null,
   "id": "f2e104ee-44ec-4dea-ba60-e079f4eeee40",
   "metadata": {},
   "outputs": [],
   "source": [
    "# This statement returns all the data in the \"employees\" table, including the ID, name, age, salary, and department of each employee.\n",
    "SELECT * FROM employees;"
   ]
  },
  {
   "cell_type": "code",
   "execution_count": null,
   "id": "87cba77d-cb0e-43bc-bb87-125c7a5b07ec",
   "metadata": {},
   "outputs": [],
   "source": [
    "# This statement returns only the name and salary data for each employee in the \"employees\" table.\n",
    "SELECT name, salary FROM employees;"
   ]
  },
  {
   "cell_type": "code",
   "execution_count": null,
   "id": "3c2f7e73-45ad-4cb6-8fcd-68feb563f481",
   "metadata": {},
   "outputs": [],
   "source": [
    "# This statement returns only the data for employees with a salary greater than 50000.\n",
    "SELECT * FROM employees\n",
    "WHERE salary > 50000;"
   ]
  },
  {
   "cell_type": "markdown",
   "id": "7fa4e488-12d0-450b-8ea1-27430ce66142",
   "metadata": {},
   "source": [
    "# Q5. Explain Primary Key and Foreign Key."
   ]
  },
  {
   "cell_type": "markdown",
   "id": "2d22ccce-ac91-4ef6-8e2b-294e308190ac",
   "metadata": {},
   "source": [
    "**A primary key** is a column or set of columns in a table that uniquely identifies each row in the table. A primary key must have a unique value for each row and cannot be null. It is used to enforce data integrity and to establish relationships between tables. In most databases, a primary key is automatically indexed for faster retrieval of data.\n",
    "\n",
    "**A foreign key** is a column or set of columns in one table that refers to the primary key of another table. The foreign key establishes a relationship between the two tables and is used to enforce referential integrity, which ensures that the data in the foreign key column of one table corresponds to the data in the primary key column of the other table."
   ]
  },
  {
   "cell_type": "markdown",
   "id": "ea8972eb-480e-4ea6-8489-7103104ab42e",
   "metadata": {},
   "source": [
    "# Q6. Write a python code to connect MySQL to python. Explain the cursor() and execute() method.\n",
    "\n"
   ]
  },
  {
   "cell_type": "markdown",
   "id": "798f3b13-80d9-4c99-96d6-2cdf0d96a6d4",
   "metadata": {},
   "source": [
    "Connecting MySQL to Python: In Python, the ___mysql.connector___ package provides a way to connect to a MySQL database and execute SQL statements\n",
    "\n",
    "The **cursor()** method is used to create a cursor object that you can use to execute SQL statements. The cursor object provides a way to traverse and manipulate the data returned by a SQL query. Here is an example of how to create a cursor object:"
   ]
  },
  {
   "cell_type": "code",
   "execution_count": null,
   "id": "f5848e4e-40fb-44cd-bb1a-bb96df2142d9",
   "metadata": {},
   "outputs": [],
   "source": [
    "import mysql.connector\n",
    "\n",
    "# create a connection to a MySQL database\n",
    "mydb = mysql.connector.connect(\n",
    "  host=\"localhost\",\n",
    "  user=\"abc\",\n",
    "  password=\"password\"\n",
    ")\n",
    "\n",
    "# create a cursor object\n",
    "mycursor = mydb.cursor()"
   ]
  },
  {
   "cell_type": "markdown",
   "id": "19084bbc-a6a6-4f72-a9fa-5e46cc48140a",
   "metadata": {},
   "source": [
    "The **execute()** method is used to execute a SQL statement using the cursor object. You can use this method to execute any SQL statement, including SELECT, INSERT, UPDATE, and DELETE statements. Here is an example of how to execute a SELECT statement:"
   ]
  },
  {
   "cell_type": "code",
   "execution_count": null,
   "id": "529f5a78-3210-4b65-98a1-5294e8295980",
   "metadata": {},
   "outputs": [],
   "source": [
    "# execute a SELECT statement using the cursor object\n",
    "mycursor.execute('SELECT * FROM employees')\n",
    "\n",
    "# iterate through the rows returned by the query\n",
    "for row in mycursor:\n",
    "    print(row)"
   ]
  },
  {
   "cell_type": "markdown",
   "id": "56caf879-e76a-4b7b-b3f9-5276de74b4fa",
   "metadata": {},
   "source": [
    "# Q7. Give the order of execution of SQL clauses in an SQL query.\n"
   ]
  },
  {
   "cell_type": "markdown",
   "id": "f73e042f-125d-4ab9-8ffd-0a3c7b0e9b44",
   "metadata": {},
   "source": [
    "In an SQL query, the order of execution of SQL clauses is as follows:\n",
    "\n",
    "**FROM:** This clause specifies the table or tables from which the data will be selected.\n",
    "\n",
    "**JOIN:** This clause is used to combine rows from two or more tables based on a related column between them.\n",
    "\n",
    "**WHERE:** This clause is used to filter rows based on a specified condition.\n",
    "\n",
    "**GROUP BY:** This clause is used to group the selected rows based on one or more columns.\n",
    "\n",
    "**HAVING:** This clause is used to filter groups based on a specified condition.\n",
    "\n",
    "**SELECT:** This clause is used to select the columns to include in the result set.\n",
    "\n",
    "**DISTINCT:** This clause is used to remove duplicates from the result set.\n",
    "\n",
    "**ORDER BY:** This clause is used to sort the result set based on one or more columns.\n",
    "\n",
    "**LIMIT:** This clause is used to limit the number of rows returned in the result set."
   ]
  }
 ],
 "metadata": {
  "kernelspec": {
   "display_name": "Python 3 (ipykernel)",
   "language": "python",
   "name": "python3"
  },
  "language_info": {
   "codemirror_mode": {
    "name": "ipython",
    "version": 3
   },
   "file_extension": ".py",
   "mimetype": "text/x-python",
   "name": "python",
   "nbconvert_exporter": "python",
   "pygments_lexer": "ipython3",
   "version": "3.10.8"
  }
 },
 "nbformat": 4,
 "nbformat_minor": 5
}
