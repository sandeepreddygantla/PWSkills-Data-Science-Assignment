{
 "cells": [
  {
   "cell_type": "markdown",
   "id": "4a269554-698c-4999-bbdb-932021a28e2c",
   "metadata": {},
   "source": [
    "# Q1. How can you create a Bokeh plot using Python code?"
   ]
  },
  {
   "cell_type": "markdown",
   "id": "09560986-ceac-4220-a861-dd10c7fe4877",
   "metadata": {},
   "source": [
    "1. Install the Bokeh library. You can install Bokeh using pip or conda by running the following command in your terminal:"
   ]
  },
  {
   "cell_type": "code",
   "execution_count": 5,
   "id": "bb933a68-ad27-4d25-b32b-22bf6be859d2",
   "metadata": {},
   "outputs": [
    {
     "name": "stdout",
     "output_type": "stream",
     "text": [
      "Requirement already satisfied: bokeh in /opt/conda/lib/python3.10/site-packages (3.0.3)\n",
      "Requirement already satisfied: contourpy>=1 in /opt/conda/lib/python3.10/site-packages (from bokeh) (1.0.6)\n",
      "Requirement already satisfied: pillow>=7.1.0 in /opt/conda/lib/python3.10/site-packages (from bokeh) (9.2.0)\n",
      "Requirement already satisfied: xyzservices>=2021.09.1 in /opt/conda/lib/python3.10/site-packages (from bokeh) (2022.9.0)\n",
      "Requirement already satisfied: Jinja2>=2.9 in /opt/conda/lib/python3.10/site-packages (from bokeh) (3.1.2)\n",
      "Requirement already satisfied: tornado>=5.1 in /opt/conda/lib/python3.10/site-packages (from bokeh) (6.1)\n",
      "Requirement already satisfied: pandas>=1.2 in /opt/conda/lib/python3.10/site-packages (from bokeh) (1.5.2)\n",
      "Requirement already satisfied: PyYAML>=3.10 in /opt/conda/lib/python3.10/site-packages (from bokeh) (6.0)\n",
      "Requirement already satisfied: numpy>=1.11.3 in /opt/conda/lib/python3.10/site-packages (from bokeh) (1.23.5)\n",
      "Requirement already satisfied: packaging>=16.8 in /opt/conda/lib/python3.10/site-packages (from bokeh) (22.0)\n",
      "Requirement already satisfied: MarkupSafe>=2.0 in /opt/conda/lib/python3.10/site-packages (from Jinja2>=2.9->bokeh) (2.1.1)\n",
      "Requirement already satisfied: python-dateutil>=2.8.1 in /opt/conda/lib/python3.10/site-packages (from pandas>=1.2->bokeh) (2.8.2)\n",
      "Requirement already satisfied: pytz>=2020.1 in /opt/conda/lib/python3.10/site-packages (from pandas>=1.2->bokeh) (2022.6)\n",
      "Requirement already satisfied: six>=1.5 in /opt/conda/lib/python3.10/site-packages (from python-dateutil>=2.8.1->pandas>=1.2->bokeh) (1.16.0)\n",
      "Note: you may need to restart the kernel to use updated packages.\n"
     ]
    }
   ],
   "source": [
    "pip install bokeh"
   ]
  },
  {
   "cell_type": "markdown",
   "id": "891ecc13-9653-4d3b-bf64-fe7921b962a8",
   "metadata": {},
   "source": [
    "2. Import the necessary modules from Bokeh and any other libraries you may need. For example, to create a scatter plot, you may also need NumPy and Pandas:"
   ]
  },
  {
   "cell_type": "code",
   "execution_count": 6,
   "id": "7087ff52-7d5a-48ce-886a-b7d694c1314b",
   "metadata": {},
   "outputs": [],
   "source": [
    "import numpy as np\n",
    "import pandas as pd\n",
    "from bokeh.plotting import figure, output_file, show\n"
   ]
  },
  {
   "cell_type": "markdown",
   "id": "94fa0de8-6300-4ae0-87bb-237e5835ffbb",
   "metadata": {},
   "source": [
    "3. Prepare your data. For example, you can create a Pandas dataframe or NumPy arrays:"
   ]
  },
  {
   "cell_type": "code",
   "execution_count": 8,
   "id": "bae50f93-7289-4a8b-aa5f-052557786517",
   "metadata": {},
   "outputs": [],
   "source": [
    "# create some data\n",
    "x = np.random.rand(50) * 10\n",
    "y = np.random.rand(50) * 10\n",
    "df = pd.DataFrame({'x': x, 'y': y})\n"
   ]
  },
  {
   "cell_type": "markdown",
   "id": "d9519720-8909-447f-a26c-c6036dc2e503",
   "metadata": {},
   "source": [
    "4. Define your plot by creating a **figure** object and setting its properties. For example, you can set the plot width and height, title, and axis labels:"
   ]
  },
  {
   "cell_type": "code",
   "execution_count": 9,
   "id": "898d5d0b-a789-4d9f-8810-f790bd4b5bca",
   "metadata": {},
   "outputs": [],
   "source": [
    "# create a figure object\n",
    "p = figure(title='Scatter Plot', x_axis_label='X', y_axis_label='Y', width=600, height=400)\n"
   ]
  },
  {
   "cell_type": "markdown",
   "id": "cef77a67-a9a1-429d-be17-046dd46b262c",
   "metadata": {},
   "source": [
    "5. Add the data to the plot using Bokeh's **scatter** method. You can specify the x and y values, as well as any other plot properties:"
   ]
  },
  {
   "cell_type": "code",
   "execution_count": 10,
   "id": "941371dc-226f-4908-a7a3-74086a1fbe9f",
   "metadata": {},
   "outputs": [
    {
     "data": {
      "text/html": [
       "<div style=\"display: table;\"><div style=\"display: table-row;\"><div style=\"display: table-cell;\"><b title=\"bokeh.models.renderers.glyph_renderer.GlyphRenderer\">GlyphRenderer</b>(</div><div style=\"display: table-cell;\">id&nbsp;=&nbsp;'p1353', <span id=\"p1357\" style=\"cursor: pointer;\">&hellip;)</span></div></div><div class=\"p1356\" style=\"display: none;\"><div style=\"display: table-cell;\"></div><div style=\"display: table-cell;\">coordinates&nbsp;=&nbsp;None,</div></div><div class=\"p1356\" style=\"display: none;\"><div style=\"display: table-cell;\"></div><div style=\"display: table-cell;\">data_source&nbsp;=&nbsp;ColumnDataSource(id='p1344', ...),</div></div><div class=\"p1356\" style=\"display: none;\"><div style=\"display: table-cell;\"></div><div style=\"display: table-cell;\">glyph&nbsp;=&nbsp;Scatter(id='p1350', ...),</div></div><div class=\"p1356\" style=\"display: none;\"><div style=\"display: table-cell;\"></div><div style=\"display: table-cell;\">group&nbsp;=&nbsp;None,</div></div><div class=\"p1356\" style=\"display: none;\"><div style=\"display: table-cell;\"></div><div style=\"display: table-cell;\">hover_glyph&nbsp;=&nbsp;None,</div></div><div class=\"p1356\" style=\"display: none;\"><div style=\"display: table-cell;\"></div><div style=\"display: table-cell;\">js_event_callbacks&nbsp;=&nbsp;{},</div></div><div class=\"p1356\" style=\"display: none;\"><div style=\"display: table-cell;\"></div><div style=\"display: table-cell;\">js_property_callbacks&nbsp;=&nbsp;{},</div></div><div class=\"p1356\" style=\"display: none;\"><div style=\"display: table-cell;\"></div><div style=\"display: table-cell;\">level&nbsp;=&nbsp;'glyph',</div></div><div class=\"p1356\" style=\"display: none;\"><div style=\"display: table-cell;\"></div><div style=\"display: table-cell;\">muted&nbsp;=&nbsp;False,</div></div><div class=\"p1356\" style=\"display: none;\"><div style=\"display: table-cell;\"></div><div style=\"display: table-cell;\">muted_glyph&nbsp;=&nbsp;Scatter(id='p1352', ...),</div></div><div class=\"p1356\" style=\"display: none;\"><div style=\"display: table-cell;\"></div><div style=\"display: table-cell;\">name&nbsp;=&nbsp;None,</div></div><div class=\"p1356\" style=\"display: none;\"><div style=\"display: table-cell;\"></div><div style=\"display: table-cell;\">nonselection_glyph&nbsp;=&nbsp;Scatter(id='p1351', ...),</div></div><div class=\"p1356\" style=\"display: none;\"><div style=\"display: table-cell;\"></div><div style=\"display: table-cell;\">selection_glyph&nbsp;=&nbsp;'auto',</div></div><div class=\"p1356\" style=\"display: none;\"><div style=\"display: table-cell;\"></div><div style=\"display: table-cell;\">subscribed_events&nbsp;=&nbsp;PropertyValueSet(),</div></div><div class=\"p1356\" style=\"display: none;\"><div style=\"display: table-cell;\"></div><div style=\"display: table-cell;\">syncable&nbsp;=&nbsp;True,</div></div><div class=\"p1356\" style=\"display: none;\"><div style=\"display: table-cell;\"></div><div style=\"display: table-cell;\">tags&nbsp;=&nbsp;[],</div></div><div class=\"p1356\" style=\"display: none;\"><div style=\"display: table-cell;\"></div><div style=\"display: table-cell;\">view&nbsp;=&nbsp;CDSView(id='p1354', ...),</div></div><div class=\"p1356\" style=\"display: none;\"><div style=\"display: table-cell;\"></div><div style=\"display: table-cell;\">visible&nbsp;=&nbsp;True,</div></div><div class=\"p1356\" style=\"display: none;\"><div style=\"display: table-cell;\"></div><div style=\"display: table-cell;\">x_range_name&nbsp;=&nbsp;'default',</div></div><div class=\"p1356\" style=\"display: none;\"><div style=\"display: table-cell;\"></div><div style=\"display: table-cell;\">y_range_name&nbsp;=&nbsp;'default')</div></div></div>\n",
       "<script>\n",
       "(function() {\n",
       "  let expanded = false;\n",
       "  const ellipsis = document.getElementById(\"p1357\");\n",
       "  ellipsis.addEventListener(\"click\", function() {\n",
       "    const rows = document.getElementsByClassName(\"p1356\");\n",
       "    for (let i = 0; i < rows.length; i++) {\n",
       "      const el = rows[i];\n",
       "      el.style.display = expanded ? \"none\" : \"table-row\";\n",
       "    }\n",
       "    ellipsis.innerHTML = expanded ? \"&hellip;)\" : \"&lsaquo;&lsaquo;&lsaquo;\";\n",
       "    expanded = !expanded;\n",
       "  });\n",
       "})();\n",
       "</script>\n"
      ],
      "text/plain": [
       "GlyphRenderer(id='p1353', ...)"
      ]
     },
     "execution_count": 10,
     "metadata": {},
     "output_type": "execute_result"
    }
   ],
   "source": [
    "# add the data to the plot\n",
    "p.scatter(x='x', y='y', source=df, size=10, color='blue')\n"
   ]
  },
  {
   "cell_type": "markdown",
   "id": "899507f7-a834-4ae4-9b2a-15e82159d328",
   "metadata": {},
   "source": [
    "6. Save the plot to an HTML file using output_file and Show the plot in a browser window using Bokeh's show method:"
   ]
  },
  {
   "cell_type": "code",
   "execution_count": 12,
   "id": "2d2833b4-37b9-4d35-8dfe-837ae60b3a36",
   "metadata": {},
   "outputs": [
    {
     "data": {
      "text/html": [
       "\n",
       "  <div id=\"c112cdb4-aee0-4183-9e24-622a29b943ab\" data-root-id=\"p1297\" style=\"display: contents;\"></div>\n"
      ]
     },
     "metadata": {},
     "output_type": "display_data"
    },
    {
     "data": {
      "application/javascript": [
       "(function(root) {\n",
       "  function embed_document(root) {\n",
       "  const docs_json = {\"8f66a7d7-d2ec-4762-803e-ee55b2553cbe\":{\"version\":\"3.0.3\",\"title\":\"Bokeh Application\",\"defs\":[],\"roots\":[{\"type\":\"object\",\"name\":\"Figure\",\"id\":\"p1297\",\"attributes\":{\"height\":400,\"x_range\":{\"type\":\"object\",\"name\":\"DataRange1d\",\"id\":\"p1298\"},\"y_range\":{\"type\":\"object\",\"name\":\"DataRange1d\",\"id\":\"p1299\"},\"x_scale\":{\"type\":\"object\",\"name\":\"LinearScale\",\"id\":\"p1311\"},\"y_scale\":{\"type\":\"object\",\"name\":\"LinearScale\",\"id\":\"p1313\"},\"title\":{\"type\":\"object\",\"name\":\"Title\",\"id\":\"p1300\",\"attributes\":{\"text\":\"Scatter Plot\"}},\"renderers\":[{\"type\":\"object\",\"name\":\"GlyphRenderer\",\"id\":\"p1353\",\"attributes\":{\"data_source\":{\"type\":\"object\",\"name\":\"ColumnDataSource\",\"id\":\"p1344\",\"attributes\":{\"selected\":{\"type\":\"object\",\"name\":\"Selection\",\"id\":\"p1345\",\"attributes\":{\"indices\":[],\"line_indices\":[]}},\"selection_policy\":{\"type\":\"object\",\"name\":\"UnionRenderers\",\"id\":\"p1346\"},\"data\":{\"type\":\"map\",\"entries\":[[\"index\",{\"type\":\"ndarray\",\"array\":{\"type\":\"bytes\",\"data\":\"AAAAAAEAAAACAAAAAwAAAAQAAAAFAAAABgAAAAcAAAAIAAAACQAAAAoAAAALAAAADAAAAA0AAAAOAAAADwAAABAAAAARAAAAEgAAABMAAAAUAAAAFQAAABYAAAAXAAAAGAAAABkAAAAaAAAAGwAAABwAAAAdAAAAHgAAAB8AAAAgAAAAIQAAACIAAAAjAAAAJAAAACUAAAAmAAAAJwAAACgAAAApAAAAKgAAACsAAAAsAAAALQAAAC4AAAAvAAAAMAAAADEAAAA=\"},\"shape\":[50],\"dtype\":\"int32\",\"order\":\"little\"}],[\"x\",{\"type\":\"ndarray\",\"array\":{\"type\":\"bytes\",\"data\":\"hXI+OLC8IEAqSCFZyJQHQDflyl1b+xlApIm7Ld2KI0CQIJ68WV8FQGh7/ayAff4/sCk8LNmdGkBHiayjWIYiQCRQj0PdGN0/UH2hQRF9GUCXiBA0UewjQHDhZb7s3RZAVsefuLfZG0DvlUqZPAgfQNso3kfsXRJA7hHOUG8W+j/kQ/4OonYUQL6Bf7zEDPc/u91L0uUwHUB4jgVrVIYHQOIZXTwSoQNAZWklbIrhBUCc27okMCUFQOvIAnvilvg/zhkwrDLCBkAKrXKzOvESQM5hQ+UFJgBACm6vpwVwFECTBh4hLJ8ZQAqQSxCHAA5AnMKxr0zZIECmgPnLtN8hQCAIozzc+AtAN15hGYX9IEDZ5Dh3mU4NQF0eq7K7RiFAkDYrAQvYuj/tVQSTfLvwP/Q+13so3htAt8Vqy6XNCkDN913ypNMTQMRmfQMQqBtAfvzLfb4zBUA+LIR+qs4HQHSxQW5I+u4/wDcCyL6hIUAIGJtEWXIfQK6w6+/agwNA9tUU8cylCEDEUSeEh04DQA==\"},\"shape\":[50],\"dtype\":\"float64\",\"order\":\"little\"}],[\"y\",{\"type\":\"ndarray\",\"array\":{\"type\":\"bytes\",\"data\":\"Rx8F0lQzE0BeS3tZWN3+P5WJIQpV2RJARtjfp4aLGECVYW3k8w70P/ADOIrmfus/sg7cKD/06j9RO3GlZYkiQC5GkUI3LCJA/Dac3wGA8D+44ETtWo8WQDpKvWJcJBRAFppAqI+hD0BUEb6/jH0OQFpOLfj+BgpA7F+Q1IxI2j8wm9xxcCwVQB60KcrqM+s/IPL2oLSREUAbi/hFHA0hQECUWmCnEyBAKutlwtDnEkCOJHhLbtoVQPjT1j8eHQRAjSYWnO2LF0DK6N6LYCkPQK6iRpkYehlAfEUOK4CzI0DAaZzF6QMQQHrTmh0TExFA+8x1JCJKHUCbyp3WMHwdQBQTuZGvGdo/lBVdBBsQFkA4HvYNXXshQNBvuLLVERZA+oHUiOJJEECo9fF2R0UAQPFJwNJc3hhARm7+55XLD0BPUd2DKqQiQNbBQhPmSghADvszYeObIECaLRypScYaQLTYMduGuApAhRcmxD8XF0B8EGUDomAbQPUqFtVQVR1A10zQJdv7/T9o06zRt573Pw==\"},\"shape\":[50],\"dtype\":\"float64\",\"order\":\"little\"}]]}}},\"view\":{\"type\":\"object\",\"name\":\"CDSView\",\"id\":\"p1354\",\"attributes\":{\"filter\":{\"type\":\"object\",\"name\":\"AllIndices\",\"id\":\"p1355\"}}},\"glyph\":{\"type\":\"object\",\"name\":\"Scatter\",\"id\":\"p1350\",\"attributes\":{\"x\":{\"type\":\"field\",\"field\":\"x\"},\"y\":{\"type\":\"field\",\"field\":\"y\"},\"size\":{\"type\":\"value\",\"value\":10},\"line_color\":{\"type\":\"value\",\"value\":\"blue\"},\"fill_color\":{\"type\":\"value\",\"value\":\"blue\"},\"hatch_color\":{\"type\":\"value\",\"value\":\"blue\"}}},\"nonselection_glyph\":{\"type\":\"object\",\"name\":\"Scatter\",\"id\":\"p1351\",\"attributes\":{\"x\":{\"type\":\"field\",\"field\":\"x\"},\"y\":{\"type\":\"field\",\"field\":\"y\"},\"size\":{\"type\":\"value\",\"value\":10},\"line_color\":{\"type\":\"value\",\"value\":\"blue\"},\"line_alpha\":{\"type\":\"value\",\"value\":0.1},\"fill_color\":{\"type\":\"value\",\"value\":\"blue\"},\"fill_alpha\":{\"type\":\"value\",\"value\":0.1},\"hatch_color\":{\"type\":\"value\",\"value\":\"blue\"},\"hatch_alpha\":{\"type\":\"value\",\"value\":0.1}}},\"muted_glyph\":{\"type\":\"object\",\"name\":\"Scatter\",\"id\":\"p1352\",\"attributes\":{\"x\":{\"type\":\"field\",\"field\":\"x\"},\"y\":{\"type\":\"field\",\"field\":\"y\"},\"size\":{\"type\":\"value\",\"value\":10},\"line_color\":{\"type\":\"value\",\"value\":\"blue\"},\"line_alpha\":{\"type\":\"value\",\"value\":0.2},\"fill_color\":{\"type\":\"value\",\"value\":\"blue\"},\"fill_alpha\":{\"type\":\"value\",\"value\":0.2},\"hatch_color\":{\"type\":\"value\",\"value\":\"blue\"},\"hatch_alpha\":{\"type\":\"value\",\"value\":0.2}}}}}],\"toolbar\":{\"type\":\"object\",\"name\":\"Toolbar\",\"id\":\"p1306\",\"attributes\":{\"tools\":[{\"type\":\"object\",\"name\":\"PanTool\",\"id\":\"p1329\"},{\"type\":\"object\",\"name\":\"WheelZoomTool\",\"id\":\"p1330\"},{\"type\":\"object\",\"name\":\"BoxZoomTool\",\"id\":\"p1331\",\"attributes\":{\"overlay\":{\"type\":\"object\",\"name\":\"BoxAnnotation\",\"id\":\"p1332\",\"attributes\":{\"syncable\":false,\"level\":\"overlay\",\"visible\":false,\"left_units\":\"canvas\",\"right_units\":\"canvas\",\"bottom_units\":\"canvas\",\"top_units\":\"canvas\",\"line_color\":\"black\",\"line_alpha\":1.0,\"line_width\":2,\"line_dash\":[4,4],\"fill_color\":\"lightgrey\",\"fill_alpha\":0.5}}}},{\"type\":\"object\",\"name\":\"SaveTool\",\"id\":\"p1333\"},{\"type\":\"object\",\"name\":\"ResetTool\",\"id\":\"p1334\"},{\"type\":\"object\",\"name\":\"HelpTool\",\"id\":\"p1335\"}]}},\"left\":[{\"type\":\"object\",\"name\":\"LinearAxis\",\"id\":\"p1322\",\"attributes\":{\"ticker\":{\"type\":\"object\",\"name\":\"BasicTicker\",\"id\":\"p1324\",\"attributes\":{\"mantissas\":[1,2,5]}},\"formatter\":{\"type\":\"object\",\"name\":\"BasicTickFormatter\",\"id\":\"p1323\"},\"axis_label\":\"Y\",\"major_label_policy\":{\"type\":\"object\",\"name\":\"AllLabels\",\"id\":\"p1325\"}}}],\"below\":[{\"type\":\"object\",\"name\":\"LinearAxis\",\"id\":\"p1315\",\"attributes\":{\"ticker\":{\"type\":\"object\",\"name\":\"BasicTicker\",\"id\":\"p1317\",\"attributes\":{\"mantissas\":[1,2,5]}},\"formatter\":{\"type\":\"object\",\"name\":\"BasicTickFormatter\",\"id\":\"p1316\"},\"axis_label\":\"X\",\"major_label_policy\":{\"type\":\"object\",\"name\":\"AllLabels\",\"id\":\"p1318\"}}}],\"center\":[{\"type\":\"object\",\"name\":\"Grid\",\"id\":\"p1321\",\"attributes\":{\"axis\":{\"id\":\"p1315\"}}},{\"type\":\"object\",\"name\":\"Grid\",\"id\":\"p1328\",\"attributes\":{\"dimension\":1,\"axis\":{\"id\":\"p1322\"}}}]}}]}};\n",
       "  const render_items = [{\"docid\":\"8f66a7d7-d2ec-4762-803e-ee55b2553cbe\",\"roots\":{\"p1297\":\"c112cdb4-aee0-4183-9e24-622a29b943ab\"},\"root_ids\":[\"p1297\"]}];\n",
       "  root.Bokeh.embed.embed_items_notebook(docs_json, render_items);\n",
       "  }\n",
       "  if (root.Bokeh !== undefined) {\n",
       "    embed_document(root);\n",
       "  } else {\n",
       "    let attempts = 0;\n",
       "    const timer = setInterval(function(root) {\n",
       "      if (root.Bokeh !== undefined) {\n",
       "        clearInterval(timer);\n",
       "        embed_document(root);\n",
       "      } else {\n",
       "        attempts++;\n",
       "        if (attempts > 100) {\n",
       "          clearInterval(timer);\n",
       "          console.log(\"Bokeh: ERROR: Unable to run BokehJS code because BokehJS library is missing\");\n",
       "        }\n",
       "      }\n",
       "    }, 10, root)\n",
       "  }\n",
       "})(window);"
      ],
      "application/vnd.bokehjs_exec.v0+json": ""
     },
     "metadata": {
      "application/vnd.bokehjs_exec.v0+json": {
       "id": "p1297"
      }
     },
     "output_type": "display_data"
    }
   ],
   "source": [
    "# save the plot as an HTML file\n",
    "output_file('scatter.html')\n",
    "show(p)"
   ]
  },
  {
   "cell_type": "markdown",
   "id": "d3639c30-fefe-485f-a5d3-940e44030c6a",
   "metadata": {},
   "source": [
    "# Q2. What are glyphs in Bokeh, and how can you add them to a Bokeh plot? Explain with an example."
   ]
  },
  {
   "cell_type": "markdown",
   "id": "1fb30691-bf6e-4b06-a7ab-f67a554b09e2",
   "metadata": {},
   "source": [
    "In Bokeh, glyphs are visual markers used to represent data points in a plot. Glyphs can take many forms, such as circles, squares, triangles, lines, and more. They are customizable in terms of size, color, and other visual properties, allowing for a range of possibilities in data visualization.\n",
    "\n",
    "To add glyphs to a Bokeh plot, you first need to create a data source object that contains the data you want to plot. Then, you can call a glyph method on the plot object, passing in the data source and any other properties you want to customize. Here's an example:\n"
   ]
  },
  {
   "cell_type": "code",
   "execution_count": 13,
   "id": "b13d2c66-8f4b-4906-8909-d7fe557db634",
   "metadata": {},
   "outputs": [
    {
     "data": {
      "text/html": [
       "\n",
       "  <div id=\"d3e53f4b-34e3-465d-91a7-b37c66ef33a5\" data-root-id=\"p1897\" style=\"display: contents;\"></div>\n"
      ]
     },
     "metadata": {},
     "output_type": "display_data"
    },
    {
     "data": {
      "application/javascript": [
       "(function(root) {\n",
       "  function embed_document(root) {\n",
       "  const docs_json = {\"b12d6513-62d2-47a0-9683-b6c849578e14\":{\"version\":\"3.0.3\",\"title\":\"Bokeh Application\",\"defs\":[],\"roots\":[{\"type\":\"object\",\"name\":\"Figure\",\"id\":\"p1897\",\"attributes\":{\"x_range\":{\"type\":\"object\",\"name\":\"DataRange1d\",\"id\":\"p1898\"},\"y_range\":{\"type\":\"object\",\"name\":\"DataRange1d\",\"id\":\"p1899\"},\"x_scale\":{\"type\":\"object\",\"name\":\"LinearScale\",\"id\":\"p1910\"},\"y_scale\":{\"type\":\"object\",\"name\":\"LinearScale\",\"id\":\"p1912\"},\"title\":{\"type\":\"object\",\"name\":\"Title\",\"id\":\"p1901\"},\"renderers\":[{\"type\":\"object\",\"name\":\"GlyphRenderer\",\"id\":\"p1949\",\"attributes\":{\"data_source\":{\"type\":\"object\",\"name\":\"ColumnDataSource\",\"id\":\"p1894\",\"attributes\":{\"selected\":{\"type\":\"object\",\"name\":\"Selection\",\"id\":\"p1895\",\"attributes\":{\"indices\":[],\"line_indices\":[]}},\"selection_policy\":{\"type\":\"object\",\"name\":\"UnionRenderers\",\"id\":\"p1896\"},\"data\":{\"type\":\"map\",\"entries\":[[\"x\",[1,2,3,4,5]],[\"y\",[6,7,2,4,5]],[\"colors\",[\"red\",\"green\",\"blue\",\"orange\",\"purple\"]],[\"sizes\",[10,20,30,40,50]]]}}},\"view\":{\"type\":\"object\",\"name\":\"CDSView\",\"id\":\"p1950\",\"attributes\":{\"filter\":{\"type\":\"object\",\"name\":\"AllIndices\",\"id\":\"p1951\"}}},\"glyph\":{\"type\":\"object\",\"name\":\"Circle\",\"id\":\"p1946\",\"attributes\":{\"x\":{\"type\":\"field\",\"field\":\"x\"},\"y\":{\"type\":\"field\",\"field\":\"y\"},\"size\":{\"type\":\"field\",\"field\":\"sizes\"},\"line_color\":{\"type\":\"field\",\"field\":\"colors\"},\"fill_color\":{\"type\":\"field\",\"field\":\"colors\"},\"hatch_color\":{\"type\":\"field\",\"field\":\"colors\"}}},\"nonselection_glyph\":{\"type\":\"object\",\"name\":\"Circle\",\"id\":\"p1947\",\"attributes\":{\"x\":{\"type\":\"field\",\"field\":\"x\"},\"y\":{\"type\":\"field\",\"field\":\"y\"},\"size\":{\"type\":\"field\",\"field\":\"sizes\"},\"line_color\":{\"type\":\"field\",\"field\":\"colors\"},\"line_alpha\":{\"type\":\"value\",\"value\":0.1},\"fill_color\":{\"type\":\"field\",\"field\":\"colors\"},\"fill_alpha\":{\"type\":\"value\",\"value\":0.1},\"hatch_color\":{\"type\":\"field\",\"field\":\"colors\"},\"hatch_alpha\":{\"type\":\"value\",\"value\":0.1}}},\"muted_glyph\":{\"type\":\"object\",\"name\":\"Circle\",\"id\":\"p1948\",\"attributes\":{\"x\":{\"type\":\"field\",\"field\":\"x\"},\"y\":{\"type\":\"field\",\"field\":\"y\"},\"size\":{\"type\":\"field\",\"field\":\"sizes\"},\"line_color\":{\"type\":\"field\",\"field\":\"colors\"},\"line_alpha\":{\"type\":\"value\",\"value\":0.2},\"fill_color\":{\"type\":\"field\",\"field\":\"colors\"},\"fill_alpha\":{\"type\":\"value\",\"value\":0.2},\"hatch_color\":{\"type\":\"field\",\"field\":\"colors\"},\"hatch_alpha\":{\"type\":\"value\",\"value\":0.2}}}}}],\"toolbar\":{\"type\":\"object\",\"name\":\"Toolbar\",\"id\":\"p1905\",\"attributes\":{\"tools\":[{\"type\":\"object\",\"name\":\"PanTool\",\"id\":\"p1928\"},{\"type\":\"object\",\"name\":\"WheelZoomTool\",\"id\":\"p1929\"},{\"type\":\"object\",\"name\":\"BoxZoomTool\",\"id\":\"p1930\",\"attributes\":{\"overlay\":{\"type\":\"object\",\"name\":\"BoxAnnotation\",\"id\":\"p1931\",\"attributes\":{\"syncable\":false,\"level\":\"overlay\",\"visible\":false,\"left_units\":\"canvas\",\"right_units\":\"canvas\",\"bottom_units\":\"canvas\",\"top_units\":\"canvas\",\"line_color\":\"black\",\"line_alpha\":1.0,\"line_width\":2,\"line_dash\":[4,4],\"fill_color\":\"lightgrey\",\"fill_alpha\":0.5}}}},{\"type\":\"object\",\"name\":\"SaveTool\",\"id\":\"p1932\"},{\"type\":\"object\",\"name\":\"ResetTool\",\"id\":\"p1933\"},{\"type\":\"object\",\"name\":\"HelpTool\",\"id\":\"p1934\"}]}},\"left\":[{\"type\":\"object\",\"name\":\"LinearAxis\",\"id\":\"p1921\",\"attributes\":{\"ticker\":{\"type\":\"object\",\"name\":\"BasicTicker\",\"id\":\"p1923\",\"attributes\":{\"mantissas\":[1,2,5]}},\"formatter\":{\"type\":\"object\",\"name\":\"BasicTickFormatter\",\"id\":\"p1922\"},\"major_label_policy\":{\"type\":\"object\",\"name\":\"AllLabels\",\"id\":\"p1924\"}}}],\"below\":[{\"type\":\"object\",\"name\":\"LinearAxis\",\"id\":\"p1914\",\"attributes\":{\"ticker\":{\"type\":\"object\",\"name\":\"BasicTicker\",\"id\":\"p1916\",\"attributes\":{\"mantissas\":[1,2,5]}},\"formatter\":{\"type\":\"object\",\"name\":\"BasicTickFormatter\",\"id\":\"p1915\"},\"major_label_policy\":{\"type\":\"object\",\"name\":\"AllLabels\",\"id\":\"p1917\"}}}],\"center\":[{\"type\":\"object\",\"name\":\"Grid\",\"id\":\"p1920\",\"attributes\":{\"axis\":{\"id\":\"p1914\"}}},{\"type\":\"object\",\"name\":\"Grid\",\"id\":\"p1927\",\"attributes\":{\"dimension\":1,\"axis\":{\"id\":\"p1921\"}}}]}}]}};\n",
       "  const render_items = [{\"docid\":\"b12d6513-62d2-47a0-9683-b6c849578e14\",\"roots\":{\"p1897\":\"d3e53f4b-34e3-465d-91a7-b37c66ef33a5\"},\"root_ids\":[\"p1897\"]}];\n",
       "  root.Bokeh.embed.embed_items_notebook(docs_json, render_items);\n",
       "  }\n",
       "  if (root.Bokeh !== undefined) {\n",
       "    embed_document(root);\n",
       "  } else {\n",
       "    let attempts = 0;\n",
       "    const timer = setInterval(function(root) {\n",
       "      if (root.Bokeh !== undefined) {\n",
       "        clearInterval(timer);\n",
       "        embed_document(root);\n",
       "      } else {\n",
       "        attempts++;\n",
       "        if (attempts > 100) {\n",
       "          clearInterval(timer);\n",
       "          console.log(\"Bokeh: ERROR: Unable to run BokehJS code because BokehJS library is missing\");\n",
       "        }\n",
       "      }\n",
       "    }, 10, root)\n",
       "  }\n",
       "})(window);"
      ],
      "application/vnd.bokehjs_exec.v0+json": ""
     },
     "metadata": {
      "application/vnd.bokehjs_exec.v0+json": {
       "id": "p1897"
      }
     },
     "output_type": "display_data"
    }
   ],
   "source": [
    "from bokeh.plotting import figure, show\n",
    "from bokeh.models import ColumnDataSource\n",
    "\n",
    "# create some sample data\n",
    "x = [1, 2, 3, 4, 5]\n",
    "y = [6, 7, 2, 4, 5]\n",
    "colors = ['red', 'green', 'blue', 'orange', 'purple']\n",
    "sizes = [10, 20, 30, 40, 50]\n",
    "\n",
    "# create a data source object\n",
    "source = ColumnDataSource(data=dict(x=x, y=y, colors=colors, sizes=sizes))\n",
    "\n",
    "# create a plot and add glyphs\n",
    "p = figure()\n",
    "p.circle('x', 'y', color='colors', size='sizes', source=source)\n",
    "\n",
    "# show the plot\n",
    "show(p)\n"
   ]
  },
  {
   "cell_type": "markdown",
   "id": "e0f2ded0-f05b-49b6-b671-ea5d16ecd883",
   "metadata": {},
   "source": [
    "# Q3. How can you customize the appearance of a Bokeh plot, including the axes, title, and legend?"
   ]
  },
  {
   "cell_type": "markdown",
   "id": "020bd8b6-e58d-43aa-8acb-b1732a6efb0b",
   "metadata": {},
   "source": [
    "Bokeh provides a wide range of options for customizing the appearance of your plots.\n",
    "\n",
    "Here are some examples of how you can customize the appearance of a Bokeh plot:"
   ]
  },
  {
   "cell_type": "code",
   "execution_count": 14,
   "id": "69dab574-e7d7-4794-a7d6-199a5d6b22aa",
   "metadata": {},
   "outputs": [
    {
     "data": {
      "text/html": [
       "\n",
       "  <div id=\"f3b7f0f1-f9a3-4ef4-ab54-a0f834b5b82a\" data-root-id=\"p2259\" style=\"display: contents;\"></div>\n"
      ]
     },
     "metadata": {},
     "output_type": "display_data"
    },
    {
     "data": {
      "application/javascript": [
       "(function(root) {\n",
       "  function embed_document(root) {\n",
       "  const docs_json = {\"fe19911a-7c43-4982-8c19-7d6dad242291\":{\"version\":\"3.0.3\",\"title\":\"Bokeh Application\",\"defs\":[],\"roots\":[{\"type\":\"object\",\"name\":\"Figure\",\"id\":\"p2259\",\"attributes\":{\"x_range\":{\"type\":\"object\",\"name\":\"DataRange1d\",\"id\":\"p2260\"},\"y_range\":{\"type\":\"object\",\"name\":\"DataRange1d\",\"id\":\"p2261\"},\"x_scale\":{\"type\":\"object\",\"name\":\"LinearScale\",\"id\":\"p2273\"},\"y_scale\":{\"type\":\"object\",\"name\":\"LinearScale\",\"id\":\"p2275\"},\"title\":{\"type\":\"object\",\"name\":\"Title\",\"id\":\"p2262\",\"attributes\":{\"text\":\"Bokeh Line Plot\",\"text_color\":\"green\",\"text_font_size\":\"25px\"}},\"renderers\":[{\"type\":\"object\",\"name\":\"GlyphRenderer\",\"id\":\"p2312\",\"attributes\":{\"data_source\":{\"type\":\"object\",\"name\":\"ColumnDataSource\",\"id\":\"p2306\",\"attributes\":{\"selected\":{\"type\":\"object\",\"name\":\"Selection\",\"id\":\"p2307\",\"attributes\":{\"indices\":[],\"line_indices\":[]}},\"selection_policy\":{\"type\":\"object\",\"name\":\"UnionRenderers\",\"id\":\"p2308\"},\"data\":{\"type\":\"map\",\"entries\":[[\"x\",[1,2,3,4,5]],[\"y\",[6,7,2,4,5]]]}}},\"view\":{\"type\":\"object\",\"name\":\"CDSView\",\"id\":\"p2313\",\"attributes\":{\"filter\":{\"type\":\"object\",\"name\":\"AllIndices\",\"id\":\"p2314\"}}},\"glyph\":{\"type\":\"object\",\"name\":\"Line\",\"id\":\"p2309\",\"attributes\":{\"x\":{\"type\":\"field\",\"field\":\"x\"},\"y\":{\"type\":\"field\",\"field\":\"y\"},\"line_color\":\"red\",\"line_width\":2}},\"nonselection_glyph\":{\"type\":\"object\",\"name\":\"Line\",\"id\":\"p2310\",\"attributes\":{\"x\":{\"type\":\"field\",\"field\":\"x\"},\"y\":{\"type\":\"field\",\"field\":\"y\"},\"line_color\":\"red\",\"line_alpha\":0.1,\"line_width\":2}},\"muted_glyph\":{\"type\":\"object\",\"name\":\"Line\",\"id\":\"p2311\",\"attributes\":{\"x\":{\"type\":\"field\",\"field\":\"x\"},\"y\":{\"type\":\"field\",\"field\":\"y\"},\"line_color\":\"red\",\"line_alpha\":0.2,\"line_width\":2}}}},{\"type\":\"object\",\"name\":\"GlyphRenderer\",\"id\":\"p2336\",\"attributes\":{\"data_source\":{\"type\":\"object\",\"name\":\"ColumnDataSource\",\"id\":\"p2330\",\"attributes\":{\"selected\":{\"type\":\"object\",\"name\":\"Selection\",\"id\":\"p2331\",\"attributes\":{\"indices\":[],\"line_indices\":[]}},\"selection_policy\":{\"type\":\"object\",\"name\":\"UnionRenderers\",\"id\":\"p2332\"},\"data\":{\"type\":\"map\",\"entries\":[[\"x\",[1,2,3,4,5]],[\"y\",[3,2,5,6,4]]]}}},\"view\":{\"type\":\"object\",\"name\":\"CDSView\",\"id\":\"p2337\",\"attributes\":{\"filter\":{\"type\":\"object\",\"name\":\"AllIndices\",\"id\":\"p2338\"}}},\"glyph\":{\"type\":\"object\",\"name\":\"Line\",\"id\":\"p2333\",\"attributes\":{\"x\":{\"type\":\"field\",\"field\":\"x\"},\"y\":{\"type\":\"field\",\"field\":\"y\"},\"line_color\":\"blue\",\"line_width\":2}},\"nonselection_glyph\":{\"type\":\"object\",\"name\":\"Line\",\"id\":\"p2334\",\"attributes\":{\"x\":{\"type\":\"field\",\"field\":\"x\"},\"y\":{\"type\":\"field\",\"field\":\"y\"},\"line_color\":\"blue\",\"line_alpha\":0.1,\"line_width\":2}},\"muted_glyph\":{\"type\":\"object\",\"name\":\"Line\",\"id\":\"p2335\",\"attributes\":{\"x\":{\"type\":\"field\",\"field\":\"x\"},\"y\":{\"type\":\"field\",\"field\":\"y\"},\"line_color\":\"blue\",\"line_alpha\":0.2,\"line_width\":2}}}}],\"toolbar\":{\"type\":\"object\",\"name\":\"Toolbar\",\"id\":\"p2268\",\"attributes\":{\"tools\":[{\"type\":\"object\",\"name\":\"PanTool\",\"id\":\"p2291\"},{\"type\":\"object\",\"name\":\"WheelZoomTool\",\"id\":\"p2292\"},{\"type\":\"object\",\"name\":\"BoxZoomTool\",\"id\":\"p2293\",\"attributes\":{\"overlay\":{\"type\":\"object\",\"name\":\"BoxAnnotation\",\"id\":\"p2294\",\"attributes\":{\"syncable\":false,\"level\":\"overlay\",\"visible\":false,\"left_units\":\"canvas\",\"right_units\":\"canvas\",\"bottom_units\":\"canvas\",\"top_units\":\"canvas\",\"line_color\":\"black\",\"line_alpha\":1.0,\"line_width\":2,\"line_dash\":[4,4],\"fill_color\":\"lightgrey\",\"fill_alpha\":0.5}}}},{\"type\":\"object\",\"name\":\"SaveTool\",\"id\":\"p2295\"},{\"type\":\"object\",\"name\":\"ResetTool\",\"id\":\"p2296\"},{\"type\":\"object\",\"name\":\"HelpTool\",\"id\":\"p2297\"}]}},\"left\":[{\"type\":\"object\",\"name\":\"LinearAxis\",\"id\":\"p2284\",\"attributes\":{\"ticker\":{\"type\":\"object\",\"name\":\"BasicTicker\",\"id\":\"p2286\",\"attributes\":{\"mantissas\":[1,2,5]}},\"formatter\":{\"type\":\"object\",\"name\":\"BasicTickFormatter\",\"id\":\"p2285\"},\"axis_label\":\"y\",\"axis_label_text_color\":\"orange\",\"major_label_policy\":{\"type\":\"object\",\"name\":\"AllLabels\",\"id\":\"p2287\"},\"major_label_text_color\":\"purple\",\"axis_line_width\":3,\"major_tick_line_color\":\"green\",\"major_tick_line_width\":2}}],\"below\":[{\"type\":\"object\",\"name\":\"LinearAxis\",\"id\":\"p2277\",\"attributes\":{\"ticker\":{\"type\":\"object\",\"name\":\"BasicTicker\",\"id\":\"p2279\",\"attributes\":{\"mantissas\":[1,2,5]}},\"formatter\":{\"type\":\"object\",\"name\":\"BasicTickFormatter\",\"id\":\"p2278\"},\"axis_label\":\"x\",\"axis_label_text_color\":\"orange\",\"major_label_policy\":{\"type\":\"object\",\"name\":\"AllLabels\",\"id\":\"p2280\"},\"major_label_text_color\":\"purple\",\"axis_line_width\":3,\"major_tick_line_color\":\"green\",\"major_tick_line_width\":2}}],\"center\":[{\"type\":\"object\",\"name\":\"Grid\",\"id\":\"p2283\",\"attributes\":{\"axis\":{\"id\":\"p2277\"}}},{\"type\":\"object\",\"name\":\"Grid\",\"id\":\"p2290\",\"attributes\":{\"dimension\":1,\"axis\":{\"id\":\"p2284\"}}},{\"type\":\"object\",\"name\":\"Legend\",\"id\":\"p2328\",\"attributes\":{\"location\":\"top_left\",\"label_text_font_size\":\"14pt\",\"items\":[{\"type\":\"object\",\"name\":\"LegendItem\",\"id\":\"p2329\",\"attributes\":{\"label\":{\"type\":\"value\",\"value\":\"Line 1\"},\"renderers\":[{\"id\":\"p2312\"}]}},{\"type\":\"object\",\"name\":\"LegendItem\",\"id\":\"p2357\",\"attributes\":{\"label\":{\"type\":\"value\",\"value\":\"Line 2\"},\"renderers\":[{\"id\":\"p2336\"}]}}]}}]}}]}};\n",
       "  const render_items = [{\"docid\":\"fe19911a-7c43-4982-8c19-7d6dad242291\",\"roots\":{\"p2259\":\"f3b7f0f1-f9a3-4ef4-ab54-a0f834b5b82a\"},\"root_ids\":[\"p2259\"]}];\n",
       "  root.Bokeh.embed.embed_items_notebook(docs_json, render_items);\n",
       "  }\n",
       "  if (root.Bokeh !== undefined) {\n",
       "    embed_document(root);\n",
       "  } else {\n",
       "    let attempts = 0;\n",
       "    const timer = setInterval(function(root) {\n",
       "      if (root.Bokeh !== undefined) {\n",
       "        clearInterval(timer);\n",
       "        embed_document(root);\n",
       "      } else {\n",
       "        attempts++;\n",
       "        if (attempts > 100) {\n",
       "          clearInterval(timer);\n",
       "          console.log(\"Bokeh: ERROR: Unable to run BokehJS code because BokehJS library is missing\");\n",
       "        }\n",
       "      }\n",
       "    }, 10, root)\n",
       "  }\n",
       "})(window);"
      ],
      "application/vnd.bokehjs_exec.v0+json": ""
     },
     "metadata": {
      "application/vnd.bokehjs_exec.v0+json": {
       "id": "p2259"
      }
     },
     "output_type": "display_data"
    }
   ],
   "source": [
    "\n",
    "from bokeh.models import Legend\n",
    "\n",
    "x = [1, 2, 3, 4, 5]\n",
    "y1 = [6, 7, 2, 4, 5]\n",
    "y2 = [3, 2, 5, 6, 4]\n",
    "\n",
    "output_file(\"bokeh_plot.html\")\n",
    "\n",
    "p = figure(title=\"Bokeh Line Plot\", x_axis_label='x', y_axis_label='y')\n",
    "\n",
    "p.line(x, y1, legend_label=\"Line 1\", line_width=2, line_color='red')\n",
    "p.line(x, y2, legend_label=\"Line 2\", line_width=2, line_color='blue')\n",
    "\n",
    "p.title.text_color = \"green\"\n",
    "p.title.text_font_size = \"25px\"\n",
    "p.xaxis.axis_label_text_color = \"orange\"\n",
    "p.yaxis.axis_label_text_color = \"orange\"\n",
    "p.xaxis.major_label_text_color = \"purple\"\n",
    "p.yaxis.major_label_text_color = \"purple\"\n",
    "p.xaxis.axis_line_width = 3\n",
    "p.yaxis.axis_line_width = 3\n",
    "p.xaxis.major_tick_line_width = 2\n",
    "p.yaxis.major_tick_line_width = 2\n",
    "p.xaxis.major_tick_line_color = \"green\"\n",
    "p.yaxis.major_tick_line_color = \"green\"\n",
    "p.legend.label_text_font_size = \"14pt\"\n",
    "p.legend.location = \"top_left\"\n",
    "\n",
    "show(p)"
   ]
  },
  {
   "cell_type": "markdown",
   "id": "93543c89-4b0f-428b-9e4d-82f06389dcf3",
   "metadata": {},
   "source": [
    "# Q4. What is a Bokeh server, and how can you use it to create interactive plots that can be updated in real time?"
   ]
  },
  {
   "cell_type": "markdown",
   "id": "63816284-3304-42f7-aa7b-44208b172fc0",
   "metadata": {},
   "source": [
    "A Bokeh server is a Python process that runs a Bokeh application, which is a collection of Bokeh plots and widgets that can be updated in real-time in response to user interaction or data updates.\n",
    "\n",
    "To use the Bokeh server, we can create a Python script that defines your Bokeh application, then start the server using the bokeh serve command.\n",
    "\n",
    "Here's an example of a simple Bokeh application that updates a line plot in response to a slider widget:"
   ]
  },
  {
   "cell_type": "code",
   "execution_count": 15,
   "id": "49344fba-74b4-4147-922b-85781700324d",
   "metadata": {},
   "outputs": [],
   "source": [
    "from bokeh.plotting import figure, curdoc\n",
    "from bokeh.models import Slider\n",
    "\n",
    "x = [1, 2, 3, 4, 5]\n",
    "y = [6, 7, 2, 4, 5]\n",
    "\n",
    "p = figure(title=\"Bokeh Line Plot\", x_axis_label='x', y_axis_label='y')\n",
    "line = p.line(x, y, line_width=2)\n",
    "\n",
    "slider = Slider(start=1, end=10, step=0.1, value=1, title=\"Multiplier\")\n",
    "\n",
    "def update_plot(attrname, old, new):\n",
    "    line.data_source.data['y'] = [i * slider.value for i in y]\n",
    "\n",
    "slider.on_change('value', update_plot)\n",
    "\n",
    "curdoc().add_root(p)\n",
    "curdoc().add_root(slider)\n"
   ]
  },
  {
   "cell_type": "markdown",
   "id": "00899472-1fe8-4e1f-903d-58ce0ac4480f",
   "metadata": {},
   "source": [
    "To run this Bokeh application as a server, we can save the code in a file called app.py, then start the Bokeh server by running the following command in your terminal:"
   ]
  },
  {
   "cell_type": "code",
   "execution_count": null,
   "id": "33cae098-4222-44e4-8ffe-c1088f39b4f4",
   "metadata": {},
   "outputs": [],
   "source": [
    "bokeh serve app.py"
   ]
  },
  {
   "cell_type": "markdown",
   "id": "cb7e09c1-db18-46f7-b876-35c847313d89",
   "metadata": {},
   "source": [
    "We can then access the application by navigating to http://localhost:5006/app in your web browser."
   ]
  },
  {
   "cell_type": "markdown",
   "id": "9d22daf8-1259-4525-b4d5-77da34175c17",
   "metadata": {},
   "source": [
    "# Q5. How can you embed a Bokeh plot into a web page or dashboard using Flask or Django?"
   ]
  },
  {
   "cell_type": "markdown",
   "id": "9867cdea-09d6-4371-a78f-2cc2ffa6c77e",
   "metadata": {},
   "source": [
    "To embed a Bokeh plot into a web page or dashboard using Flask or Django, you can use the Bokeh components function, which generates the JavaScript and HTML code needed to display a Bokeh plot in a web page.\n",
    "\n",
    "Here's an example of how to embed a Bokeh plot into a Flask web application:"
   ]
  },
  {
   "cell_type": "code",
   "execution_count": null,
   "id": "4351064a-2752-48bf-a884-c40f7b94cbe3",
   "metadata": {},
   "outputs": [],
   "source": [
    "from flask import Flask, render_template\n",
    "from bokeh.plotting import figure\n",
    "from bokeh.embed import components\n",
    "\n",
    "app = Flask(__name__)\n",
    "\n",
    "x = [1, 2, 3, 4, 5]\n",
    "y = [6, 7, 2, 4, 5]\n",
    "\n",
    "p = figure(title=\"Flask Bokeh Plot\", x_axis_label='x', y_axis_label='y')\n",
    "p.line(x, y, line_width=2)\n",
    "\n",
    "@app.route('/')\n",
    "def index():\n",
    "    # generating the JavaScript and HTML components\n",
    "    script, div = components(p)\n",
    "    # rendering the template with the components\n",
    "    return render_template('index.html', script=script, div=div)\n",
    "\n",
    "if __name__ == '__main__':\n",
    "    app.run(debug=True)\n"
   ]
  }
 ],
 "metadata": {
  "kernelspec": {
   "display_name": "Python 3 (ipykernel)",
   "language": "python",
   "name": "python3"
  },
  "language_info": {
   "codemirror_mode": {
    "name": "ipython",
    "version": 3
   },
   "file_extension": ".py",
   "mimetype": "text/x-python",
   "name": "python",
   "nbconvert_exporter": "python",
   "pygments_lexer": "ipython3",
   "version": "3.10.8"
  }
 },
 "nbformat": 4,
 "nbformat_minor": 5
}
