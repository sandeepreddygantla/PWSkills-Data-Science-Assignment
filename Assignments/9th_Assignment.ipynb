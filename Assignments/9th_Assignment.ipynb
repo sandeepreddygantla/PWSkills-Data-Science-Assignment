{
 "cells": [
  {
   "cell_type": "markdown",
   "id": "f988d553-8f5a-4dab-8d94-548750b2a4b0",
   "metadata": {},
   "source": [
    "# 1. Create a vehicle class with an init method having instance variables as name_of_vehicle, max_speed and average_of_vehicle."
   ]
  },
  {
   "cell_type": "code",
   "execution_count": 102,
   "id": "f7f7416e-9d0b-4d61-bf45-fc626b695c18",
   "metadata": {},
   "outputs": [],
   "source": [
    "class vehicle:\n",
    "    def __init__(self, name_of_vehicle, max_speed, average_of_vehicle):\n",
    "        self.name_of_vehicle = name_of_vehicle\n",
    "        self.max_speed = max_speed\n",
    "        self.average_of_vehicle = average_of_vehicle\n",
    "                    "
   ]
  },
  {
   "cell_type": "markdown",
   "id": "535cf144-5472-4540-b26e-fe77e1193ef5",
   "metadata": {},
   "source": [
    "# Q2. Create a child class car from the vehicle class created in Que 1, which will inherit the vehicle class. Create a method named seating_capacity which takes capacity as an argument and returns the name of the vehicle and its seating capacity."
   ]
  },
  {
   "cell_type": "code",
   "execution_count": 103,
   "id": "28a1303b-56cf-493d-a44e-585d161f081d",
   "metadata": {},
   "outputs": [],
   "source": [
    "class car(vehicle):\n",
    "    def seating_capacity(self, capacity):\n",
    "        return self.name_of_vehicle, capacity"
   ]
  },
  {
   "cell_type": "code",
   "execution_count": 104,
   "id": "b268719f-2ea7-4981-b911-616e62b832fb",
   "metadata": {},
   "outputs": [
    {
     "data": {
      "text/plain": [
       "('Audi', 5)"
      ]
     },
     "execution_count": 104,
     "metadata": {},
     "output_type": "execute_result"
    }
   ],
   "source": [
    "cars = car(\"Audi\", 120, 60)\n",
    "cars.seating_capacity(5)"
   ]
  },
  {
   "cell_type": "markdown",
   "id": "b4c1c13e-9acc-40fd-b060-baf413b63397",
   "metadata": {},
   "source": [
    "# Q3. What is multiple inheritance? Write a python code to demonstrate multiple inheritance."
   ]
  },
  {
   "cell_type": "markdown",
   "id": "629f7aef-b25d-49a8-9139-9424a91612c2",
   "metadata": {},
   "source": [
    "Multiple inheritance is a concept in computer programming that allows a single class to inherit from multiple parent classes. This means it can have multiple sets of properties and behaviors, taken from different parent classes. It makes it easier to create complex objects by combining features from different sources."
   ]
  },
  {
   "cell_type": "code",
   "execution_count": 65,
   "id": "954b6460-49a4-4c4e-9374-460bf8904704",
   "metadata": {},
   "outputs": [],
   "source": [
    "class first:\n",
    "    def first_method(self):\n",
    "        return \"This is first class's First Method\"\n",
    "class second:\n",
    "    def second_method(self):\n",
    "        return  \"This is class 2's second method\"\n",
    "\n",
    "class multiple(first, second):\n",
    "    pass"
   ]
  },
  {
   "cell_type": "code",
   "execution_count": 66,
   "id": "0a0887f6-14df-43e7-86ac-77ac3acee0f0",
   "metadata": {},
   "outputs": [],
   "source": [
    "multiple_inheritance = multiple()"
   ]
  },
  {
   "cell_type": "code",
   "execution_count": 67,
   "id": "84e2cc6b-4d72-49f2-9c5c-d4fa42a32819",
   "metadata": {},
   "outputs": [
    {
     "name": "stdout",
     "output_type": "stream",
     "text": [
      "This is first class's First Method\n",
      "This is class 2's second method\n"
     ]
    }
   ],
   "source": [
    "print(multiple_inheritance.first_method())\n",
    "print(multiple_inheritance.second_method())"
   ]
  },
  {
   "cell_type": "markdown",
   "id": "4638b2c1-d5b4-4bc4-a1f7-712c457d0403",
   "metadata": {},
   "source": [
    "# Q4. What are getter and setter in python? Create a class and create a getter and a setter method in this class."
   ]
  },
  {
   "cell_type": "markdown",
   "id": "b3d72a19-047a-423c-92e6-bedf40fa5b52",
   "metadata": {},
   "source": [
    "Getters: These are the methods used in Object-Oriented Programming (OOPS) which helps to access the private attributes from a class.\n",
    "Setters: These are the methods used in OOPS feature which helps to set the value to private attributes in a class."
   ]
  },
  {
   "cell_type": "code",
   "execution_count": 105,
   "id": "f406760c-083d-4848-a913-85f21d5ac406",
   "metadata": {},
   "outputs": [],
   "source": [
    "class vehicle1:\n",
    "    def __inti__(self,name_of_vehicle, max_speed, average_of_vehicle):\n",
    "                 self.__name_of_vehicle = name_of_vehicle\n",
    "                 self.max_speed = max_speed\n",
    "                 self.average_of_vehicle = average_of_vehicle\n",
    "    \n",
    "    \n",
    "    #setter method\n",
    "    def set_name_of_vehicle(self, name):\n",
    "        self.__name_of_vehicle = name\n",
    "        \n",
    "\n",
    "    #getter method\n",
    "    def get_name_of_vehicle(self):\n",
    "        return self.__name_of_vehicle"
   ]
  },
  {
   "cell_type": "code",
   "execution_count": 106,
   "id": "27f83544-e0ce-4d7f-97e3-ba556f4bc81c",
   "metadata": {},
   "outputs": [
    {
     "data": {
      "text/plain": [
       "'toyota'"
      ]
     },
     "execution_count": 106,
     "metadata": {},
     "output_type": "execute_result"
    }
   ],
   "source": [
    "a = vehicle1()\n",
    "a.set_name_of_vehicle(\"Toyota\")\n",
    "pra.get_name_of_vehicle()"
   ]
  },
  {
   "cell_type": "code",
   "execution_count": 111,
   "id": "3af59663-427c-48f2-b6ac-70902c00c2a7",
   "metadata": {},
   "outputs": [
    {
     "name": "stdout",
     "output_type": "stream",
     "text": [
      "Hyundai\n",
      "Hyundai\n"
     ]
    }
   ],
   "source": [
    "a.set_name_of_vehicle(\"Hyundai\")\n",
    "print(a.get_name_of_vehicle())"
   ]
  },
  {
   "cell_type": "markdown",
   "id": "30ceae3c-c7e5-4c21-ad0a-2fc701f9815f",
   "metadata": {},
   "source": [
    "# Q5.What is method overriding in python? Write a python code to demonstrate method overriding."
   ]
  },
  {
   "cell_type": "markdown",
   "id": "b6ae0ad7-cd6c-4f21-a414-bfcd60e733cb",
   "metadata": {},
   "source": [
    "\n",
    "If subclass (child class) has the same method as declared in the parent class, it is known as method overriding "
   ]
  },
  {
   "cell_type": "code",
   "execution_count": 71,
   "id": "1136d372-e040-4537-99aa-54bb9a708a9f",
   "metadata": {},
   "outputs": [
    {
     "data": {
      "text/plain": [
       "\"This is super class's Method\""
      ]
     },
     "execution_count": 71,
     "metadata": {},
     "output_type": "execute_result"
    }
   ],
   "source": [
    "\n",
    "class super_class:\n",
    "    def method(self):\n",
    "        return \"This is super class's Method\"\n",
    "    \n",
    "class sub_class(super_class):\n",
    "    def method(self):\n",
    "        return \"This is sub class's method\"\n",
    "    \n",
    "    \n",
    "obj_sup = super_class()\n",
    "obj_sub = sub_class()\n",
    "\n",
    "obj_sup.method()\n"
   ]
  },
  {
   "cell_type": "code",
   "execution_count": 72,
   "id": "64ef9e00-51d3-49b3-ade8-a43b666968ae",
   "metadata": {},
   "outputs": [
    {
     "data": {
      "text/plain": [
       "\"This is sub class's method\""
      ]
     },
     "execution_count": 72,
     "metadata": {},
     "output_type": "execute_result"
    }
   ],
   "source": [
    "obj_sub.method()"
   ]
  }
 ],
 "metadata": {
  "kernelspec": {
   "display_name": "Python 3 (ipykernel)",
   "language": "python",
   "name": "python3"
  },
  "language_info": {
   "codemirror_mode": {
    "name": "ipython",
    "version": 3
   },
   "file_extension": ".py",
   "mimetype": "text/x-python",
   "name": "python",
   "nbconvert_exporter": "python",
   "pygments_lexer": "ipython3",
   "version": "3.10.8"
  }
 },
 "nbformat": 4,
 "nbformat_minor": 5
}
