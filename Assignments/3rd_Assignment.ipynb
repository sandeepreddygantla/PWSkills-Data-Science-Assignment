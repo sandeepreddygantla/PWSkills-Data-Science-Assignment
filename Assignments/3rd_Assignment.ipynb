{
 "cells": [
  {
   "cell_type": "markdown",
   "id": "30842ee8-37c9-4d9c-8911-6f10c59879f4",
   "metadata": {},
   "source": [
    "## Q1. What are the characteristics of the tuples? Is tuple immutable?"
   ]
  },
  {
   "cell_type": "markdown",
   "id": "3ed46f4d-4117-43ec-b945-32c5034599de",
   "metadata": {},
   "source": [
    "#### Tuples are immutable, ordered, heterogeneous, indexed collections of elements in Python.\n",
    "\n",
    "#### Immutable: Tuples are immutable, meaning their elements cannot be modified or deleted after they are created.\n",
    "\n",
    "#### Ordered: Tuples are ordered, meaning that elements are stored and retrieved in the order they were added to the tuple.\n",
    "\n",
    "#### Heterogeneous: Tuples can store elements of different data types, such as integers, strings, lists, etc.\n",
    "\n",
    "#### Indexed: Tuples are indexed, meaning that elements can be accessed and retrieved by their index value."
   ]
  },
  {
   "cell_type": "markdown",
   "id": "9abede4e-9adb-474a-bac7-aab60a43fc92",
   "metadata": {},
   "source": [
    "## Q2. What are the two tuple methods in python? Give an example of each method. Give a reason why tuples have only two in-built methods as compared to Lists."
   ]
  },
  {
   "cell_type": "markdown",
   "id": "4904cc97-2f64-4788-8cbb-0681ee17cdcd",
   "metadata": {},
   "source": [
    "#### Tuples have only two in-built methods compared to lists because tuples are immutable, and therefore their elements cannot be modified. This limited mutability makes it so that there are fewer methods needed to interact with tuple elements. Lists, on the other hand, are mutable, so there are more methods available for modifying and working with list elements.\n",
    "\n",
    "#### count(): This method returns the number of times a specified element appears in the tuple. "
   ]
  },
  {
   "cell_type": "code",
   "execution_count": 1,
   "id": "6fcc8227-c542-4c9d-9264-3bc20f6545a4",
   "metadata": {},
   "outputs": [
    {
     "name": "stdout",
     "output_type": "stream",
     "text": [
      "3\n"
     ]
    }
   ],
   "source": [
    "#Example of count()\n",
    "numbers = (1, 2, 3, 2, 4, 2)\n",
    "print(numbers.count(2))\n"
   ]
  },
  {
   "cell_type": "markdown",
   "id": "d2730d03-2838-4b6a-9c04-66b919a4402a",
   "metadata": {},
   "source": [
    "#### index(): This method returns the index of the first occurrence of a specified element in the tuple."
   ]
  },
  {
   "cell_type": "code",
   "execution_count": 2,
   "id": "8f9085e7-83bf-4eea-baa5-85a7161df021",
   "metadata": {},
   "outputs": [
    {
     "name": "stdout",
     "output_type": "stream",
     "text": [
      "1\n"
     ]
    }
   ],
   "source": [
    "# Example of index()\n",
    "numbers = (1, 2, 3, 2, 4, 2)\n",
    "print(numbers.index(2))\n"
   ]
  },
  {
   "cell_type": "markdown",
   "id": "2d40dbcb-8fb9-489f-aa87-3b212e2c8ead",
   "metadata": {},
   "source": [
    "## Q3. Which collection datatypes in python do not allow duplicate items? Write a code using a set to remove duplicates from the given list.\n",
    "\n",
    "#### List = [1, 1, 1, 2, 1, 3, 1, 4, 2, 1, 2, 2, 2, 3, 2, 4, 3, 1, 3, 2, 3, 3, 3, 4, 4, 1, 4, 2, 4, 3, 4, 4]"
   ]
  },
  {
   "cell_type": "code",
   "execution_count": 9,
   "id": "64c94ba2-7884-49aa-adb3-59f42f739b26",
   "metadata": {},
   "outputs": [
    {
     "name": "stdout",
     "output_type": "stream",
     "text": [
      "{1, 2, 3, 4}\n"
     ]
    }
   ],
   "source": [
    "# The collection datatype in Python that does not allow duplicate items is the set.\n",
    "\n",
    "l1 =  [1, 1, 1, 2, 1, 3, 1, 4, 2, 1, 2, 2, 2, 3, 2, 4, 3, 1, 3, 2, 3, 3, 3, 4, 4, 1, 4, 2, 4, 3, 4, 4]\n",
    "set1 = set(l1)\n",
    "print(set1)"
   ]
  },
  {
   "cell_type": "markdown",
   "id": "a6d21d85-43cb-42b0-a305-739fd6f6331c",
   "metadata": {},
   "source": [
    "## Q4. Explain the difference between the union() and update() methods for a set. Give an example of each method."
   ]
  },
  {
   "cell_type": "markdown",
   "id": "a7d33a3b-0bb6-42b1-9600-86de79f7f9af",
   "metadata": {},
   "source": [
    "#### The union() and update() methods are used to merge two sets in Python. However, they differ in how they handle duplicate elements in the sets being merged.\n",
    "\n",
    "#### The union() method returns a set that contains all the elements from both sets, but only keeps unique elements. For example:"
   ]
  },
  {
   "cell_type": "code",
   "execution_count": 18,
   "id": "460bf5c9-e148-46aa-a84b-eedeac1db58f",
   "metadata": {},
   "outputs": [
    {
     "data": {
      "text/plain": [
       "{1, 2, 3, 4, 5}"
      ]
     },
     "execution_count": 18,
     "metadata": {},
     "output_type": "execute_result"
    }
   ],
   "source": [
    "set1 = {1,2,3,4}\n",
    "set2 = {1,2,3,5}\n",
    "set1.union(set2)\n",
    "# the update() method modifies the original set by adding the elements from another set."
   ]
  },
  {
   "cell_type": "markdown",
   "id": "6070e065-907c-4ee7-a6a5-21cf081cc605",
   "metadata": {},
   "source": [
    "#### The update() method adds all the elements from one set to another, and will overwrite any duplicate elements. For example:\n",
    "\n"
   ]
  },
  {
   "cell_type": "code",
   "execution_count": 17,
   "id": "8f37fbcd-d62e-420e-983f-5f66646a37e1",
   "metadata": {},
   "outputs": [
    {
     "name": "stdout",
     "output_type": "stream",
     "text": [
      "{1, 2, 3, 4, 5}\n"
     ]
    }
   ],
   "source": [
    "set1 = {1, 2, 3}\n",
    "set2 = {3, 4, 5}\n",
    "\n",
    "set1.update(set2)\n",
    "\n",
    "print(set1)\n",
    "\n",
    "# union() method returns a new set with all the unique elements from both sets"
   ]
  },
  {
   "cell_type": "markdown",
   "id": "e4a792d7-1c94-4af4-9ea8-c6e90b94dc2e",
   "metadata": {},
   "source": [
    "## Q5. What is a dictionary? Give an example. Also, state whether a dictionary is ordered or unordered."
   ]
  },
  {
   "cell_type": "code",
   "execution_count": 4,
   "id": "73d0b704-204a-4fbb-a970-17e23ee7388d",
   "metadata": {},
   "outputs": [
    {
     "name": "stdout",
     "output_type": "stream",
     "text": [
      "{'name': 'John', 'age': 30, 'city': 'New York'}\n"
     ]
    }
   ],
   "source": [
    "# A dictionary in Python is an unordered collection of key-value pairs, where each key is associated with a value. \n",
    "# Dictionaries are created using curly braces {}, with key-value pairs separated by colons :\n",
    "person = {'name': 'John', 'age': 30, 'city': 'New York'}\n",
    "print(person)\n",
    "\n",
    "# Dictionaries in Python are unordered, meaning that the order of the key-value pairs may change in memory, \n",
    "# and the order of items is not guaranteed when you iterate through a dictionary. However, you can access the items of a dictionary by referring to their keys."
   ]
  },
  {
   "cell_type": "markdown",
   "id": "b06825e4-39ba-4465-9d04-f539f0a52f3f",
   "metadata": {},
   "source": [
    "## Q6. Can we create a nested dictionary? If so, please give an example by creating a simple one-level nested dictionary."
   ]
  },
  {
   "cell_type": "code",
   "execution_count": 14,
   "id": "b61930f2-c47c-4140-8f2d-58ee08e30ccc",
   "metadata": {},
   "outputs": [
    {
     "name": "stdout",
     "output_type": "stream",
     "text": [
      "{'name': 'John', 'age': 30, 'address': {'street': '123 Main St', 'city': 'New York', 'country': 'USA'}}\n"
     ]
    }
   ],
   "source": [
    "person = {'name': 'John', 'age': 30, 'address': {'street': '123 Main St', 'city': 'New York', 'country': 'USA'}}\n",
    "print(person)\n",
    "\n",
    "# Yes, we can create a nested dictionary in Python. A nested dictionary is a dictionary that contains another dictionary as an item."
   ]
  },
  {
   "cell_type": "markdown",
   "id": "82cdf329-4a59-4f4d-90fb-908cf45b4db9",
   "metadata": {},
   "source": [
    "## Q7. Using setdefault() method, create key named topics in the given dictionary and also add the value of the key as this list ['Python', 'Machine Learning’, 'Deep Learning']\n",
    "\n",
    "#### dict1 = {'language' : 'Python', 'course': 'Data Science Masters'}\n"
   ]
  },
  {
   "cell_type": "code",
   "execution_count": 25,
   "id": "f57f77ca-607e-44f9-916a-436b75de3682",
   "metadata": {},
   "outputs": [
    {
     "name": "stdout",
     "output_type": "stream",
     "text": [
      "{'language': 'Python', 'course': 'Data Science Masters', 'topics': ['Python', 'Machine Learning', 'Deep Learning']}\n"
     ]
    }
   ],
   "source": [
    "dict1 = {'language': 'Python', 'course': 'Data Science Masters'}\n",
    "dict1.setdefault('topics', []).extend(['Python', 'Machine Learning', 'Deep Learning'])\n",
    "print(dict1)\n"
   ]
  },
  {
   "cell_type": "markdown",
   "id": "1e2f7476-432a-455e-acbd-c8a3f0f3fef8",
   "metadata": {},
   "source": [
    "## Q8. What are the three view objects in dictionaries? Use the three in-built methods in python to display these three view objects for the given dictionary.\n",
    "\n",
    "#### dict1 = {'Sport': 'Cricket' , 'Teams': ['India', 'Australia', 'England', 'South Africa', 'Sri Lanka', 'New Zealand']}"
   ]
  },
  {
   "cell_type": "code",
   "execution_count": 36,
   "id": "f83631cf-d450-46b4-a6b1-f8317dcac6f7",
   "metadata": {},
   "outputs": [
    {
     "name": "stdout",
     "output_type": "stream",
     "text": [
      "Dictionary Keys: dict_keys(['Sport', 'Teams'])\n",
      "Dictionary Values: dict_values(['Cricket', ['India', 'Australia', 'England', 'South Africa', 'Sri Lanka', 'New Zealand']])\n",
      "Dictionary Key-Value Pairs: dict_items([('Sport', 'Cricket'), ('Teams', ['India', 'Australia', 'England', 'South Africa', 'Sri Lanka', 'New Zealand'])])\n"
     ]
    }
   ],
   "source": [
    "# The three view objects in dictionaries are keys(), values(), and items(). You can display these three view objects for the given dictionary dict1 using the following code:\n",
    "dict1 = {'Sport': 'Cricket' , 'Teams': ['India', 'Australia', 'England', 'South Africa', 'Sri Lanka', 'New Zealand']}\n",
    "\n",
    "print(\"Dictionary Keys:\", dict1.keys())\n",
    "print(\"Dictionary Values:\", dict1.values())\n",
    "print(\"Dictionary Key-Value Pairs:\", dict1.items())\n"
   ]
  }
 ],
 "metadata": {
  "kernelspec": {
   "display_name": "Python 3 (ipykernel)",
   "language": "python",
   "name": "python3"
  },
  "language_info": {
   "codemirror_mode": {
    "name": "ipython",
    "version": 3
   },
   "file_extension": ".py",
   "mimetype": "text/x-python",
   "name": "python",
   "nbconvert_exporter": "python",
   "pygments_lexer": "ipython3",
   "version": "3.10.8"
  }
 },
 "nbformat": 4,
 "nbformat_minor": 5
}
