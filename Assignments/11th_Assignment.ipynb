{
 "cells": [
  {
   "cell_type": "markdown",
   "id": "f11a78e8-10fb-4ead-bdc5-fc3859f6ab1e",
   "metadata": {},
   "source": [
    "# Q1. What is an Exception in python? Write the difference between Exceptions and syntax errors."
   ]
  },
  {
   "cell_type": "markdown",
   "id": "79411383-1773-4508-891b-2652068d9b9e",
   "metadata": {},
   "source": [
    "An exception in Python is an error that occurs during the execution of a program, which disrupts the normal flow of the program. When an exception occurs, the interpreter stops the execution of the program and looks for a handler that can deal with the error.\n",
    "\n",
    "The main difference between exceptions and syntax errors is that syntax errors are detected by the interpreter before the program is executed, while exceptions are detected during the execution of the program. Another key difference is that syntax errors prevent the program from running, while exceptions can occur during program execution and can be handled with the proper code."
   ]
  },
  {
   "cell_type": "markdown",
   "id": "7e23250e-f2ff-4160-8020-239350c967c2",
   "metadata": {},
   "source": [
    "# Q2. What happens when an exception is not handled? Explain with an example."
   ]
  },
  {
   "cell_type": "markdown",
   "id": "4120ddf1-cf38-4d1c-adbc-2cbfa30f0d7b",
   "metadata": {},
   "source": [
    "When an exception is not handled, the program terminates, and the interpreter prints an error message that includes a traceback of the call stack, which indicates where the exception occurred.\n",
    "\n",
    "for example: This error message would indicate that the program raised a FileNotFoundError exception because it could not find the specified file, and that the exception was not handled by any part of the code, causing the program to terminate.\n"
   ]
  },
  {
   "cell_type": "markdown",
   "id": "ae0b98c4-fc66-40bb-a867-0edc0083b213",
   "metadata": {},
   "source": [
    "### Without Exception handle"
   ]
  },
  {
   "cell_type": "code",
   "execution_count": 64,
   "id": "ca31b3ec-6d07-46cc-838a-ca4b843614ab",
   "metadata": {},
   "outputs": [
    {
     "name": "stdout",
     "output_type": "stream",
     "text": [
      "I used this Finally to valid the input error\n"
     ]
    },
    {
     "ename": "FileNotFoundError",
     "evalue": "[Errno 2] No such file or directory: 'file1.txt'",
     "output_type": "error",
     "traceback": [
      "\u001b[0;31m---------------------------------------------------------------------------\u001b[0m",
      "\u001b[0;31mFileNotFoundError\u001b[0m                         Traceback (most recent call last)",
      "Cell \u001b[0;32mIn[64], line 2\u001b[0m\n\u001b[1;32m      1\u001b[0m \u001b[38;5;28;01mtry\u001b[39;00m:\n\u001b[0;32m----> 2\u001b[0m     \u001b[38;5;28;43mopen\u001b[39;49m\u001b[43m(\u001b[49m\u001b[38;5;124;43m'\u001b[39;49m\u001b[38;5;124;43mfile1.txt\u001b[39;49m\u001b[38;5;124;43m'\u001b[39;49m\u001b[43m,\u001b[49m\u001b[43m \u001b[49m\u001b[38;5;124;43m'\u001b[39;49m\u001b[38;5;124;43mr\u001b[39;49m\u001b[38;5;124;43m'\u001b[39;49m\u001b[43m)\u001b[49m\n\u001b[1;32m      3\u001b[0m     content \u001b[38;5;241m=\u001b[39m f\u001b[38;5;241m.\u001b[39mread()\n\u001b[1;32m      4\u001b[0m \u001b[38;5;28;01mfinally\u001b[39;00m:\n",
      "File \u001b[0;32m/opt/conda/lib/python3.10/site-packages/IPython/core/interactiveshell.py:282\u001b[0m, in \u001b[0;36m_modified_open\u001b[0;34m(file, *args, **kwargs)\u001b[0m\n\u001b[1;32m    275\u001b[0m \u001b[38;5;28;01mif\u001b[39;00m file \u001b[38;5;129;01min\u001b[39;00m {\u001b[38;5;241m0\u001b[39m, \u001b[38;5;241m1\u001b[39m, \u001b[38;5;241m2\u001b[39m}:\n\u001b[1;32m    276\u001b[0m     \u001b[38;5;28;01mraise\u001b[39;00m \u001b[38;5;167;01mValueError\u001b[39;00m(\n\u001b[1;32m    277\u001b[0m         \u001b[38;5;124mf\u001b[39m\u001b[38;5;124m\"\u001b[39m\u001b[38;5;124mIPython won\u001b[39m\u001b[38;5;124m'\u001b[39m\u001b[38;5;124mt let you open fd=\u001b[39m\u001b[38;5;132;01m{\u001b[39;00mfile\u001b[38;5;132;01m}\u001b[39;00m\u001b[38;5;124m by default \u001b[39m\u001b[38;5;124m\"\u001b[39m\n\u001b[1;32m    278\u001b[0m         \u001b[38;5;124m\"\u001b[39m\u001b[38;5;124mas it is likely to crash IPython. If you know what you are doing, \u001b[39m\u001b[38;5;124m\"\u001b[39m\n\u001b[1;32m    279\u001b[0m         \u001b[38;5;124m\"\u001b[39m\u001b[38;5;124myou can use builtins\u001b[39m\u001b[38;5;124m'\u001b[39m\u001b[38;5;124m open.\u001b[39m\u001b[38;5;124m\"\u001b[39m\n\u001b[1;32m    280\u001b[0m     )\n\u001b[0;32m--> 282\u001b[0m \u001b[38;5;28;01mreturn\u001b[39;00m \u001b[43mio_open\u001b[49m\u001b[43m(\u001b[49m\u001b[43mfile\u001b[49m\u001b[43m,\u001b[49m\u001b[43m \u001b[49m\u001b[38;5;241;43m*\u001b[39;49m\u001b[43margs\u001b[49m\u001b[43m,\u001b[49m\u001b[43m \u001b[49m\u001b[38;5;241;43m*\u001b[39;49m\u001b[38;5;241;43m*\u001b[39;49m\u001b[43mkwargs\u001b[49m\u001b[43m)\u001b[49m\n",
      "\u001b[0;31mFileNotFoundError\u001b[0m: [Errno 2] No such file or directory: 'file1.txt'"
     ]
    }
   ],
   "source": [
    "try:\n",
    "    open('file1.txt', 'r')\n",
    "    content = f.read()\n",
    "finally:\n",
    "    print(\"I used this Finally to valid the input error\")"
   ]
  },
  {
   "cell_type": "markdown",
   "id": "d68ac6eb-25c3-43d0-b37d-034e23ae5234",
   "metadata": {},
   "source": [
    "### With Exception handling"
   ]
  },
  {
   "cell_type": "code",
   "execution_count": 66,
   "id": "0f662f96-9709-4ce4-8e84-1d208069e5e5",
   "metadata": {},
   "outputs": [
    {
     "name": "stdout",
     "output_type": "stream",
     "text": [
      "[Errno 2] No such file or directory: 'file1.txt'\n"
     ]
    }
   ],
   "source": [
    "try:\n",
    "    a = open('file1.txt', 'r')\n",
    "    a.read()\n",
    "except Exception as e:\n",
    "    print(e)"
   ]
  },
  {
   "cell_type": "markdown",
   "id": "843c8b8c-16a8-4f3d-abe9-0af760c2b0d1",
   "metadata": {},
   "source": [
    "# Q3. Which Python statements are used to catch and handle exceptions?Explain with an example."
   ]
  },
  {
   "cell_type": "markdown",
   "id": "155c4d3d-7226-46ab-9bdf-8c33a8cf5575",
   "metadata": {},
   "source": [
    "The try and except statements are used in Python to catch and handle exceptions."
   ]
  },
  {
   "cell_type": "code",
   "execution_count": 25,
   "id": "565f5607-01f3-4a21-a637-50f0a7fc027b",
   "metadata": {},
   "outputs": [
    {
     "name": "stdout",
     "output_type": "stream",
     "text": [
      "Result is 5.0\n",
      "Exiting function\n",
      "\n",
      "Error: Division by zero\n",
      "\n",
      "Exiting function\n",
      "\n",
      "Exiting function\n",
      "\n"
     ]
    },
    {
     "ename": "TypeError",
     "evalue": "unsupported operand type(s) for /: 'str' and 'str'",
     "output_type": "error",
     "traceback": [
      "\u001b[0;31m---------------------------------------------------------------------------\u001b[0m",
      "\u001b[0;31mTypeError\u001b[0m                                 Traceback (most recent call last)",
      "Cell \u001b[0;32mIn[25], line 17\u001b[0m\n\u001b[1;32m     13\u001b[0m divide(\u001b[38;5;241m10\u001b[39m, \u001b[38;5;241m2\u001b[39m)      \u001b[38;5;66;03m# Output: Result is 5.0 \\n Exiting function\u001b[39;00m\n\u001b[1;32m     15\u001b[0m divide(\u001b[38;5;241m5\u001b[39m, \u001b[38;5;241m0\u001b[39m)       \u001b[38;5;66;03m# Output: Error: Division by zero \\n Exiting function\u001b[39;00m\n\u001b[0;32m---> 17\u001b[0m \u001b[43mdivide\u001b[49m\u001b[43m(\u001b[49m\u001b[38;5;124;43m\"\u001b[39;49m\u001b[38;5;124;43ma\u001b[39;49m\u001b[38;5;124;43m\"\u001b[39;49m\u001b[43m,\u001b[49m\u001b[43m \u001b[49m\u001b[38;5;124;43m\"\u001b[39;49m\u001b[38;5;124;43mb\u001b[39;49m\u001b[38;5;124;43m\"\u001b[39;49m\u001b[43m)\u001b[49m   \u001b[38;5;66;03m# Output: Error: Invalid value \\n Exiting function\u001b[39;00m\n",
      "Cell \u001b[0;32mIn[25], line 3\u001b[0m, in \u001b[0;36mdivide\u001b[0;34m(x, y)\u001b[0m\n\u001b[1;32m      1\u001b[0m \u001b[38;5;28;01mdef\u001b[39;00m \u001b[38;5;21mdivide\u001b[39m(x, y):\n\u001b[1;32m      2\u001b[0m     \u001b[38;5;28;01mtry\u001b[39;00m:\n\u001b[0;32m----> 3\u001b[0m         result \u001b[38;5;241m=\u001b[39m \u001b[43mx\u001b[49m\u001b[43m \u001b[49m\u001b[38;5;241;43m/\u001b[39;49m\u001b[43m \u001b[49m\u001b[43my\u001b[49m\n\u001b[1;32m      4\u001b[0m     \u001b[38;5;28;01mexcept\u001b[39;00m \u001b[38;5;167;01mZeroDivisionError\u001b[39;00m:\n\u001b[1;32m      5\u001b[0m         \u001b[38;5;28mprint\u001b[39m(\u001b[38;5;124m\"\u001b[39m\u001b[38;5;124mError: Division by zero\u001b[39m\u001b[38;5;130;01m\\n\u001b[39;00m\u001b[38;5;124m\"\u001b[39m)\n",
      "\u001b[0;31mTypeError\u001b[0m: unsupported operand type(s) for /: 'str' and 'str'"
     ]
    }
   ],
   "source": [
    "def divide(x, y):\n",
    "    try:\n",
    "        result = x / y\n",
    "    except ZeroDivisionError:\n",
    "        print(\"Error: Division by zero\\n\")\n",
    "    except ValueError:\n",
    "        print(\"Error: Invalid value\")\n",
    "    else:\n",
    "        print(\"Result is\", result)\n",
    "    finally:\n",
    "        print(\"Exiting function\\n\")\n",
    "\n",
    "divide(10, 2)      # Output: Result is 5.0 \\n Exiting function\n",
    "\n",
    "divide(5, 0)       # Output: Error: Division by zero \\n Exiting function\n",
    "\n",
    "divide(\"a\", \"b\")   # Output: Error: Invalid value \\n Exiting function\n"
   ]
  },
  {
   "cell_type": "markdown",
   "id": "a06f76df-7899-4bc2-bb17-c149ca7a8626",
   "metadata": {},
   "source": [
    "# Q4. Explain with an example"
   ]
  },
  {
   "cell_type": "markdown",
   "id": "8d302564-1c7b-4606-a094-9ab05aac3d07",
   "metadata": {},
   "source": [
    "a. try and else\n",
    "\n",
    "b. finally\n",
    "\n",
    "c. raise"
   ]
  },
  {
   "cell_type": "markdown",
   "id": "b41f2a6e-8eaa-476f-a550-37f359e93227",
   "metadata": {},
   "source": [
    "The try holds the code that might raise an exception/error.\n",
    "\n",
    "The else block of code is executed if no errors were raised\n",
    "\n",
    "\n",
    "In this example, the try block contains the code to open the file \"file.txt\" and read its contents using a with statement. If the file is not found, a exception is raised, which is caught by the except block that prints an error message. If the file is found, the contents of the file are read and stored in the content variable. After the try block completes execution without any exceptions, the else block is executed, which prints the contents of the file."
   ]
  },
  {
   "cell_type": "code",
   "execution_count": 29,
   "id": "9e042073-cb7c-4bce-b6c6-f39a399351f7",
   "metadata": {},
   "outputs": [
    {
     "name": "stdout",
     "output_type": "stream",
     "text": [
      "The will excecute because there is no errors.\n"
     ]
    }
   ],
   "source": [
    "try:\n",
    "    with open('file.txt', 'r') as f:\n",
    "        content = f.read()\n",
    "except Exception as e:\n",
    "    print(e)\n",
    "else:\n",
    "    print(\"The will excecute because there is no errors.\")"
   ]
  },
  {
   "cell_type": "markdown",
   "id": "86af9697-d70d-4cd9-92ee-e0444990c45c",
   "metadata": {},
   "source": [
    "In Python, the finally block is used to specify a block of code that should be executed no matter what happens in the try and except blocks. The finally block is executed whether an exception is raised or not, and even if a return statement is executed inside the try or except block."
   ]
  },
  {
   "cell_type": "code",
   "execution_count": 33,
   "id": "8cf4abc9-0851-4f23-9b40-80f738ec52ff",
   "metadata": {},
   "outputs": [
    {
     "name": "stdout",
     "output_type": "stream",
     "text": [
      "The will excecute even though there is errors or no errors.\n"
     ]
    }
   ],
   "source": [
    "try:\n",
    "    f = open('file.txt', 'r')\n",
    "    f.read()\n",
    "except Exception as e:\n",
    "    print(e)\n",
    "finally:\n",
    "    f.close()\n",
    "    print(\"The will excecute even though there is errors or no errors.\")"
   ]
  },
  {
   "cell_type": "markdown",
   "id": "1adea238-9db1-424f-a708-90854ec234e1",
   "metadata": {},
   "source": [
    "In Python, the raise statement is used to raise an exception explicitly in a program. When a raise statement is executed, it immediately stops the execution of the program and transfers the control to the nearest exception handler that can catch the raised exception\n",
    "\n",
    "In this example, the divide function takes two arguments and returns the result of dividing the first argument by the second argument. If the second argument is zero, the function raises a ValueError exception with a message \"Cannot divide by zero\" using the raise statement. In the try block, the divide function is called with arguments 10 and 0, which raises a ValueError exception. The exception is caught by the except block, which prints the exception message. If the division is successful, the else block is executed, which prints the result."
   ]
  },
  {
   "cell_type": "code",
   "execution_count": 38,
   "id": "c05cf38c-63f8-4858-9ccd-6cfc98f953a1",
   "metadata": {},
   "outputs": [
    {
     "name": "stdout",
     "output_type": "stream",
     "text": [
      "Cannot divide by zero\n"
     ]
    }
   ],
   "source": [
    "def divide(a, b):\n",
    "    if b == 0:\n",
    "        raise ValueError(\"Cannot divide by zero\")\n",
    "    return a / b\n",
    "\n",
    "try:\n",
    "    result = divide(10, 0)\n",
    "except ValueError as e:\n",
    "    print(e)\n",
    "else:\n",
    "    print(result)"
   ]
  },
  {
   "cell_type": "markdown",
   "id": "a8c0619d-f902-46b1-8125-591ef1b739a0",
   "metadata": {},
   "source": [
    "# Q5. What are Custom Exceptions in python? Why do we need Custom Exceptions? Explain with an example"
   ]
  },
  {
   "cell_type": "markdown",
   "id": "bd8d236f-5ed8-4d2d-a1fc-3f9c1d0b86c4",
   "metadata": {},
   "source": [
    "In this example, a custom exception class InvalidInputError is defined by creating a new class that inherits from the built-in Exception class. The calculate_salary function takes two arguments: the number of hours worked and the hourly rate. If either argument is negative, the function raises an InvalidInputError exception with a message \"Invalid input. Hours worked and hourly rate must be positive.\" If the input is valid, the function calculates the salary and returns it. In the try block, the calculate_salary function is called with arguments -10 and 20, which raises an InvalidInputError exception. The exception is caught by the except block, which prints the exception message. If the input is valid, the else block is executed, which prints the calculated salary."
   ]
  },
  {
   "cell_type": "code",
   "execution_count": 59,
   "id": "747b9fc7-838c-4abb-81ca-ba18c4272274",
   "metadata": {},
   "outputs": [
    {
     "name": "stdin",
     "output_type": "stream",
     "text": [
      "Hours worked:  -10\n",
      "Hours rate:  20\n"
     ]
    },
    {
     "name": "stdout",
     "output_type": "stream",
     "text": [
      "Invalid input. Hours worked and hourly rate must be positive.\n"
     ]
    }
   ],
   "source": [
    "class InvalidInputError(Exception):\n",
    "    pass\n",
    "\n",
    "def calculate_salary(hours_worked, hourly_rate):\n",
    "    if hours_worked < 0 or hourly_rate < 0:\n",
    "        raise InvalidInputError(\"Invalid input. Hours worked and hourly rate must be positive.\")\n",
    "    else:\n",
    "        salary = hours_worked * hourly_rate\n",
    "        return salary\n",
    "\n",
    "try:\n",
    "    hours_worked = int(input(\"Hours worked: \"))\n",
    "    hourly_rate = int(input(\"Hours rate: \"))\n",
    "    salary = calculate_salary(hours_worked, hourly_rate)\n",
    "except InvalidInputError as e:\n",
    "    print(e)\n",
    "else:\n",
    "    print(\"Salary:\", salary)\n"
   ]
  },
  {
   "cell_type": "markdown",
   "id": "df3e5b53-3514-4353-baca-2d0ccb91fc45",
   "metadata": {},
   "source": [
    "# Q6. Create a custom exception class. Use this class to handle an exception."
   ]
  },
  {
   "cell_type": "code",
   "execution_count": 63,
   "id": "f677c9d9-8139-4654-b845-11f7af38fcef",
   "metadata": {},
   "outputs": [
    {
     "name": "stdout",
     "output_type": "stream",
     "text": [
      "Invalid email address\n"
     ]
    }
   ],
   "source": [
    "class InvalidEmailError(Exception):\n",
    "    pass\n",
    "\n",
    "def send_email(to, subject, body):\n",
    "    if \"@\" not in to:\n",
    "        raise InvalidEmailError(\"Invalid email address\")\n",
    "    # code to send email goes here\n",
    "    print(f\"Email sent to {to} with subject: {subject} and body: {body}\")\n",
    "\n",
    "try:\n",
    "    send_email(\"sandeep.gmail.com\", \"Test email\", \"This is a test email.\")\n",
    "except InvalidEmailError as e:\n",
    "    print(e)\n"
   ]
  }
 ],
 "metadata": {
  "kernelspec": {
   "display_name": "Python 3 (ipykernel)",
   "language": "python",
   "name": "python3"
  },
  "language_info": {
   "codemirror_mode": {
    "name": "ipython",
    "version": 3
   },
   "file_extension": ".py",
   "mimetype": "text/x-python",
   "name": "python",
   "nbconvert_exporter": "python",
   "pygments_lexer": "ipython3",
   "version": "3.10.8"
  }
 },
 "nbformat": 4,
 "nbformat_minor": 5
}
