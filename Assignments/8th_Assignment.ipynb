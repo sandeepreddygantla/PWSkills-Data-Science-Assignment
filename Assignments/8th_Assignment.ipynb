{
 "cells": [
  {
   "cell_type": "markdown",
   "id": "8c387dfa-cd88-4b22-b533-ccc1b1b4e224",
   "metadata": {},
   "source": [
    "# Q1. You are writing code for a company. The requirement of the company is that you create a python function that will check whether the password entered by the user is correct or not. The function should take the password as input and return the string “Valid Password” if the entered password follows the below-given password guidelines else it should return “Invalid Password”.\n",
    "\n",
    "Note: 1. The Password should contain at least two uppercase letters and at least two lowercase letters.\n",
    "\n",
    "2. The Password should contain at least a number and three special characters.\n",
    "\n",
    "3. The length of the password should be 10 characters long."
   ]
  },
  {
   "cell_type": "code",
   "execution_count": 2,
   "id": "6425ed40-dd88-4859-9223-a9b90dff8a39",
   "metadata": {},
   "outputs": [
    {
     "name": "stdin",
     "output_type": "stream",
     "text": [
      " SAndeep@#$98\n"
     ]
    },
    {
     "name": "stdout",
     "output_type": "stream",
     "text": [
      "Valid Password\n"
     ]
    }
   ],
   "source": [
    "def password_check(n):\n",
    "    \n",
    "    special_characters = \"!#$%&'()*+,-./:;<=>?@[\\]^_`{|}~\"\n",
    "    has_upper = 0\n",
    "    has_lower = 0\n",
    "    has_number = 0\n",
    "    has_special_chars = 0\n",
    "    \n",
    "    for i in n:\n",
    "        if i.isupper() == True:\n",
    "            has_upper += 1\n",
    "        if i.islower() == True:\n",
    "            has_lower += 1\n",
    "        if i.isnumeric() == True:\n",
    "            has_number += 1\n",
    "        if i in special_characters:\n",
    "            has_special_chars += 1\n",
    "    if has_upper >= 2 and has_lower >= 2 and has_number >= 1 and has_special_chars >= 3 and len(n) >= 10:\n",
    "        print(\"Valid Password\")\n",
    "    else:\n",
    "        print(\"InValid Password\")\n",
    "            \n",
    "pass_input = input()\n",
    "password_check(pass_input)"
   ]
  },
  {
   "cell_type": "markdown",
   "id": "71280b78-212b-4ace-8ce3-3e7f0e5b9bfa",
   "metadata": {},
   "source": [
    "# Q2. Solve the below-given questions using at least one of the following:\n",
    "1. Lambda function\n",
    "2. Filter function\n",
    "3. Zap function\n",
    "4. List Comprehension\n"
   ]
  },
  {
   "cell_type": "markdown",
   "id": "d26dacd9-5c3c-41a9-9298-974c9c069531",
   "metadata": {},
   "source": [
    "#### 1. Check if the string starts with a particular letter"
   ]
  },
  {
   "cell_type": "code",
   "execution_count": 3,
   "id": "4e0d51e4-f845-43a4-96f1-8e82c9814c42",
   "metadata": {},
   "outputs": [
    {
     "name": "stdin",
     "output_type": "stream",
     "text": [
      "Enter a String:  Sandeep\n",
      "Enter a Particular Letter you want to check:  S\n"
     ]
    },
    {
     "name": "stdout",
     "output_type": "stream",
     "text": [
      "The Name you Entered is Sandeep and the Letter you Entered is S:  True\n"
     ]
    }
   ],
   "source": [
    "string = str(input(\"Enter a String: \"))\n",
    "start = str(input(\"Enter a Particular Letter you want to check: \"))\n",
    "check_string = True if string.startswith(start) == True else False\n",
    "print(\"The Name you Entered is {} and the Letter you Entered is {}: \".format(string,start),check_string)"
   ]
  },
  {
   "cell_type": "markdown",
   "id": "ab3d24bb-b302-46c9-9e12-f1a3205bfb97",
   "metadata": {},
   "source": [
    "#### 2. Check if the string is numeric"
   ]
  },
  {
   "cell_type": "code",
   "execution_count": 4,
   "id": "1c6e0985-8ab4-4bc3-a014-5e8729abec6c",
   "metadata": {},
   "outputs": [
    {
     "name": "stdin",
     "output_type": "stream",
     "text": [
      " 2\n"
     ]
    },
    {
     "name": "stdout",
     "output_type": "stream",
     "text": [
      "The Input you have entered is 2 and it is Numeric\n"
     ]
    }
   ],
   "source": [
    "input_string = input()\n",
    "checked_string = 'Numeric' if input_string.isnumeric() else 'Not a numeric'\n",
    "print(\"The Input you have entered is {} and it is\".format(input_string),checked_string)"
   ]
  },
  {
   "cell_type": "markdown",
   "id": "78386c3f-37fb-4a76-bc28-12a5f6a17c24",
   "metadata": {},
   "source": [
    "#### 3. Sort a list of tuples having fruit names and their quantity. [(\"mango\",99),(\"orange\",80), (\"grapes\", 1000)]\n"
   ]
  },
  {
   "cell_type": "code",
   "execution_count": 5,
   "id": "7d58cdfb-2837-462e-b8de-414ee6d92bd3",
   "metadata": {},
   "outputs": [
    {
     "name": "stdout",
     "output_type": "stream",
     "text": [
      "[('orange', 80), ('mango', 99), ('grapes', 1000)]\n"
     ]
    }
   ],
   "source": [
    "list1 = [(\"mango\",99),(\"orange\",80), (\"grapes\", 1000)]\n",
    "sort_list = sorted(list1,key = lambda x: x[1])\n",
    "print(sort_list)"
   ]
  },
  {
   "cell_type": "markdown",
   "id": "76e95ac3-f271-4a45-9835-7f04f1ea38df",
   "metadata": {},
   "source": [
    "#### 4. Find the squares of numbers from 1 to 10"
   ]
  },
  {
   "cell_type": "code",
   "execution_count": 6,
   "id": "eb4beb44-f09c-4545-aed4-143334039010",
   "metadata": {},
   "outputs": [
    {
     "data": {
      "text/plain": [
       "[1, 4, 9, 16, 25, 36, 49, 64, 81, 100]"
      ]
     },
     "execution_count": 6,
     "metadata": {},
     "output_type": "execute_result"
    }
   ],
   "source": [
    "list2 = list(range(1,11))\n",
    "list(map(lambda x: x**2, list2))"
   ]
  },
  {
   "cell_type": "markdown",
   "id": "1c033d6e-3857-4270-8756-9ca882a75eaf",
   "metadata": {},
   "source": [
    "#### 5. Find the cube root of numbers from 1 to 10"
   ]
  },
  {
   "cell_type": "code",
   "execution_count": 7,
   "id": "2a1142dd-8a7e-4976-a5b4-bb8a40be4298",
   "metadata": {},
   "outputs": [
    {
     "data": {
      "text/plain": [
       "[1.0,\n",
       " 1.2599210498948732,\n",
       " 1.4422495703074083,\n",
       " 1.5874010519681994,\n",
       " 1.7099759466766968,\n",
       " 1.8171205928321397,\n",
       " 1.912931182772389,\n",
       " 2.0,\n",
       " 2.080083823051904,\n",
       " 2.154434690031884]"
      ]
     },
     "execution_count": 7,
     "metadata": {},
     "output_type": "execute_result"
    }
   ],
   "source": [
    "list2 = list(range(1,11))\n",
    "list(map(lambda x: x**(1/3), list2))"
   ]
  },
  {
   "cell_type": "markdown",
   "id": "f4025117-4b53-4758-ab3c-c2660455aea4",
   "metadata": {},
   "source": [
    "#### 6. Check if a given number is even"
   ]
  },
  {
   "cell_type": "code",
   "execution_count": 8,
   "id": "4ae3def7-e5e0-4373-8e20-2d0adcf93faa",
   "metadata": {},
   "outputs": [
    {
     "name": "stdin",
     "output_type": "stream",
     "text": [
      "Enter a Number to check it is a Even Number OR Not 4\n"
     ]
    },
    {
     "name": "stdout",
     "output_type": "stream",
     "text": [
      "The given number is 4 and it is Even Number\n"
     ]
    }
   ],
   "source": [
    "even = int(input(\"Enter a Number to check it is a Even Number OR Not\"))\n",
    "check = 'Even Number' if even % 2 == 0 else \"Not a Even Number\" \n",
    "print(\"The given number is {} and it is\".format(even),check)"
   ]
  },
  {
   "cell_type": "markdown",
   "id": "f9f0a654-844d-4a9f-b9bd-27ead89463f0",
   "metadata": {},
   "source": [
    "#### 7. Filter odd numbers from the given list.\n",
    "[1,2,3,4,5,6,7,8,9,10]"
   ]
  },
  {
   "cell_type": "code",
   "execution_count": 9,
   "id": "c7755559-d173-4d12-9577-e948ef960534",
   "metadata": {},
   "outputs": [
    {
     "data": {
      "text/plain": [
       "[1, 3, 5, 7, 9]"
      ]
     },
     "execution_count": 9,
     "metadata": {},
     "output_type": "execute_result"
    }
   ],
   "source": [
    "list3 = [1,2,3,4,5,6,7,8,9,10]\n",
    "list(filter(lambda x: x%2 != 0,list3))"
   ]
  },
  {
   "cell_type": "markdown",
   "id": "3aa937f5-774c-4d76-95a8-074665154b00",
   "metadata": {},
   "source": [
    "#### 8. Sort a list of integers into positive and negative integers lists.\n",
    "[1,2,3,4,5,6,-1,-2,-3,-4,-5,0]"
   ]
  },
  {
   "cell_type": "code",
   "execution_count": 10,
   "id": "23e26b4e-bae3-4e4c-ae5e-73418fa3f0cd",
   "metadata": {},
   "outputs": [
    {
     "name": "stdout",
     "output_type": "stream",
     "text": [
      "[[-1, -2, -3, -4, -5], [1, 2, 3, 4, 5, 6, 0]]\n"
     ]
    }
   ],
   "source": [
    "list4 = [1,2,3,4,5,6,-1,-2,-3,-4,-5,0]\n",
    "negative = [i for i in list4 if i < 0]\n",
    "positive = [i for i in list4 if i >= 0]\n",
    "list5 = [negative,positive]\n",
    "print(list5)"
   ]
  }
 ],
 "metadata": {
  "kernelspec": {
   "display_name": "Python 3 (ipykernel)",
   "language": "python",
   "name": "python3"
  },
  "language_info": {
   "codemirror_mode": {
    "name": "ipython",
    "version": 3
   },
   "file_extension": ".py",
   "mimetype": "text/x-python",
   "name": "python",
   "nbconvert_exporter": "python",
   "pygments_lexer": "ipython3",
   "version": "3.10.8"
  }
 },
 "nbformat": 4,
 "nbformat_minor": 5
}
