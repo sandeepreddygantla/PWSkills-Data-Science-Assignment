{
 "cells": [
  {
   "cell_type": "markdown",
   "id": "9e365e2d-8eac-4ff8-b78c-c7159facf3e0",
   "metadata": {},
   "source": [
    "# Q1. Create a python program to sort the given list of tuples based on integer value using a lambda function.\n",
    "[('Sachin Tendulkar', 34357), ('Ricky Ponting', 27483), ('Jack Kallis', 25534), ('Virat Kohli', 24936)]"
   ]
  },
  {
   "cell_type": "code",
   "execution_count": 22,
   "id": "2e0220ed-2f88-4c0e-9f27-b6683184d54c",
   "metadata": {},
   "outputs": [],
   "source": [
    "l1 = [('Sachin Tendulkar', 34357), ('Ricky Ponting', 27483), ('Jack Kallis', 25534), ('Virat Kohli', 24936)]\n",
    "sort_l1 = sorted(l1, key=lambda x: x[1])"
   ]
  },
  {
   "cell_type": "code",
   "execution_count": 21,
   "id": "f139895a-7b11-412e-960a-d3eb02e6be8b",
   "metadata": {},
   "outputs": [
    {
     "data": {
      "text/plain": [
       "[('Virat Kohli', 24936),\n",
       " ('Jack Kallis', 25534),\n",
       " ('Ricky Ponting', 27483),\n",
       " ('Sachin Tendulkar', 34357)]"
      ]
     },
     "execution_count": 21,
     "metadata": {},
     "output_type": "execute_result"
    }
   ],
   "source": [
    "sort_l1"
   ]
  },
  {
   "cell_type": "markdown",
   "id": "43967c7c-9f9c-4b81-b1b4-53ea43a7c8ed",
   "metadata": {},
   "source": [
    "# Q2. Write a Python Program to find the squares of all the numbers in the given list of integers using lambda and map functions.\n",
    "[1, 2, 3, 4, 5, 6, 7, 8, 9, 10]"
   ]
  },
  {
   "cell_type": "code",
   "execution_count": 25,
   "id": "a737fbf3-1c3f-4d11-97eb-d15940181e72",
   "metadata": {},
   "outputs": [
    {
     "data": {
      "text/plain": [
       "[1, 4, 9, 16, 25, 36, 49, 64, 81, 100]"
      ]
     },
     "execution_count": 25,
     "metadata": {},
     "output_type": "execute_result"
    }
   ],
   "source": [
    "squ_numbers = [1, 2, 3, 4, 5, 6, 7, 8, 9, 10]\n",
    "list(map(lambda x: x**2,squ_numbers))"
   ]
  },
  {
   "cell_type": "markdown",
   "id": "6d1ab80f-0b52-4e24-be9d-fe77336f2eb9",
   "metadata": {},
   "source": [
    "# Q3. Write a python program to convert the given list of integers into a tuple of strings. Use map and lambda functions\n",
    "Given String: [1, 2, 3, 4, 5, 6, 7, 8, 9, 10]\n",
    "\n",
    "Expected output: ('1', '2', '3', '4', '5', '6', '7', '8', '9', '10')"
   ]
  },
  {
   "cell_type": "code",
   "execution_count": 34,
   "id": "ab4a774f-e381-4852-94fd-9f2a17652937",
   "metadata": {},
   "outputs": [
    {
     "data": {
      "text/plain": [
       "('1', '2', '3', '4', '5', '6', '7', '8', '9', '10')"
      ]
     },
     "execution_count": 34,
     "metadata": {},
     "output_type": "execute_result"
    }
   ],
   "source": [
    "given_string = [1, 2, 3, 4, 5, 6, 7, 8, 9, 10]\n",
    "a = tuple(map(lambda x: str(x), given_string))\n",
    "a"
   ]
  },
  {
   "cell_type": "markdown",
   "id": "3892dcf9-7c93-4bb9-bb36-3049c2fadb20",
   "metadata": {},
   "source": [
    "# Write a python program using reduce function to compute the product of a list containing numbers from 1 to 25."
   ]
  },
  {
   "cell_type": "code",
   "execution_count": 49,
   "id": "6f7e78dd-aa14-415f-b523-0a997cfbea1d",
   "metadata": {},
   "outputs": [
    {
     "name": "stdout",
     "output_type": "stream",
     "text": [
      "Product of numbers from 1 to 25: 15511210043330985984000000\n"
     ]
    }
   ],
   "source": [
    "from functools import reduce\n",
    "product_list = [x for x in range(1,26)]\n",
    "\n",
    "product = reduce(lambda x,y : x*y, product_list)\n",
    "\n",
    "print(\"Product of numbers from 1 to 25: {}\".format(product))\n"
   ]
  },
  {
   "cell_type": "markdown",
   "id": "90322847-e1bc-484e-a0e9-75ae1ff479f2",
   "metadata": {},
   "source": [
    "# Q5. Write a python program to filter the numbers in a given list that are divisible by 2 and 3 using the filter function.\n",
    "[2, 3, 6, 9, 27, 60, 90, 120, 55, 46]"
   ]
  },
  {
   "cell_type": "code",
   "execution_count": 61,
   "id": "93d0079b-a4c4-4d89-b216-0c2b18eedfed",
   "metadata": {},
   "outputs": [
    {
     "data": {
      "text/plain": [
       "[55]"
      ]
     },
     "execution_count": 61,
     "metadata": {},
     "output_type": "execute_result"
    }
   ],
   "source": [
    "filter_list = [2, 3, 6, 9, 27, 60, 90, 120, 55, 46]\n",
    "list(filter(lambda x : x%2 and x % 3, filter_list))\n"
   ]
  },
  {
   "cell_type": "markdown",
   "id": "8b04d4a3-0ccf-46d4-84ce-aa277a83f702",
   "metadata": {},
   "source": [
    "# Q6. Write a python program to find palindromes in the given list of strings using lambda and filter function.\n",
    "['python', 'php', 'aba', 'radar', 'level']"
   ]
  },
  {
   "cell_type": "code",
   "execution_count": 84,
   "id": "6ba2b025-c26f-4676-b9c0-39045e395e5a",
   "metadata": {},
   "outputs": [
    {
     "data": {
      "text/plain": [
       "['php', 'aba', 'radar', 'level']"
      ]
     },
     "execution_count": 84,
     "metadata": {},
     "output_type": "execute_result"
    }
   ],
   "source": [
    "list1 = ['python', 'php', 'aba', 'radar', 'level']\n",
    "        \n",
    "list(filter(lambda x: x == x[::-1] ,list1))"
   ]
  },
  {
   "cell_type": "code",
   "execution_count": null,
   "id": "0a5facb3-1e25-417d-9692-f6aeebc2467a",
   "metadata": {},
   "outputs": [],
   "source": []
  },
  {
   "cell_type": "code",
   "execution_count": null,
   "id": "757255ef-63f3-469e-8d64-665eb486874b",
   "metadata": {},
   "outputs": [],
   "source": []
  }
 ],
 "metadata": {
  "kernelspec": {
   "display_name": "Python 3 (ipykernel)",
   "language": "python",
   "name": "python3"
  },
  "language_info": {
   "codemirror_mode": {
    "name": "ipython",
    "version": 3
   },
   "file_extension": ".py",
   "mimetype": "text/x-python",
   "name": "python",
   "nbconvert_exporter": "python",
   "pygments_lexer": "ipython3",
   "version": "3.10.8"
  }
 },
 "nbformat": 4,
 "nbformat_minor": 5
}
