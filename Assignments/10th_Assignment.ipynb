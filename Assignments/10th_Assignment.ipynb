{
 "cells": [
  {
   "cell_type": "markdown",
   "id": "c55579ba-ffb6-462d-b21b-6a62e9e34bd6",
   "metadata": {},
   "source": [
    "# Q1. Which function is used to open a file? What are the different modes of opening a file? Explain each mode of file opening."
   ]
  },
  {
   "cell_type": "markdown",
   "id": "e149a881-2cc5-40fe-84a0-2c74f058cfec",
   "metadata": {},
   "source": [
    "The open() function is used to open a file in Python. In Python, there are several modes for opening a file:\n",
    "\n",
    "'r' (Read Only): This mode is used when you only want to read from a file. It is the default mode in which a file is opened.\n",
    "\n",
    "'w' (Write Only): This mode is used when you only want to write to a file. If the file already exists, its contents are truncated. If the file doesn't exist, it is created.\n",
    "\n",
    "'a' (Append Only): This mode is used when you want to add new data to a file. If the file already exists, the data is appended to the end of the file. If the file doesn't exist, it is created.\n",
    "\n",
    "'x' (Exclusive Creation): This mode is used to create a new file. If the file already exists, the operation fails and an error is raised.\n",
    "\n",
    "'b' (Binary Mode): This mode is used to open a binary file. In this mode, the file is treated as a sequence of bytes.\n",
    "\n",
    "'t' (Text Mode): This mode is used to open a text file. In this mode, the file is treated as a sequence of characters. This is the default mode.\n",
    "\n",
    "'+' (Read and Write): This mode is used when you want to read and write to a file. The file pointer is placed at the beginning of the file."
   ]
  },
  {
   "cell_type": "markdown",
   "id": "56bedcef-c703-4191-a915-7525c09a9450",
   "metadata": {},
   "source": [
    "# Q2. Why close() function is used? Why is it important to close a file?"
   ]
  },
  {
   "cell_type": "markdown",
   "id": "104be2c4-d7c9-4c6e-97db-c50624bef286",
   "metadata": {},
   "source": [
    "The close() function is used in Python to close an open file. \n",
    "\n",
    "It is important to close a file after it has been used to release system resources and prevent data corruption. When a file is opened, the operating system allocates resources for it, such as memory and file handles. If a file remains open for an extended period of time, these resources can be depleted, leading to performance problems and potential data corruption. Additionally, if a file is not properly closed, any changes made to the file may not be saved. Therefore, it is a good practice to close a file after it has been used, to ensure that system resources are released and changes are saved."
   ]
  },
  {
   "cell_type": "markdown",
   "id": "036aa856-31ee-4910-8fd7-268327eec1a9",
   "metadata": {},
   "source": [
    "# Q3. Write a python program to create a text file. Write ‘I want to become a Data Scientist’ in that file. Then close the file. Open this file and read the content of the file."
   ]
  },
  {
   "cell_type": "code",
   "execution_count": 30,
   "id": "35fb7158-5f63-470a-984f-816d6ed7be6a",
   "metadata": {},
   "outputs": [],
   "source": [
    "# open the file in write mode (creates the file)\n",
    "file_name = \"text_file.txt\"\n",
    "\n",
    "#write contents in the file\n",
    "with open(file_name,\"w\") as file:\n",
    "    file.write('I want to become a Data Scientist.')\n",
    "\n",
    "#close the file\n",
    "file.close()"
   ]
  },
  {
   "cell_type": "code",
   "execution_count": 31,
   "id": "bca18582-a620-4bdf-a229-70e2bf389e30",
   "metadata": {},
   "outputs": [
    {
     "name": "stdout",
     "output_type": "stream",
     "text": [
      "I want to become a Data Scientist.\n"
     ]
    }
   ],
   "source": [
    "#read contents in the file\n",
    "with open(file_name, \"r\") as file1:\n",
    "    opening_file = file1.read()\n",
    "\n",
    "# display contents of the file\n",
    "print(opening_file)\n",
    "\n",
    "#close the file\n",
    "file1.close()"
   ]
  },
  {
   "cell_type": "markdown",
   "id": "842cb1b1-c89b-4489-a3e3-f2e9b0772198",
   "metadata": {},
   "source": [
    "# Q4. Explain the following with python code: read(), readline() and readlines()."
   ]
  },
  {
   "cell_type": "markdown",
   "id": "f6a2b1cb-98e9-43b9-8e27-a5f475b93ccc",
   "metadata": {},
   "source": [
    "read(): It is a method in Python to read the complete file as a string. The function reads the entire file content in a single read operation and returns it as a string."
   ]
  },
  {
   "cell_type": "code",
   "execution_count": 32,
   "id": "b4bd0aa8-d709-4ad5-8531-84b765dc3ae3",
   "metadata": {},
   "outputs": [
    {
     "name": "stdout",
     "output_type": "stream",
     "text": [
      "I want to become a Data Scientist\n",
      "I want to become a Machine Learning Engineer\n",
      "I want to become a Data analyst\n"
     ]
    }
   ],
   "source": [
    "file = open(\"file.txt\", \"r\")\n",
    "print(file.read())\n",
    "file.close()"
   ]
  },
  {
   "cell_type": "markdown",
   "id": "d58156a1-e3e8-4137-86dd-428506616513",
   "metadata": {},
   "source": [
    "readline(): It is a method in Python to read a single line from the file. It reads the file line by line and returns a string which contains the current line. The function can be used in a loop to read all the lines of the file. "
   ]
  },
  {
   "cell_type": "code",
   "execution_count": 33,
   "id": "ea32dc01-3ec3-40c9-9b39-afc6f9efe9cd",
   "metadata": {},
   "outputs": [
    {
     "name": "stdout",
     "output_type": "stream",
     "text": [
      "I want to become a Data Scientist\n",
      "\n"
     ]
    }
   ],
   "source": [
    "file = open(\"file.txt\", \"r\")\n",
    "print(file.readline())\n",
    "file.close()"
   ]
  },
  {
   "cell_type": "markdown",
   "id": "ae565480-c0ae-47b4-bb5e-05817f42f473",
   "metadata": {},
   "source": [
    "readlines(): It is a method in Python to read all the lines of the file as a list of strings, where each line of the file is stored as a separate element of the list. "
   ]
  },
  {
   "cell_type": "code",
   "execution_count": 34,
   "id": "feb2113b-9715-409b-bda4-9c636f60b835",
   "metadata": {},
   "outputs": [
    {
     "name": "stdout",
     "output_type": "stream",
     "text": [
      "['I want to become a Data Scientist\\n', 'I want to become a Machine Learning Engineer\\n', 'I want to become a Data analyst']\n"
     ]
    }
   ],
   "source": [
    "file = open(\"file.txt\", \"r\")\n",
    "print(file.readlines())\n",
    "file.close()"
   ]
  },
  {
   "cell_type": "code",
   "execution_count": 1,
   "id": "c97fa4fd-c5eb-493a-8e88-87063c8db5c9",
   "metadata": {},
   "outputs": [
    {
     "name": "stdout",
     "output_type": "stream",
     "text": [
      "I want to become a Data Scientist\n",
      "\n",
      "I want to become a Machine Learning Engineer\n",
      "\n",
      "I want to become a Data analyst\n"
     ]
    }
   ],
   "source": [
    "file = open(\"file.txt\", \"r\")  \n",
    "lines = file.readlines()       \n",
    "for line in lines:               \n",
    "    print(line)                   \n",
    "file.close()\n"
   ]
  },
  {
   "cell_type": "markdown",
   "id": "1ba354f9-958d-4e32-a214-d3266481c9a7",
   "metadata": {},
   "source": [
    "# Q5. Explain why with statement is used with open(). What is the advantage of using with statement and open() together?"
   ]
  },
  {
   "cell_type": "markdown",
   "id": "372229fa-3000-4b2c-ab18-65d1b79d4e91",
   "metadata": {},
   "source": [
    "The with statement in Python is used to manage the execution of a block of code that requires setup and cleanup actions. When used with the open function, the with statement automatically takes care of closing the file once the code block is finished, even if an exception is raised.\n",
    "\n",
    "The advantage of using the with statement with open is that it makes sure that the file is properly closed, even if an exception occurs, without having to use a try-except block. This can be particularly useful when working with large files, as it helps to avoid resource leaks. Additionally, it can make the code cleaner and easier to read, since it eliminates the need to explicitly close the file at the end of the code block."
   ]
  },
  {
   "cell_type": "markdown",
   "id": "5356d800-2ef8-47ec-911d-94c203e915ec",
   "metadata": {},
   "source": [
    "# Q6. Explain the write() and writelines() functions. Give a suitable example."
   ]
  },
  {
   "cell_type": "markdown",
   "id": "27f6c774-04d9-4c57-93cb-f1f8d7045c2e",
   "metadata": {},
   "source": [
    "The write() function is used to write a string to a text file. The string to be written is passed as an argument to the write() function. The write() function returns the number of characters written to the file."
   ]
  },
  {
   "cell_type": "code",
   "execution_count": 26,
   "id": "e47291bd-a320-4346-8a1b-5a2d8556a474",
   "metadata": {},
   "outputs": [
    {
     "name": "stdout",
     "output_type": "stream",
     "text": [
      "Hello, World!\n"
     ]
    }
   ],
   "source": [
    "# Open a file for writing\n",
    "file = open(\"write.txt\", \"w\",)\n",
    "\n",
    "# Write a string to the file\n",
    "file.write(\"Hello, World!\")\n",
    "\n",
    "with open(\"write.txt\", 'r') as file:\n",
    "    f = file.read()\n",
    "    print(f)"
   ]
  },
  {
   "cell_type": "markdown",
   "id": "30c86e6e-2243-418d-8795-4b07951053bb",
   "metadata": {},
   "source": [
    "The writelines() function is used to write a list of strings to a text file. The list of strings is passed as an argument to the writelines() function"
   ]
  },
  {
   "cell_type": "code",
   "execution_count": 9,
   "id": "b8b0a80a-7037-4962-9e16-c3800161843e",
   "metadata": {},
   "outputs": [],
   "source": [
    "# A list of strings\n",
    "lines = [\"Hello, World! \", \"I am a Data Scientist.\"]\n",
    "\n",
    "# Open a file for writing\n",
    "file = open(\"write.txt\", \"w\")\n",
    "\n",
    "# Write the list of strings to the file\n",
    "file.writelines(lines)\n",
    "\n",
    "# Close the file\n",
    "file.close()"
   ]
  },
  {
   "cell_type": "code",
   "execution_count": 12,
   "id": "5989db14-4209-4ae8-b49a-31dec6960a1d",
   "metadata": {},
   "outputs": [
    {
     "name": "stdout",
     "output_type": "stream",
     "text": [
      "Hello, World! I am a Data Scientist.\n"
     ]
    }
   ],
   "source": [
    "with open(\"write.txt\", 'r') as file:\n",
    "    f = file.read()\n",
    "    print(f)"
   ]
  }
 ],
 "metadata": {
  "kernelspec": {
   "display_name": "Python 3 (ipykernel)",
   "language": "python",
   "name": "python3"
  },
  "language_info": {
   "codemirror_mode": {
    "name": "ipython",
    "version": 3
   },
   "file_extension": ".py",
   "mimetype": "text/x-python",
   "name": "python",
   "nbconvert_exporter": "python",
   "pygments_lexer": "ipython3",
   "version": "3.10.8"
  }
 },
 "nbformat": 4,
 "nbformat_minor": 5
}
