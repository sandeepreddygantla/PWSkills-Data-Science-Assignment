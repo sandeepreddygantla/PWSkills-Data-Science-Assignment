{
 "cells": [
  {
   "cell_type": "markdown",
   "id": "d821c3c2-4d78-461b-9e30-86cd43dae2fd",
   "metadata": {},
   "source": [
    "# Q1. Create a function which will take a list as an argument and return the product of all the numbers after creating a flat list. Use the below-given list as an argument for your function.\n",
    "\n",
    "list1 = [1,2,3,4, [44,55,66, True], False, (34,56,78,89,34), {1,2,3,3,2,1}, {1:34, \"key2\": [55, 67, 78, 89], 4: (45,\n",
    "22, 61, 34)}, [56, 'data science'], 'Machine Learning']\n",
    "\n",
    "Note: you must extract numeric keys and values of the dictionary also."
   ]
  },
  {
   "cell_type": "code",
   "execution_count": 64,
   "id": "9fcfe39d-5be0-4196-b41e-8c32cee33c69",
   "metadata": {},
   "outputs": [
    {
     "name": "stdout",
     "output_type": "stream",
     "text": [
      "Flat List:  [1, 2, 3, 4, 44, 55, 66, 34, 56, 78, 89, 34, 1, 2, 3, 1, 4, 34, 55, 67, 78, 89, 45, 22, 61, 34, 56]\n",
      "Product of all the numbers:  4134711838987085478833841242112000\n"
     ]
    }
   ],
   "source": [
    "list1 = [1,2,3,4,[44,55,66,True],False,(34,56,78,89,34),{1,2,3,3,2,1},{1:34,'key2':[55,67,78,89],4:(45,22,61,34)},[56,'data science'],'Machine Learning']\n",
    "\n",
    "from functools import reduce\n",
    "\n",
    "def func(l):\n",
    "    list2 = []\n",
    "    for i in l:\n",
    "        if type(i) == int or type(i) == float:\n",
    "            list2.append(i)\n",
    "        elif type(i) == tuple or type(i) == list or type(i) == set:\n",
    "            list2.extend(func(i))\n",
    "        elif type(i) == dict:\n",
    "            for key in i.keys():\n",
    "                if type(key)==int or type(key)==float:\n",
    "                    list2.append(key)\n",
    "            for value in i.values():\n",
    "                if type(value)==int or type(value)==float:\n",
    "                    list2.append(value)\n",
    "                elif type(value)==list or type(value)==tuple or type(value)==set:\n",
    "                    list2.extend(func(value))\n",
    "    return list2\n",
    "\n",
    "flat_list=func(list1)\n",
    "product = reduce(lambda x,y : x*y, flat_list)\n",
    "print('Flat List: ', flat_list)\n",
    "print('Product of all the numbers: ',product)\n"
   ]
  },
  {
   "cell_type": "markdown",
   "id": "96daa31f-5a56-428d-b003-ffc7840ff0df",
   "metadata": {},
   "source": [
    "# Q2. Write a python program for encrypting a message sent to you by your friend. The logic of encryption should be such that, for a the output should be z. For b, the output should be y. For c, the output should be x respectively. Also, the whitespace should be replaced with a dollar sign. Keep the punctuation marks unchanged.\n",
    "\n",
    "Input Sentence: I want to become a Data Scientist.\n",
    "\n",
    "Encrypt the above input sentence using the program you just created.\n",
    "\n",
    "Note: Convert the given input sentence into lowercase before encrypting. The final output should be\n",
    "lowercase."
   ]
  },
  {
   "cell_type": "markdown",
   "id": "13e7e34a-c471-43e7-8dfd-8e632afd350b",
   "metadata": {},
   "source": [
    "## Encryption"
   ]
  },
  {
   "cell_type": "code",
   "execution_count": 11,
   "id": "6d9c01c2-cb92-4eb2-9c6a-01880092cb55",
   "metadata": {},
   "outputs": [
    {
     "name": "stdout",
     "output_type": "stream",
     "text": [
      "i$wznt$to$yexome$z$dztz$sxientist.\n"
     ]
    }
   ],
   "source": [
    "string ='I want to become a Data Scientist.'\n",
    "encryped =string.lower().replace('a','z').replace('b','y').replace('c','x').replace(' ','$')\n",
    "print(encryped)"
   ]
  },
  {
   "cell_type": "markdown",
   "id": "a490f953-5c01-47da-9112-3f14f36758c9",
   "metadata": {},
   "source": [
    "## Decryption"
   ]
  },
  {
   "cell_type": "code",
   "execution_count": 12,
   "id": "9e016345-21b7-4f8e-8008-288125cd7650",
   "metadata": {},
   "outputs": [
    {
     "name": "stdout",
     "output_type": "stream",
     "text": [
      "i want to become a data scientist.\n"
     ]
    }
   ],
   "source": [
    "decrypted =encryped.replace('z','a').replace('y','b').replace('x','c').replace('$',' ')\n",
    "print(decrypted)"
   ]
  },
  {
   "cell_type": "markdown",
   "id": "a7b8b3dc-51d6-4e0a-8adc-5314958b77f0",
   "metadata": {},
   "source": [
    "## Another method of encryption"
   ]
  },
  {
   "cell_type": "code",
   "execution_count": 65,
   "id": "c11420f3-f4f2-417a-b51d-ce2a0d16f0a6",
   "metadata": {},
   "outputs": [
    {
     "name": "stdout",
     "output_type": "stream",
     "text": [
      "Encrypted Message:  r$dzmg$gl$yvxlnv$z$wzgz$hxrvmgrhg.\n"
     ]
    }
   ],
   "source": [
    "def encrypt_message(sentence):\n",
    "    encrypted_sentence = \"\"\n",
    "    for char in sentence:\n",
    "        if char.isalpha():\n",
    "            encrypted_char = chr(122 - ord(char.lower()) + 97)\n",
    "            encrypted_sentence += encrypted_char\n",
    "        elif char.isspace():\n",
    "            encrypted_sentence += \"$\"\n",
    "        else:\n",
    "            encrypted_sentence += char\n",
    "            return encrypted_sentence\n",
    "\n",
    "input_sentence = \"I want to become a Data Scientist.\"\n",
    "encrypted_message = encrypt_message(input_sentence)\n",
    "print(\"Encrypted Message: \", encrypted_message)\n"
   ]
  },
  {
   "cell_type": "code",
   "execution_count": 95,
   "id": "0f397c21-d787-4c69-82db-9832ddc0ab45",
   "metadata": {},
   "outputs": [
    {
     "data": {
      "text/plain": [
       "'r$dzmg$gl$yvxlnv$z$wzgz$hxrvmgrhg.'"
      ]
     },
     "execution_count": 95,
     "metadata": {},
     "output_type": "execute_result"
    }
   ],
   "source": [
    "text = \"I want to become a Data Scientist.\"\n",
    "text = text.lower()\n",
    "alphabets = str.maketrans('abcdefghijklmnopqrstuvwxyz','zyxwvutsrqponmlkjihgfedcba')\n",
    "encrypt = text.translate(alphabets)\n",
    "encrypt = encrypt.replace(' ','$')\n",
    "encrypt"
   ]
  }
 ],
 "metadata": {
  "kernelspec": {
   "display_name": "Python 3 (ipykernel)",
   "language": "python",
   "name": "python3"
  },
  "language_info": {
   "codemirror_mode": {
    "name": "ipython",
    "version": 3
   },
   "file_extension": ".py",
   "mimetype": "text/x-python",
   "name": "python",
   "nbconvert_exporter": "python",
   "pygments_lexer": "ipython3",
   "version": "3.10.8"
  }
 },
 "nbformat": 4,
 "nbformat_minor": 5
}
